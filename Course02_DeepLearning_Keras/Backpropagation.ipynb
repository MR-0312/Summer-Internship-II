{
 "cells": [
  {
   "cell_type": "markdown",
   "id": "d11aed0d-b59c-4c15-b005-07f6f0e2f606",
   "metadata": {},
   "source": [
    "# BackPropagation"
   ]
  },
  {
   "cell_type": "markdown",
   "id": "b8783e34-0eec-49d3-834b-2f006f120380",
   "metadata": {},
   "source": [
    "Backpropagation is the key algorithm used for training neural networks, allowing them to learn from data. It is based on the gradient descent optimization technique and works by iteratively adjusting the weights and biases of the network to minimize the error between the predicted and actual outputs."
   ]
  },
  {
   "cell_type": "code",
   "execution_count": 1,
   "id": "2c80e4ac-0092-4708-ab57-7930c763fdcd",
   "metadata": {},
   "outputs": [],
   "source": [
    "#!pip install numpy==1.26.4\n",
    "#!pip install matplotlib==3.5.2"
   ]
  },
  {
   "cell_type": "markdown",
   "id": "86ae86ef-5f63-4eba-9513-87fa46a9f5a5",
   "metadata": {},
   "source": [
    "## Import Required Libraries\n"
   ]
  },
  {
   "cell_type": "code",
   "execution_count": 2,
   "id": "0fdbbe01-fb5f-445f-b0b2-c86b2e3c328a",
   "metadata": {},
   "outputs": [],
   "source": [
    "# Importing the required library\n",
    "import numpy as np\n",
    "import matplotlib.pyplot as plt"
   ]
  },
  {
   "cell_type": "markdown",
   "id": "692bf257-2f19-4617-8848-c4e1e4997dd8",
   "metadata": {},
   "source": [
    "## Initialize Inputs\n",
    "Define the input and expected output for a XOR gate problem"
   ]
  },
  {
   "cell_type": "code",
   "execution_count": 3,
   "id": "2884ee5c-b824-4b74-a2b9-302e9d16ac8b",
   "metadata": {},
   "outputs": [],
   "source": [
    "# Defining inputs and expected output (XOR truth table)\n",
    "X = np.array([[0, 0], [0, 1], [1, 0], [1, 1]]).T  # 2x4 matrix, each column is a training example\n",
    "d = np.array([0, 1, 1, 0])  # Expected output for XOR"
   ]
  },
  {
   "cell_type": "markdown",
   "id": "4eb35b18-d061-481b-8147-f5618463b137",
   "metadata": {},
   "source": [
    "# Declare the network parameters & the weights\n",
    "\n",
    "Define the network parameters such as\n",
    "1. number of input neurons\n",
    "2. hidden layer neurons\n",
    "3. output neurons\n",
    "4. learning rate\n",
    "5. number of epochs\n",
    "\n",
    "Also, Declare the weights for the neurons. The initial weights are taken as random numbers which are then optimized by the backpropagation algorithm inside a function parameter `initialize_network_parameters()`\n"
   ]
  },
  {
   "cell_type": "code",
   "execution_count": 4,
   "id": "e1f7ab1e-5f3d-49a8-80a0-bbbeca9ca791",
   "metadata": {},
   "outputs": [],
   "source": [
    "def initialize_network_parameters():\n",
    "    # Network parameters\n",
    "    inputSize = 2      # Number of input neurons (x1, x2)\n",
    "    hiddenSize = 2     # Number of hidden neurons\n",
    "    outputSize = 1     # Number of output neurons\n",
    "    lr = 0.1           # Learning rate\n",
    "    epochs = 180000    # Number of training epochs\n",
    "\n",
    "    # Initialize weights and biases randomly within the range [-1, 1]\n",
    "    w1 = np.random.rand(hiddenSize, inputSize) * 2 - 1  # Weights from input to hidden layer\n",
    "    b1 = np.random.rand(hiddenSize, 1) * 2 - 1          # Bias for hidden layer\n",
    "    w2 = np.random.rand(outputSize, hiddenSize) * 2 - 1 # Weights from hidden to output layer\n",
    "    b2 = np.random.rand(outputSize, 1) * 2 - 1          # Bias for output layer\n",
    "\n",
    "    return w1, b1, w2, b2, lr, epochs\n"
   ]
  },
  {
   "cell_type": "markdown",
   "id": "4c53ab7e-fdc8-491f-8003-574339488205",
   "metadata": {},
   "source": [
    "## Training the Neural Network\n",
    "\n",
    "The neural network works in 5 stages: \n",
    "1. Forward pass\n",
    "    * The input **X** is multiplied by the weights **w1** and passed through the first layer, followed by the application of the sigmoid or ReLU activation function. This gives the output for the hidden layer.\n",
    "    * The output of the hidden layer is then passed through the second set of weights **w2** to compute the final output. Again, a sigmoid activation function is used to generate the final output **a2**.\n",
    "    \n",
    "2. Error calculation\n",
    "    * The error is computed as the difference between the expected output **(d)** and the actual output **(a2)**.\n",
    "3. Backward pass\n",
    "    * **Output Layer**: The derivative of the sigmoid activation function is applied to the error, producing the gradient for the output layer **(da2)**. This is used to calculate how much the weights in the output layer need to be adjusted.\n",
    "    * **Hidden Layer**: The error is then propagated backward to the hidden layer. The gradient at the hidden layer **(da1)** is computed by taking the dot product of the transpose of the weights **(w2.T)** and the gradient from the output layer. The derivative of the activation function (sigmoid or ReLU) is used to adjust this error.\n",
    "4. Weights and bias updates\n",
    "    * After computing the **gradients (dz1, dz2)**, the **weights (w1, w2)** and **biases (b1, b2)** are updated using the **learning rate (lr)** and **the gradients**. The updates are done to minimize the error and improve the model’s predictions.\n",
    "5. Training:\n",
    "    * This entire process is repeated over many iterations **(epochs)**. During each epoch, the model adjusts its weights and biases to reduce the error. Over time, the network learns to approximate the XOR function.\n",
    "Forward Pass:\n",
    "\n"
   ]
  },
  {
   "cell_type": "code",
   "execution_count": 5,
   "id": "725d6508-acf1-41c6-a2f5-85ad478979d7",
   "metadata": {},
   "outputs": [
    {
     "name": "stdout",
     "output_type": "stream",
     "text": [
      "Epoch: 9999, Average error: 0.05343\n",
      "Epoch: 19999, Average error: 0.03073\n",
      "Epoch: 29999, Average error: 0.02351\n",
      "Epoch: 39999, Average error: 0.01970\n",
      "Epoch: 49999, Average error: 0.01726\n",
      "Epoch: 59999, Average error: 0.01553\n",
      "Epoch: 69999, Average error: 0.01423\n",
      "Epoch: 79999, Average error: 0.01320\n",
      "Epoch: 89999, Average error: 0.01236\n",
      "Epoch: 99999, Average error: 0.01167\n",
      "Epoch: 109999, Average error: 0.01107\n",
      "Epoch: 119999, Average error: 0.01056\n",
      "Epoch: 129999, Average error: 0.01011\n",
      "Epoch: 139999, Average error: 0.00971\n",
      "Epoch: 149999, Average error: 0.00936\n",
      "Epoch: 159999, Average error: 0.00904\n",
      "Epoch: 169999, Average error: 0.00875\n",
      "Epoch: 179999, Average error: 0.00849\n"
     ]
    }
   ],
   "source": [
    "# Get initialized parameters\n",
    "w1, b1, w2, b2, lr, epochs = initialize_network_parameters()\n",
    "\n",
    "# Training the network using backpropagation\n",
    "error_list = []\n",
    "for epoch in range(epochs):\n",
    "    # Forward pass\n",
    "    z1 = np.dot(w1, X) + b1  # Weighted sum for hidden layer\n",
    "    a1 = 1 / (1 + np.exp(-z1))  # Sigmoid activation for hidden layer\n",
    "\n",
    "    z2 = np.dot(w2, a1) + b2  # Weighted sum for output layer\n",
    "    a2 = 1 / (1 + np.exp(-z2))  # Sigmoid activation for output layer\n",
    "\n",
    "    # Error calculation and backpropagation\n",
    "    error = d - a2  # Difference between expected and actual output\n",
    "    da2 = error * (a2 * (1 - a2))  # Derivative for output layer\n",
    "    dz2 = da2  # Gradient for output layer\n",
    "\n",
    "    # Propagate error to hidden layer\n",
    "    da1 = np.dot(w2.T, dz2)  # Gradient for hidden layer\n",
    "    dz1 = da1 * (a1 * (1 - a1))  # Derivative for hidden layer\n",
    "\n",
    "    # Update weights and biases\n",
    "    w2 += lr * np.dot(dz2, a1.T)  # Update weights from hidden to output layer\n",
    "    b2 += lr * np.sum(dz2, axis=1, keepdims=True)  # Update bias for output layer\n",
    "\n",
    "    w1 += lr * np.dot(dz1, X.T)  # Update weights from input to hidden layer\n",
    "    b1 += lr * np.sum(dz1, axis=1, keepdims=True)  # Update bias for hidden layer\n",
    "    if (epoch+1)%10000 == 0:\n",
    "        print(\"Epoch: %d, Average error: %0.05f\"%(epoch, np.average(abs(error))))\n",
    "        error_list.append(np.average(abs(error)))"
   ]
  },
  {
   "cell_type": "markdown",
   "id": "0d09c8ca-d1b7-4161-9d11-f6d0b383ddc3",
   "metadata": {},
   "source": [
    "## Testing the Network"
   ]
  },
  {
   "cell_type": "code",
   "execution_count": 6,
   "id": "e5021c41-be38-41b8-9782-7234c93267d2",
   "metadata": {},
   "outputs": [
    {
     "name": "stdout",
     "output_type": "stream",
     "text": [
      "Final output after training: [[0.00950755 0.99191244 0.99191287 0.00827569]]\n",
      "Ground truth [0 1 1 0]\n",
      "Error after training: [[-0.00950758  0.00808758  0.00808715 -0.00827572]]\n",
      "Average error: 0.00849\n"
     ]
    }
   ],
   "source": [
    "# Testing the trained network\n",
    "z1 = np.dot(w1, X) + b1  # Weighted sum for hidden layer\n",
    "a1 = 1 / (1 + np.exp(-z1))  # Sigmoid activation for hidden layer\n",
    "\n",
    "z2 = np.dot(w2, a1) + b2  # Weighted sum for output layer\n",
    "a2 = 1 / (1 + np.exp(-z2))  # Sigmoid activation for output layer\n",
    "\n",
    "# Print results\n",
    "print('Final output after training:', a2)\n",
    "print('Ground truth', d)\n",
    "print('Error after training:', error)\n",
    "print('Average error: %0.05f'%np.average(abs(error)))"
   ]
  },
  {
   "cell_type": "markdown",
   "id": "495deff4-45c7-4867-953a-1cbbf99688c2",
   "metadata": {},
   "source": [
    "## Plot the error"
   ]
  },
  {
   "cell_type": "code",
   "execution_count": 7,
   "id": "c183e6c1-9f03-4849-8a8e-941a490590c7",
   "metadata": {},
   "outputs": [
    {
     "data": {
      "image/png": "[encoded data removed]",
      "text/plain": [
       "<Figure size 640x480 with 1 Axes>"
      ]
     },
     "metadata": {},
     "output_type": "display_data"
    }
   ],
   "source": [
    "# Plot error\n",
    "plt.plot(error_list)\n",
    "plt.title('Error')\n",
    "plt.xlabel('Epochs')\n",
    "plt.ylabel('Error')\n",
    "plt.show()"
   ]
  },
  {
   "cell_type": "markdown",
   "id": "013f7b2a-eba6-4f46-8499-b8de40299f8e",
   "metadata": {},
   "source": [
    "# Practice exercise 1\n"
   ]
  },
  {
   "cell_type": "markdown",
   "id": "4b34a5bf-00be-47c8-9568-b07eb3b5d1e2",
   "metadata": {},
   "source": [
    "Implement backpropagation for **AND problem** using similar input as used for XOR problem above and plot the error\n"
   ]
  },
  {
   "cell_type": "code",
   "execution_count": 8,
   "id": "6f9ae094-9191-4c6b-bb00-946c7b16268e",
   "metadata": {},
   "outputs": [
    {
     "name": "stdout",
     "output_type": "stream",
     "text": [
      "Epoch: 9999, Average error: 0.02295\n",
      "Epoch: 19999, Average error: 0.01444\n",
      "Epoch: 29999, Average error: 0.01124\n",
      "Epoch: 39999, Average error: 0.00947\n",
      "Epoch: 49999, Average error: 0.00831\n",
      "Epoch: 59999, Average error: 0.00748\n",
      "Epoch: 69999, Average error: 0.00685\n",
      "Epoch: 79999, Average error: 0.00635\n",
      "Epoch: 89999, Average error: 0.00595\n",
      "Epoch: 99999, Average error: 0.00561\n",
      "Epoch: 109999, Average error: 0.00532\n",
      "Epoch: 119999, Average error: 0.00507\n",
      "Epoch: 129999, Average error: 0.00485\n",
      "Epoch: 139999, Average error: 0.00465\n",
      "Epoch: 149999, Average error: 0.00448\n",
      "Epoch: 159999, Average error: 0.00432\n",
      "Epoch: 169999, Average error: 0.00418\n",
      "Epoch: 179999, Average error: 0.00405\n",
      "\n",
      "Final output after training: [[1.89752700e-04 4.62880373e-03 4.55819399e-03 9.93163217e-01]]\n",
      "Ground truth [0 0 0 1]\n",
      "Error after training: [[-0.00018975 -0.00462882 -0.00455821  0.0068368 ]]\n",
      "Average error: 0.00405\n"
     ]
    },
    {
     "data": {
      "image/png": "[encoded data removed]",
      "text/plain": [
       "<Figure size 640x480 with 1 Axes>"
      ]
     },
     "metadata": {},
     "output_type": "display_data"
    }
   ],
   "source": [
    "X = np.array([[0, 0], [0, 1], [1, 0], [1, 1]]).T  # 2x4 matrix, each column is a training example\n",
    "d = np.array([0, 0, 0, 1])  # Expected output for AND\n",
    "\n",
    "# Get initialized parameters\n",
    "w1, b1, w2, b2, lr, epochs = initialize_network_parameters()\n",
    "\n",
    "# Training the network using backpropagation\n",
    "error_list = []\n",
    "for epoch in range(epochs):\n",
    "    # Forward pass\n",
    "    z1 = np.dot(w1, X) + b1  # Weighted sum for hidden layer\n",
    "    a1 = 1 / (1 + np.exp(-z1))  # Sigmoid activation for hidden layer\n",
    "\n",
    "    z2 = np.dot(w2, a1) + b2  # Weighted sum for output layer\n",
    "    a2 = 1 / (1 + np.exp(-z2))  # Sigmoid activation for output layer\n",
    "\n",
    "    # Error calculation and backpropagation\n",
    "    error = d - a2  # Difference between expected and actual output\n",
    "    da2 = error * (a2 * (1 - a2))  # Derivative for output layer\n",
    "    dz2 = da2  # Gradient for output layer\n",
    "\n",
    "    # Propagate error to hidden layer\n",
    "    da1 = np.dot(w2.T, dz2)  # Gradient for hidden layer\n",
    "    dz1 = da1 * (a1 * (1 - a1))  # Derivative for hidden layer\n",
    "\n",
    "    # Update weights and biases\n",
    "    w2 += lr * np.dot(dz2, a1.T)  # Update weights from hidden to output layer\n",
    "    b2 += lr * np.sum(dz2, axis=1, keepdims=True)  # Update bias for output layer\n",
    "\n",
    "    w1 += lr * np.dot(dz1, X.T)  # Update weights from input to hidden layer\n",
    "    b1 += lr * np.sum(dz1, axis=1, keepdims=True)  # Update bias for hidden layer\n",
    "    if (epoch+1)%10000 == 0:\n",
    "        print(\"Epoch: %d, Average error: %0.05f\"%(epoch, np.average(abs(error))))\n",
    "        error_list.append(np.average(abs(error)))\n",
    "\n",
    "\n",
    "# Testing the trained network\n",
    "z1 = np.dot(w1, X) + b1  # Weighted sum for hidden layer\n",
    "a1 = 1 / (1 + np.exp(-z1))  # Sigmoid activation for hidden layer\n",
    "\n",
    "z2 = np.dot(w2, a1) + b2  # Weighted sum for output layer\n",
    "a2 = 1 / (1 + np.exp(-z2))  # Sigmoid activation for output layer\n",
    "\n",
    "# Print results\n",
    "print('\\nFinal output after training:', a2)\n",
    "print('Ground truth', d)\n",
    "print('Error after training:', error)\n",
    "print('Average error: %0.05f'%np.average(abs(error)))\n",
    "\n",
    "# Plot error\n",
    "plt.plot(error_list)\n",
    "plt.title('Error')\n",
    "plt.xlabel('Epochs')\n",
    "plt.ylabel('Error')\n",
    "plt.show()"
   ]
  },
  {
   "cell_type": "markdown",
   "id": "404168b4-fa14-4e5b-afac-a89d2ffe3a5c",
   "metadata": {},
   "source": [
    "# Practice exercise 2\n"
   ]
  },
  {
   "cell_type": "markdown",
   "id": "56772158-659c-4d2c-ba08-186cc2ae25bb",
   "metadata": {},
   "source": [
    "Now, decrease the learning rate to 0.01 and increase the number of epochs to 1000000 and check the error for XOR gate\n"
   ]
  },
  {
   "cell_type": "code",
   "execution_count": 9,
   "id": "19fc3a30-165f-4067-a8cc-003598464b14",
   "metadata": {},
   "outputs": [
    {
     "name": "stdout",
     "output_type": "stream",
     "text": [
      "Epoch: 9999, Average error: 0.27894\n",
      "Epoch: 19999, Average error: 0.26586\n",
      "Epoch: 29999, Average error: 0.26187\n",
      "Epoch: 39999, Average error: 0.25981\n",
      "Epoch: 49999, Average error: 0.25851\n",
      "Epoch: 59999, Average error: 0.25760\n",
      "Epoch: 69999, Average error: 0.25692\n",
      "Epoch: 79999, Average error: 0.25639\n",
      "Epoch: 89999, Average error: 0.25596\n",
      "Epoch: 99999, Average error: 0.25560\n",
      "Epoch: 109999, Average error: 0.25530\n",
      "Epoch: 119999, Average error: 0.25504\n",
      "Epoch: 129999, Average error: 0.25481\n",
      "Epoch: 139999, Average error: 0.25461\n",
      "Epoch: 149999, Average error: 0.25443\n",
      "Epoch: 159999, Average error: 0.25427\n",
      "Epoch: 169999, Average error: 0.25413\n",
      "Epoch: 179999, Average error: 0.25400\n",
      "\n",
      "Final output after training: [[0.00756604 0.49988101 0.99184372 0.50015003]]\n",
      "Ground truth [0 1 1 0]\n",
      "Error after training: [[-0.00756607  0.50011899  0.0081563  -0.50015003]]\n",
      "Average error: 0.25400\n"
     ]
    },
    {
     "data": {
      "image/png": "[encoded data removed]",
      "text/plain": [
       "<Figure size 640x480 with 1 Axes>"
      ]
     },
     "metadata": {},
     "output_type": "display_data"
    }
   ],
   "source": [
    "lr = 0.01         # Learning rate\n",
    "epochs = 1000000   # Number of training epochs\n",
    "\n",
    "\n",
    "# Defining inputs and expected output (XOR truth table)\n",
    "X = np.array([[0, 0], [0, 1], [1, 0], [1, 1]]).T  # 2x4 matrix, each column is a training example\n",
    "d = np.array([0, 1, 1, 0])  # Expected output for XOR\n",
    "\n",
    "# Get initialized parameters\n",
    "w1, b1, w2, b2, lr, epochs = initialize_network_parameters()\n",
    "\n",
    "# Training the network using backpropagation\n",
    "error_list = []\n",
    "for epoch in range(epochs):\n",
    "    # Forward pass\n",
    "    z1 = np.dot(w1, X) + b1  # Weighted sum for hidden layer\n",
    "    a1 = 1 / (1 + np.exp(-z1))  # Sigmoid activation for hidden layer\n",
    "\n",
    "    z2 = np.dot(w2, a1) + b2  # Weighted sum for output layer\n",
    "    a2 = 1 / (1 + np.exp(-z2))  # Sigmoid activation for output layer\n",
    "\n",
    "    # Error calculation and backpropagation\n",
    "    error = d - a2  # Difference between expected and actual output\n",
    "    da2 = error * (a2 * (1 - a2))  # Derivative for output layer\n",
    "    dz2 = da2  # Gradient for output layer\n",
    "\n",
    "    # Propagate error to hidden layer\n",
    "    da1 = np.dot(w2.T, dz2)  # Gradient for hidden layer\n",
    "    dz1 = da1 * (a1 * (1 - a1))  # Derivative for hidden layer\n",
    "\n",
    "    # Update weights and biases\n",
    "    w2 += lr * np.dot(dz2, a1.T)  # Update weights from hidden to output layer\n",
    "    b2 += lr * np.sum(dz2, axis=1, keepdims=True)  # Update bias for output layer\n",
    "\n",
    "    w1 += lr * np.dot(dz1, X.T)  # Update weights from input to hidden layer\n",
    "    b1 += lr * np.sum(dz1, axis=1, keepdims=True)  # Update bias for hidden layer\n",
    "    if (epoch+1)%10000 == 0:\n",
    "        print(\"Epoch: %d, Average error: %0.05f\"%(epoch, np.average(abs(error))))\n",
    "        error_list.append(np.average(abs(error)))\n",
    "\n",
    "\n",
    "# Testing the trained network\n",
    "z1 = np.dot(w1, X) + b1  # Weighted sum for hidden layer\n",
    "a1 = 1 / (1 + np.exp(-z1))  # Sigmoid activation for hidden layer\n",
    "\n",
    "z2 = np.dot(w2, a1) + b2  # Weighted sum for output layer\n",
    "a2 = 1 / (1 + np.exp(-z2))  # Sigmoid activation for output layer\n",
    "\n",
    "# Print results\n",
    "print('\\nFinal output after training:', a2)\n",
    "print('Ground truth', d)\n",
    "print('Error after training:', error)\n",
    "print('Average error: %0.05f'%np.average(abs(error)))\n",
    "\n",
    "\n",
    "# Plot error\n",
    "plt.plot(error_list)\n",
    "plt.title('Error')\n",
    "plt.xlabel('Epochs')\n",
    "plt.ylabel('Error')\n",
    "plt.show()"
   ]
  },
  {
   "cell_type": "code",
   "execution_count": null,
   "metadata": {},
   "outputs": [],
   "source": []
  }
 ],
 "metadata": {
  "kernelspec": {
   "display_name": "Python 3",
   "language": "python",
   "name": "python3"
  },
  "language_info": {
   "codemirror_mode": {
    "name": "ipython",
    "version": 3
   },
   "file_extension": ".py",
   "mimetype": "text/x-python",
   "name": "python",
   "nbconvert_exporter": "python",
   "pygments_lexer": "ipython3",
   "version": "3.11.0"
  },
  "prev_pub_hash": "23c643c8c1aa843c3873f66d020bff9ca5df91f975ec512e5214e2cad5adc399"
 },
 "nbformat": 4,
 "nbformat_minor": 4
}
