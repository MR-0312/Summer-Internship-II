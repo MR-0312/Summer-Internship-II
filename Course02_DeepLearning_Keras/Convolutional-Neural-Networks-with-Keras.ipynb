{
 "cells": [
  {
   "cell_type": "markdown",
   "id": "6a259076-5a31-482e-b598-0138c6bfe11a",
   "metadata": {},
   "source": [
    "# Convolutional Neural Networks with Keras"
   ]
  },
  {
   "cell_type": "markdown",
   "id": "a2725718-c839-403f-8017-236d760c20c0",
   "metadata": {},
   "source": [
    "### Install the necessary libraries\n"
   ]
  },
  {
   "cell_type": "code",
   "execution_count": null,
   "id": "dc5e450c-e81e-42b1-a564-7d59bd960067",
   "metadata": {},
   "outputs": [],
   "source": [
    "# All Libraries required for this lab are listed below. The libraries need to be installed on Skills Network Labs. \n",
    "# If you run this notebook on a different environment, e.g. your desktop, you may want to install these.\n",
    "!pip install numpy==2.0.2\n",
    "!pip install pandas==2.2.2\n",
    "!pip install tensorflow_cpu==2.18.0\n",
    "!pip install matplotlib==3.9.2"
   ]
  },
  {
   "cell_type": "code",
   "execution_count": 1,
   "id": "c4d79a7c-6cbc-4b7c-8f6e-23c4d3dbec4f",
   "metadata": {},
   "outputs": [],
   "source": [
    "import os\n",
    "os.environ['TF_ENABLE_ONEDNN_OPTS'] = '0'\n",
    "os.environ['TF_CPP_MIN_LOG_LEVEL'] = '2'"
   ]
  },
  {
   "cell_type": "markdown",
   "id": "c8cb5959-7529-4024-aabe-711e02b1a573",
   "metadata": {},
   "source": [
    "## Import Keras and Packages\n"
   ]
  },
  {
   "cell_type": "code",
   "execution_count": 2,
   "id": "54f7f5de-dd4f-4160-97a7-41fc13358596",
   "metadata": {},
   "outputs": [],
   "source": [
    "import keras\n",
    "from keras.models import Sequential\n",
    "from keras.layers import Dense\n",
    "from keras.layers import Input\n",
    "from keras.utils import to_categorical"
   ]
  },
  {
   "cell_type": "code",
   "execution_count": 3,
   "id": "59965020-f741-41d0-8b70-00253641ff4c",
   "metadata": {},
   "outputs": [],
   "source": [
    "from keras.layers import Conv2D # to add convolutional layers\n",
    "from keras.layers import MaxPooling2D # to add pooling layers\n",
    "from keras.layers import Flatten # to flatten data for fully connected layers"
   ]
  },
  {
   "cell_type": "markdown",
   "id": "b4be0cd5-9e2a-44f7-a6de-1fdc46923fb4",
   "metadata": {},
   "source": [
    "## Convolutional Neural Network with One Set of Convolutional and Pooling Layers\n"
   ]
  },
  {
   "cell_type": "code",
   "execution_count": 4,
   "id": "21cd5320-20a6-4e90-89be-81af7990a4c5",
   "metadata": {},
   "outputs": [],
   "source": [
    "# import data\n",
    "from keras.datasets import mnist\n",
    "\n",
    "# load data\n",
    "(X_train, y_train), (X_test, y_test) = mnist.load_data()\n",
    "\n",
    "# reshape to be [samples][pixels][width][height]\n",
    "X_train = X_train.reshape(X_train.shape[0], 28, 28, 1).astype('float32')\n",
    "X_test = X_test.reshape(X_test.shape[0], 28, 28, 1).astype('float32')"
   ]
  },
  {
   "cell_type": "markdown",
   "id": "82a804cb-2ea6-4925-94a1-ef4ba5a2ef1d",
   "metadata": {},
   "source": [
    "Let's normalize the pixel values to be between 0 and 1\n"
   ]
  },
  {
   "cell_type": "code",
   "execution_count": 5,
   "id": "26b2fc47-fbfb-42ce-bfe7-d1cda99d4988",
   "metadata": {},
   "outputs": [],
   "source": [
    "X_train = X_train / 255 # normalize training data\n",
    "X_test = X_test / 255 # normalize test data"
   ]
  },
  {
   "cell_type": "markdown",
   "id": "58622fd9-b0ff-408c-baf5-4db94f8a0a97",
   "metadata": {},
   "source": [
    "Next, let's convert the target variable into binary categories\n"
   ]
  },
  {
   "cell_type": "code",
   "execution_count": 6,
   "id": "c01c40ef-75ba-4c87-954a-4f5ecef7b41f",
   "metadata": {},
   "outputs": [],
   "source": [
    "y_train = to_categorical(y_train)\n",
    "y_test = to_categorical(y_test)\n",
    "\n",
    "num_classes = y_test.shape[1] # number of categories"
   ]
  },
  {
   "cell_type": "markdown",
   "id": "2c42c05a-ae9e-44bc-ab58-5b5c55c6cc43",
   "metadata": {},
   "source": [
    "Next, let's define a function that creates our model. Let's start with one set of convolutional and pooling layers.\n"
   ]
  },
  {
   "cell_type": "code",
   "execution_count": 7,
   "id": "678716df-28c6-4944-872b-2ab253d7ea68",
   "metadata": {},
   "outputs": [],
   "source": [
    "def convolutional_model():\n",
    "    \n",
    "    # create model\n",
    "    model = Sequential()\n",
    "    model.add(Input(shape=(28, 28, 1)))\n",
    "    model.add(Conv2D(16, (5, 5), strides=(1, 1), activation='relu'))\n",
    "    model.add(MaxPooling2D(pool_size=(2, 2), strides=(2, 2)))\n",
    "    \n",
    "    model.add(Flatten())\n",
    "    model.add(Dense(100, activation='relu'))\n",
    "    model.add(Dense(num_classes, activation='softmax'))\n",
    "    \n",
    "    # compile model\n",
    "    model.compile(optimizer='adam', loss='categorical_crossentropy',  metrics=['accuracy'])\n",
    "    return model"
   ]
  },
  {
   "cell_type": "markdown",
   "id": "d94c41fa-0fae-482c-b4f5-0729d31569c2",
   "metadata": {},
   "source": [
    "Finally, let's call the function to create the model, and then let's train it and evaluate it.\n"
   ]
  },
  {
   "cell_type": "code",
   "execution_count": 8,
   "id": "095aa859-c641-4d6d-abb6-a1712a64f89b",
   "metadata": {},
   "outputs": [
    {
     "name": "stdout",
     "output_type": "stream",
     "text": [
      "Epoch 1/10\n",
      "300/300 - 6s - 19ms/step - accuracy: 0.9197 - loss: 0.2865 - val_accuracy: 0.9692 - val_loss: 0.1016\n",
      "Epoch 2/10\n",
      "300/300 - 5s - 17ms/step - accuracy: 0.9764 - loss: 0.0831 - val_accuracy: 0.9800 - val_loss: 0.0624\n",
      "Epoch 3/10\n",
      "300/300 - 4s - 14ms/step - accuracy: 0.9836 - loss: 0.0564 - val_accuracy: 0.9834 - val_loss: 0.0526\n",
      "Epoch 4/10\n",
      "300/300 - 5s - 17ms/step - accuracy: 0.9868 - loss: 0.0445 - val_accuracy: 0.9851 - val_loss: 0.0455\n",
      "Epoch 5/10\n",
      "300/300 - 5s - 18ms/step - accuracy: 0.9897 - loss: 0.0353 - val_accuracy: 0.9864 - val_loss: 0.0446\n",
      "Epoch 6/10\n",
      "300/300 - 5s - 18ms/step - accuracy: 0.9913 - loss: 0.0283 - val_accuracy: 0.9874 - val_loss: 0.0393\n",
      "Epoch 7/10\n",
      "300/300 - 5s - 18ms/step - accuracy: 0.9926 - loss: 0.0245 - val_accuracy: 0.9863 - val_loss: 0.0406\n",
      "Epoch 8/10\n",
      "300/300 - 5s - 18ms/step - accuracy: 0.9941 - loss: 0.0197 - val_accuracy: 0.9880 - val_loss: 0.0359\n",
      "Epoch 9/10\n",
      "300/300 - 5s - 18ms/step - accuracy: 0.9949 - loss: 0.0166 - val_accuracy: 0.9864 - val_loss: 0.0454\n",
      "Epoch 10/10\n",
      "300/300 - 6s - 21ms/step - accuracy: 0.9958 - loss: 0.0137 - val_accuracy: 0.9864 - val_loss: 0.0416\n",
      "Accuracy: 0.9864000082015991 \n",
      " Error: 1.359999179840088\n"
     ]
    }
   ],
   "source": [
    "# build the model\n",
    "model = convolutional_model()\n",
    "\n",
    "# fit the model\n",
    "model.fit(X_train, y_train, validation_data=(X_test, y_test), epochs=10, batch_size=200, verbose=2)\n",
    "\n",
    "# evaluate the model\n",
    "scores = model.evaluate(X_test, y_test, verbose=0)\n",
    "print(\"Accuracy: {} \\n Error: {}\".format(scores[1], 100-scores[1]*100))"
   ]
  },
  {
   "cell_type": "markdown",
   "id": "8346bc8d-b06d-4e59-ab6d-38ab51f7e3a2",
   "metadata": {},
   "source": [
    "## Convolutional Neural Network with Two Sets of Convolutional and Pooling Layers\n"
   ]
  },
  {
   "cell_type": "markdown",
   "id": "ed6adec1-b389-4d45-a94b-c3f378106a02",
   "metadata": {},
   "source": [
    "Let's redefine our convolutional model so that it has two convolutional and pooling layers instead of just one layer of each.\n"
   ]
  },
  {
   "cell_type": "code",
   "execution_count": 9,
   "id": "1238bc6e-7594-48f2-b239-83fd36c4838d",
   "metadata": {},
   "outputs": [],
   "source": [
    "def convolutional_model():\n",
    "    \n",
    "    # create model\n",
    "    model = Sequential()\n",
    "    model.add(Input(shape=(28, 28, 1)))\n",
    "    model.add(Conv2D(16, (5, 5), activation='relu'))\n",
    "    model.add(MaxPooling2D(pool_size=(2, 2), strides=(2, 2)))\n",
    "    \n",
    "    model.add(Conv2D(8, (2, 2), activation='relu'))\n",
    "    model.add(MaxPooling2D(pool_size=(2, 2), strides=(2, 2)))\n",
    "    \n",
    "    model.add(Flatten())\n",
    "    model.add(Dense(100, activation='relu'))\n",
    "    model.add(Dense(num_classes, activation='softmax'))\n",
    "    \n",
    "    # Compile model\n",
    "    model.compile(optimizer='adam', loss='categorical_crossentropy',  metrics=['accuracy'])\n",
    "    return model"
   ]
  },
  {
   "cell_type": "markdown",
   "id": "ad1e634f-0a4a-475b-95da-b6e322a83c46",
   "metadata": {},
   "source": [
    "Now, let's call the function to create our new convolutional neural network, and then let's train it and evaluate it.\n"
   ]
  },
  {
   "cell_type": "code",
   "execution_count": 10,
   "id": "3c0465aa-295a-49e7-92bb-050edb59e3df",
   "metadata": {},
   "outputs": [
    {
     "name": "stdout",
     "output_type": "stream",
     "text": [
      "Epoch 1/10\n",
      "300/300 - 8s - 26ms/step - accuracy: 0.8694 - loss: 0.4651 - val_accuracy: 0.9664 - val_loss: 0.1113\n",
      "Epoch 2/10\n",
      "300/300 - 7s - 23ms/step - accuracy: 0.9687 - loss: 0.1034 - val_accuracy: 0.9762 - val_loss: 0.0723\n",
      "Epoch 3/10\n",
      "300/300 - 7s - 23ms/step - accuracy: 0.9779 - loss: 0.0747 - val_accuracy: 0.9824 - val_loss: 0.0542\n",
      "Epoch 4/10\n",
      "300/300 - 7s - 24ms/step - accuracy: 0.9815 - loss: 0.0618 - val_accuracy: 0.9838 - val_loss: 0.0519\n",
      "Epoch 5/10\n",
      "300/300 - 7s - 24ms/step - accuracy: 0.9839 - loss: 0.0538 - val_accuracy: 0.9841 - val_loss: 0.0468\n",
      "Epoch 6/10\n",
      "300/300 - 7s - 22ms/step - accuracy: 0.9860 - loss: 0.0468 - val_accuracy: 0.9887 - val_loss: 0.0372\n",
      "Epoch 7/10\n",
      "300/300 - 7s - 22ms/step - accuracy: 0.9873 - loss: 0.0419 - val_accuracy: 0.9875 - val_loss: 0.0382\n",
      "Epoch 8/10\n",
      "300/300 - 7s - 22ms/step - accuracy: 0.9881 - loss: 0.0387 - val_accuracy: 0.9878 - val_loss: 0.0356\n",
      "Epoch 9/10\n",
      "300/300 - 7s - 22ms/step - accuracy: 0.9898 - loss: 0.0340 - val_accuracy: 0.9890 - val_loss: 0.0328\n",
      "Epoch 10/10\n",
      "300/300 - 7s - 23ms/step - accuracy: 0.9902 - loss: 0.0325 - val_accuracy: 0.9881 - val_loss: 0.0324\n",
      "Accuracy: 0.988099992275238 \n",
      " Error: 1.1900007724761963\n"
     ]
    }
   ],
   "source": [
    "# build the model\n",
    "model = convolutional_model()\n",
    "\n",
    "# fit the model\n",
    "model.fit(X_train, y_train, validation_data=(X_test, y_test), epochs=10, batch_size=200, verbose=2)\n",
    "\n",
    "# evaluate the model\n",
    "scores = model.evaluate(X_test, y_test, verbose=0)\n",
    "print(\"Accuracy: {} \\n Error: {}\".format(scores[1], 100-scores[1]*100))"
   ]
  },
  {
   "cell_type": "markdown",
   "id": "1461351b-e85e-431a-94f7-7a803ad091f0",
   "metadata": {},
   "source": [
    "<h3>Practice Exercise 1</h3>\n"
   ]
  },
  {
   "cell_type": "markdown",
   "id": "b552fc94-0831-4569-bc0e-c5b9b153b70d",
   "metadata": {},
   "source": [
    "Let's see how batch size affects the time required and accuracy of the model training. \n",
    "For this, you can try to change batch_size to 1024 and check it's effect on accuracy\n"
   ]
  },
  {
   "cell_type": "code",
   "execution_count": 11,
   "id": "f01355d9-0484-4b16-8419-fd6e64640806",
   "metadata": {},
   "outputs": [
    {
     "name": "stdout",
     "output_type": "stream",
     "text": [
      "Epoch 1/10\n",
      "59/59 - 6s - 96ms/step - accuracy: 0.6434 - loss: 1.3341 - val_accuracy: 0.8808 - val_loss: 0.4070\n",
      "Epoch 2/10\n",
      "59/59 - 5s - 85ms/step - accuracy: 0.9079 - loss: 0.3172 - val_accuracy: 0.9333 - val_loss: 0.2282\n",
      "Epoch 3/10\n",
      "59/59 - 5s - 87ms/step - accuracy: 0.9406 - loss: 0.2036 - val_accuracy: 0.9558 - val_loss: 0.1550\n",
      "Epoch 4/10\n",
      "59/59 - 5s - 88ms/step - accuracy: 0.9569 - loss: 0.1468 - val_accuracy: 0.9662 - val_loss: 0.1177\n",
      "Epoch 5/10\n",
      "59/59 - 5s - 85ms/step - accuracy: 0.9662 - loss: 0.1155 - val_accuracy: 0.9734 - val_loss: 0.0932\n",
      "Epoch 6/10\n",
      "59/59 - 5s - 85ms/step - accuracy: 0.9718 - loss: 0.0958 - val_accuracy: 0.9759 - val_loss: 0.0800\n",
      "Epoch 7/10\n",
      "59/59 - 5s - 86ms/step - accuracy: 0.9757 - loss: 0.0827 - val_accuracy: 0.9778 - val_loss: 0.0700\n",
      "Epoch 8/10\n",
      "59/59 - 5s - 85ms/step - accuracy: 0.9774 - loss: 0.0746 - val_accuracy: 0.9796 - val_loss: 0.0635\n",
      "Epoch 9/10\n",
      "59/59 - 5s - 85ms/step - accuracy: 0.9803 - loss: 0.0668 - val_accuracy: 0.9808 - val_loss: 0.0594\n",
      "Epoch 10/10\n",
      "59/59 - 5s - 85ms/step - accuracy: 0.9816 - loss: 0.0625 - val_accuracy: 0.9822 - val_loss: 0.0570\n",
      "Accuracy: 0.982200026512146 \n",
      " Error: 1.7799973487854004\n"
     ]
    }
   ],
   "source": [
    "model = convolutional_model()\n",
    "\n",
    "# fit the model\n",
    "model.fit(X_train, y_train, validation_data=(X_test, y_test), epochs=10, batch_size=1024, verbose=2)\n",
    "\n",
    "# evaluate the model\n",
    "scores = model.evaluate(X_test, y_test, verbose=0)\n",
    "print(\"Accuracy: {} \\n Error: {}\".format(scores[1], 100-scores[1]*100))"
   ]
  },
  {
   "cell_type": "markdown",
   "id": "2a03ad9b-825d-47ae-be77-e3bf1885c08e",
   "metadata": {},
   "source": [
    "<h3>Practice Exercise 2</h3>\n"
   ]
  },
  {
   "cell_type": "markdown",
   "id": "5989a3e9-0d9c-4769-a33d-fc22447a82bd",
   "metadata": {},
   "source": [
    "Now, let's see how number of epochs  affect the time required and accuracy of the model training. \n",
    "For this, you can keep the batch_size=1024 and epochs=25 and check it's effect on accuracy\n"
   ]
  },
  {
   "cell_type": "code",
   "execution_count": 12,
   "id": "f9e95cec-0929-4e21-82f2-88b829c59460",
   "metadata": {},
   "outputs": [
    {
     "name": "stdout",
     "output_type": "stream",
     "text": [
      "Epoch 1/25\n",
      "59/59 - 6s - 95ms/step - accuracy: 0.6189 - loss: 1.3938 - val_accuracy: 0.8813 - val_loss: 0.4187\n",
      "Epoch 2/25\n",
      "59/59 - 5s - 85ms/step - accuracy: 0.9130 - loss: 0.2989 - val_accuracy: 0.9439 - val_loss: 0.1934\n",
      "Epoch 3/25\n",
      "59/59 - 5s - 87ms/step - accuracy: 0.9498 - loss: 0.1731 - val_accuracy: 0.9631 - val_loss: 0.1305\n",
      "Epoch 4/25\n",
      "59/59 - 5s - 86ms/step - accuracy: 0.9623 - loss: 0.1297 - val_accuracy: 0.9706 - val_loss: 0.1022\n",
      "Epoch 5/25\n",
      "59/59 - 5s - 86ms/step - accuracy: 0.9696 - loss: 0.1047 - val_accuracy: 0.9751 - val_loss: 0.0844\n",
      "Epoch 6/25\n",
      "59/59 - 5s - 86ms/step - accuracy: 0.9732 - loss: 0.0900 - val_accuracy: 0.9764 - val_loss: 0.0765\n",
      "Epoch 7/25\n",
      "59/59 - 5s - 86ms/step - accuracy: 0.9769 - loss: 0.0796 - val_accuracy: 0.9784 - val_loss: 0.0664\n",
      "Epoch 8/25\n",
      "59/59 - 5s - 85ms/step - accuracy: 0.9783 - loss: 0.0728 - val_accuracy: 0.9800 - val_loss: 0.0630\n",
      "Epoch 9/25\n",
      "59/59 - 5s - 85ms/step - accuracy: 0.9800 - loss: 0.0672 - val_accuracy: 0.9823 - val_loss: 0.0589\n",
      "Epoch 10/25\n",
      "59/59 - 6s - 100ms/step - accuracy: 0.9816 - loss: 0.0621 - val_accuracy: 0.9820 - val_loss: 0.0567\n",
      "Epoch 11/25\n",
      "59/59 - 5s - 89ms/step - accuracy: 0.9829 - loss: 0.0577 - val_accuracy: 0.9827 - val_loss: 0.0525\n",
      "Epoch 12/25\n",
      "59/59 - 5s - 87ms/step - accuracy: 0.9840 - loss: 0.0542 - val_accuracy: 0.9832 - val_loss: 0.0498\n",
      "Epoch 13/25\n",
      "59/59 - 5s - 89ms/step - accuracy: 0.9848 - loss: 0.0515 - val_accuracy: 0.9851 - val_loss: 0.0469\n",
      "Epoch 14/25\n",
      "59/59 - 6s - 93ms/step - accuracy: 0.9859 - loss: 0.0485 - val_accuracy: 0.9858 - val_loss: 0.0466\n",
      "Epoch 15/25\n",
      "59/59 - 6s - 102ms/step - accuracy: 0.9861 - loss: 0.0466 - val_accuracy: 0.9861 - val_loss: 0.0429\n",
      "Epoch 16/25\n",
      "59/59 - 6s - 102ms/step - accuracy: 0.9870 - loss: 0.0442 - val_accuracy: 0.9877 - val_loss: 0.0412\n",
      "Epoch 17/25\n",
      "59/59 - 6s - 100ms/step - accuracy: 0.9877 - loss: 0.0421 - val_accuracy: 0.9855 - val_loss: 0.0447\n",
      "Epoch 18/25\n",
      "59/59 - 6s - 96ms/step - accuracy: 0.9877 - loss: 0.0410 - val_accuracy: 0.9877 - val_loss: 0.0394\n",
      "Epoch 19/25\n",
      "59/59 - 5s - 92ms/step - accuracy: 0.9881 - loss: 0.0397 - val_accuracy: 0.9869 - val_loss: 0.0396\n",
      "Epoch 20/25\n",
      "59/59 - 5s - 87ms/step - accuracy: 0.9885 - loss: 0.0373 - val_accuracy: 0.9854 - val_loss: 0.0426\n",
      "Epoch 21/25\n",
      "59/59 - 5s - 88ms/step - accuracy: 0.9890 - loss: 0.0357 - val_accuracy: 0.9874 - val_loss: 0.0403\n",
      "Epoch 22/25\n",
      "59/59 - 5s - 90ms/step - accuracy: 0.9891 - loss: 0.0354 - val_accuracy: 0.9874 - val_loss: 0.0375\n",
      "Epoch 23/25\n",
      "59/59 - 6s - 98ms/step - accuracy: 0.9896 - loss: 0.0342 - val_accuracy: 0.9877 - val_loss: 0.0365\n",
      "Epoch 24/25\n",
      "59/59 - 6s - 110ms/step - accuracy: 0.9906 - loss: 0.0311 - val_accuracy: 0.9876 - val_loss: 0.0366\n",
      "Epoch 25/25\n",
      "59/59 - 7s - 113ms/step - accuracy: 0.9904 - loss: 0.0313 - val_accuracy: 0.9885 - val_loss: 0.0365\n",
      "Accuracy: 0.9884999990463257 \n",
      " Error: 1.1500000953674316\n"
     ]
    }
   ],
   "source": [
    "# build the model\n",
    "model = convolutional_model()\n",
    "\n",
    "# fit the model\n",
    "model.fit(X_train, y_train, validation_data=(X_test, y_test), epochs=25, batch_size=1024, verbose=2)\n",
    "\n",
    "# evaluate the model\n",
    "scores = model.evaluate(X_test, y_test, verbose=0)\n",
    "print(\"Accuracy: {} \\n Error: {}\".format(scores[1], 100-scores[1]*100))"
   ]
  },
  {
   "cell_type": "code",
   "execution_count": null,
   "metadata": {},
   "outputs": [],
   "source": []
  }
 ],
 "metadata": {
  "kernelspec": {
   "display_name": "Python 3",
   "language": "python",
   "name": "python3"
  },
  "language_info": {
   "codemirror_mode": {
    "name": "ipython",
    "version": 3
   },
   "file_extension": ".py",
   "mimetype": "text/x-python",
   "name": "python",
   "nbconvert_exporter": "python",
   "pygments_lexer": "ipython3",
   "version": "3.11.0"
  },
  "prev_pub_hash": "cf25684b5f40b85f8cce20a89cf822f405779387881f3fd281fbe1317debe407"
 },
 "nbformat": 4,
 "nbformat_minor": 4
}
