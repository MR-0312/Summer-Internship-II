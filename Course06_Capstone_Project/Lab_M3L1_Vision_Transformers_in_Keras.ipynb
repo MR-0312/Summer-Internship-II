{
  "cells": [
    {
      "cell_type": "markdown",
      "id": "3057f4b9-bfce-4093-86a6-b8fb9b4702c5",
      "metadata": {
        "id": "3057f4b9-bfce-4093-86a6-b8fb9b4702c5"
      },
      "source": [
        "<div style=\"text-align: center;\">\n",
        "  <a href=\"https://cognitiveclass.ai/?utm_medium=Exinfluencer&utm_source=Exinfluencer&utm_content=000026UJ&utm_term=10006555&utm_id=NA-SkillsNetwork-Channel-SkillsNetworkCoursesIBMDeveloperSkillsNetworkDL0321ENSkillsNetwork951-2022-01-01\">\n",
        "    <img src=\"https://cf-courses-data.s3.us.cloud-object-storage.appdomain.cloud/IBMDeveloperSkillsNetwork-DL0321EN-SkillsNetwork/image/IDSN-logo.png\" width=\"400\">\n",
        "  </a>\n",
        "</div>\n"
      ]
    },
    {
      "cell_type": "markdown",
      "id": "f987e3d7-707a-4548-8f09-c7bd5bbfd619",
      "metadata": {
        "id": "f987e3d7-707a-4548-8f09-c7bd5bbfd619"
      },
      "source": [
        "<h1 align=left><font size = 6>Lab: Vision Transformers Using Keras </font></h1>\n"
      ]
    },
    {
      "cell_type": "markdown",
      "id": "5b5c1104-b4b0-427a-befb-1b205b14486c",
      "metadata": {
        "id": "5b5c1104-b4b0-427a-befb-1b205b14486c"
      },
      "source": [
        "<h5>Estimated time: 90 minutes</h5>\n"
      ]
    },
    {
      "cell_type": "markdown",
      "id": "0e38e483-8620-422f-a38b-4b5fe1244513",
      "metadata": {
        "id": "0e38e483-8620-422f-a38b-4b5fe1244513"
      },
      "source": [
        "## Introduction\n",
        "\n",
        "In this notebook, you will learn to build a CNN-Vision Transformer (ViT) hybrid image classification model. You will start by loading an existing CNN that is good at recognizing small patterns in pictures. Then, you'll learn how to improve it with a transformer, which helps the model see and use wider and more complex relationships in an image. The notebook covers important topics like preparing your image data, making your model smarter with both local and global learning, and saving your best results automatically. By the end, you'll understand how CNN-ViT hybrid models work and how to train, evaluate, and visualize them for any image classification task.\n"
      ]
    },
    {
      "cell_type": "markdown",
      "id": "7955effd",
      "metadata": {
        "id": "7955effd"
      },
      "source": [
        "<h2>Objective</h2>\n",
        "\n",
        "This notebook demonstrates how to use a custom-trained Keras CNN model to extract feature maps and feed them into a ViT architecture.\n",
        "\n",
        "After completing this lab, you will be able to:\n",
        "<ul>\n",
        "    \n",
        "1. Load the custom-trained CNN model\n",
        "2. Extract feature maps from the CNN\n",
        "3. Prepare tokens for the Vision Transformer\n",
        "4. Build the Vision Transformer encoder\n",
        "5. Train and evaluate the combined model\n",
        "\n",
        "</ul>\n"
      ]
    },
    {
      "cell_type": "markdown",
      "id": "08864f02",
      "metadata": {
        "id": "08864f02"
      },
      "source": [
        "## Table of contents\n",
        "\n",
        "<font size = 3>\n",
        "    \n",
        "1. [ Custom positional embedding layer](#Custom-positional-embedding-layer)\n",
        "3. [Transformer block implementation](#Transformer-block-implementation)\n",
        "4. [Hybrid model builder function](#Hybrid-model-builder-function)\n",
        "5. [Model loading and setup](#Model-loading-and-setup)\n",
        "6. [Data generator configuration](#Data-generator-configuration)\n",
        "7. [Model checkpoint setup](#Model-checkpoint-setup)\n",
        "8. [Model training and compilation](#Model-training-and-compilation)\n",
        "9. [Model shape validation](#Model-shape-validation)\n",
        "10. [Training results visualization](#Training-results-visualization)\n",
        "\n",
        "</font>\n"
      ]
    },
    {
      "cell_type": "markdown",
      "id": "4f18f62d",
      "metadata": {
        "id": "4f18f62d"
      },
      "source": [
        "## Data download and extraction\n",
        "Let's begin by downloading the dataset to evaluate the models.\n",
        "Here, you declare:\n",
        "1. The dataset URL from which the dataset would be downloaded\n",
        "2. The dataset downloading primary function, based on the `skillsnetwork` library\n",
        "3. The dataset fallback downloading function, based on regular `http` downloading functions\n"
      ]
    },
    {
      "cell_type": "code",
      "execution_count": 1,
      "id": "0a9f0820",
      "metadata": {
        "colab": {
          "base_uri": "https://localhost:8080/",
          "height": 116,
          "referenced_widgets": [
            "c5f40dc850c141f3a28ddd69e33a4cb8",
            "38827e412c14409b9eeaf7d590db84ec",
            "34b7b2c5c1684322b22899be68d3daa3",
            "6c208dc5479e43aebf85feafd172684b",
            "0229d98977e04363859f212b4546bd58",
            "704fff22a49442998e3ca2e5f8367b87",
            "bd626a2a7d174625bcb72061c24ae3f8",
            "03aa317c3c534135a90c54a42d82e91a",
            "5e07feca95134c7ab37ac402006db1ef",
            "d1339499cb194d2a8d80e891b6a40dfd",
            "046593faff2446b6a21811e6b15a7158",
            "83636aa2d4ea4c29a3c0de2e0d60d4f0",
            "839b18f092cf4008837701cc3692ef12",
            "fe9005b0d1224e4595700c31ac4797e2",
            "303ae5b625434208b19ea9df7e4fafa7",
            "b91a2ac58f6a45dcadb8cae1fa1e86ee",
            "95e4ef674ef5499d8f2588d13d5e084b",
            "8db6733122bc4683812fc4aa5fa0544c",
            "5973d32ab4fa4b0791380429bbed6e9f",
            "61da4a7c19bb4c829a4fc84b4b707870",
            "4c47d3d1d3a0421a86bc843cb2eca40a",
            "61f0f383480345f482fddb2635f2487a"
          ]
        },
        "id": "0a9f0820",
        "outputId": "50d860a8-1616-4527-b4bc-90e9fdd59cfc"
      },
      "outputs": [
        {
          "output_type": "stream",
          "name": "stdout",
          "text": [
            "Write permissions available for downloading and extracting the dataset tar file\n"
          ]
        },
        {
          "output_type": "display_data",
          "data": {
            "text/plain": [
              "Downloading images-dataSAT.tar:   0%|          | 0/20243456 [00:00<?, ?it/s]"
            ],
            "application/vnd.jupyter.widget-view+json": {
              "version_major": 2,
              "version_minor": 0,
              "model_id": "c5f40dc850c141f3a28ddd69e33a4cb8"
            }
          },
          "metadata": {}
        },
        {
          "output_type": "display_data",
          "data": {
            "text/plain": [
              "  0%|          | 0/6003 [00:00<?, ?it/s]"
            ],
            "application/vnd.jupyter.widget-view+json": {
              "version_major": 2,
              "version_minor": 0,
              "model_id": "83636aa2d4ea4c29a3c0de2e0d60d4f0"
            }
          },
          "metadata": {}
        },
        {
          "output_type": "stream",
          "name": "stdout",
          "text": [
            "Saved to '.'\n"
          ]
        }
      ],
      "source": [
        "import os\n",
        "import skillsnetwork\n",
        "\n",
        "data_dir = \".\"\n",
        "dataset_url = \"https://cf-courses-data.s3.us.cloud-object-storage.appdomain.cloud/4Z1fwRR295-1O3PMQBH6Dg/images-dataSAT.tar\"\n",
        "\n",
        "\n",
        "def check_skillnetwork_extraction(extract_dir):\n",
        "    \"\"\"Check if the environment allows symlink creation for download/extraction.\"\"\"\n",
        "    symlink_test = os.path.join(extract_dir, \"symlink_test\")\n",
        "    if not os.path.exists(symlink_test):\n",
        "        os.symlink(os.path.join(os.sep, \"tmp\"), symlink_test)\n",
        "        print(\"Write permissions available for downloading and extracting the dataset tar file\")\n",
        "        os.unlink(symlink_test)\n",
        "\n",
        "async def download_tar_dataset(url, tar_path, extract_dir):\n",
        "    \"\"\"Download and extract dataset tar file asynchronously.\"\"\"\n",
        "    if not os.path.exists(tar_path):\n",
        "        try:\n",
        "            print(f\"Downloading from {url}...\")\n",
        "            import httpx\n",
        "            async with httpx.AsyncClient() as client:\n",
        "                response = await client.get(url, follow_redirects=True)\n",
        "                response.raise_for_status()\n",
        "                with open(tar_path, \"wb\") as f:\n",
        "                    f.write(response.content)\n",
        "            print(f\"Successfully downloaded '{tar_path}'.\")\n",
        "        except Exception as e:\n",
        "            print(f\"Download error: {e}\")\n",
        "    else:\n",
        "        print(f\"Dataset tar file already exists at: {tar_path}\")\n",
        "    import tarfile\n",
        "    with tarfile.open(tar_path, 'r:*') as tar_ref:\n",
        "        tar_ref.extractall(path=extract_dir)\n",
        "        print(f\"Successfully extracted to '{extract_dir}'.\")\n",
        "\n",
        "try:\n",
        "    check_skillnetwork_extraction(data_dir)\n",
        "    await skillsnetwork.prepare(url=dataset_url, path=data_dir, overwrite=True)\n",
        "except Exception as e:\n",
        "    print(e)\n",
        "    print(\"Primary download/extraction method failed.\")\n",
        "    print(\"Falling back to manual download and extraction...\")\n",
        "    import tarfile\n",
        "    import httpx\n",
        "    from pathlib import Path\n",
        "    file_name = Path(dataset_url).name\n",
        "    tar_path = os.path.join(data_dir, file_name)\n",
        "    await download_tar_dataset(dataset_url, tar_path, data_dir)"
      ]
    },
    {
      "cell_type": "markdown",
      "id": "87c1f18c",
      "metadata": {
        "id": "87c1f18c"
      },
      "source": [
        "## Package installation\n",
        "\n",
        "Install the required basic Python packages.\n"
      ]
    },
    {
      "cell_type": "code",
      "execution_count": 2,
      "id": "9c7ca672",
      "metadata": {
        "colab": {
          "base_uri": "https://localhost:8080/"
        },
        "id": "9c7ca672",
        "outputId": "2ad473d5-f573-4ecf-bea5-45e6b3c7820c"
      },
      "outputs": [
        {
          "output_type": "stream",
          "name": "stdout",
          "text": [
            "CPU times: user 5.82 s, sys: 951 ms, total: 6.77 s\n",
            "Wall time: 14.9 s\n"
          ]
        }
      ],
      "source": [
        "%%time\n",
        "%%capture captured_output\n",
        "%pip install numpy==1.26\n",
        "%pip install matplotlib==3.9.2\n",
        "%pip install skillsnetwork"
      ]
    },
    {
      "cell_type": "markdown",
      "id": "dd033f37-165f-41b8-90e2-a2439f035575",
      "metadata": {
        "id": "dd033f37-165f-41b8-90e2-a2439f035575"
      },
      "source": [
        "### Install Tensorflow library for Keras\n"
      ]
    },
    {
      "cell_type": "code",
      "execution_count": 3,
      "id": "d66b191c",
      "metadata": {
        "colab": {
          "base_uri": "https://localhost:8080/"
        },
        "id": "d66b191c",
        "outputId": "1e8d9a6b-f82c-40e1-8661-d318aeb373c6"
      },
      "outputs": [
        {
          "output_type": "stream",
          "name": "stdout",
          "text": [
            "Requirement already satisfied: tensorflow==2.19 in /usr/local/lib/python3.12/dist-packages (2.19.0)\n",
            "Requirement already satisfied: absl-py>=1.0.0 in /usr/local/lib/python3.12/dist-packages (from tensorflow==2.19) (1.4.0)\n",
            "Requirement already satisfied: astunparse>=1.6.0 in /usr/local/lib/python3.12/dist-packages (from tensorflow==2.19) (1.6.3)\n",
            "Requirement already satisfied: flatbuffers>=24.3.25 in /usr/local/lib/python3.12/dist-packages (from tensorflow==2.19) (25.2.10)\n",
            "Requirement already satisfied: gast!=0.5.0,!=0.5.1,!=0.5.2,>=0.2.1 in /usr/local/lib/python3.12/dist-packages (from tensorflow==2.19) (0.6.0)\n",
            "Requirement already satisfied: google-pasta>=0.1.1 in /usr/local/lib/python3.12/dist-packages (from tensorflow==2.19) (0.2.0)\n",
            "Requirement already satisfied: libclang>=13.0.0 in /usr/local/lib/python3.12/dist-packages (from tensorflow==2.19) (18.1.1)\n",
            "Requirement already satisfied: opt-einsum>=2.3.2 in /usr/local/lib/python3.12/dist-packages (from tensorflow==2.19) (3.4.0)\n",
            "Requirement already satisfied: packaging in /usr/local/lib/python3.12/dist-packages (from tensorflow==2.19) (25.0)\n",
            "Requirement already satisfied: protobuf!=4.21.0,!=4.21.1,!=4.21.2,!=4.21.3,!=4.21.4,!=4.21.5,<6.0.0dev,>=3.20.3 in /usr/local/lib/python3.12/dist-packages (from tensorflow==2.19) (5.29.5)\n",
            "Requirement already satisfied: requests<3,>=2.21.0 in /usr/local/lib/python3.12/dist-packages (from tensorflow==2.19) (2.32.3)\n",
            "Requirement already satisfied: setuptools in /usr/local/lib/python3.12/dist-packages (from tensorflow==2.19) (75.2.0)\n",
            "Requirement already satisfied: six>=1.12.0 in /usr/local/lib/python3.12/dist-packages (from tensorflow==2.19) (1.17.0)\n",
            "Requirement already satisfied: termcolor>=1.1.0 in /usr/local/lib/python3.12/dist-packages (from tensorflow==2.19) (3.1.0)\n",
            "Requirement already satisfied: typing-extensions>=3.6.6 in /usr/local/lib/python3.12/dist-packages (from tensorflow==2.19) (4.14.1)\n",
            "Requirement already satisfied: wrapt>=1.11.0 in /usr/local/lib/python3.12/dist-packages (from tensorflow==2.19) (1.17.3)\n",
            "Requirement already satisfied: grpcio<2.0,>=1.24.3 in /usr/local/lib/python3.12/dist-packages (from tensorflow==2.19) (1.74.0)\n",
            "Requirement already satisfied: tensorboard~=2.19.0 in /usr/local/lib/python3.12/dist-packages (from tensorflow==2.19) (2.19.0)\n",
            "Requirement already satisfied: keras>=3.5.0 in /usr/local/lib/python3.12/dist-packages (from tensorflow==2.19) (3.10.0)\n",
            "Requirement already satisfied: numpy<2.2.0,>=1.26.0 in /usr/local/lib/python3.12/dist-packages (from tensorflow==2.19) (1.26.0)\n",
            "Requirement already satisfied: h5py>=3.11.0 in /usr/local/lib/python3.12/dist-packages (from tensorflow==2.19) (3.14.0)\n",
            "Requirement already satisfied: ml-dtypes<1.0.0,>=0.5.1 in /usr/local/lib/python3.12/dist-packages (from tensorflow==2.19) (0.5.3)\n",
            "Requirement already satisfied: wheel<1.0,>=0.23.0 in /usr/local/lib/python3.12/dist-packages (from astunparse>=1.6.0->tensorflow==2.19) (0.45.1)\n",
            "Requirement already satisfied: rich in /usr/local/lib/python3.12/dist-packages (from keras>=3.5.0->tensorflow==2.19) (13.9.4)\n",
            "Requirement already satisfied: namex in /usr/local/lib/python3.12/dist-packages (from keras>=3.5.0->tensorflow==2.19) (0.1.0)\n",
            "Requirement already satisfied: optree in /usr/local/lib/python3.12/dist-packages (from keras>=3.5.0->tensorflow==2.19) (0.17.0)\n",
            "Requirement already satisfied: charset-normalizer<4,>=2 in /usr/local/lib/python3.12/dist-packages (from requests<3,>=2.21.0->tensorflow==2.19) (3.4.3)\n",
            "Requirement already satisfied: idna<4,>=2.5 in /usr/local/lib/python3.12/dist-packages (from requests<3,>=2.21.0->tensorflow==2.19) (3.10)\n",
            "Requirement already satisfied: urllib3<3,>=1.21.1 in /usr/local/lib/python3.12/dist-packages (from requests<3,>=2.21.0->tensorflow==2.19) (2.5.0)\n",
            "Requirement already satisfied: certifi>=2017.4.17 in /usr/local/lib/python3.12/dist-packages (from requests<3,>=2.21.0->tensorflow==2.19) (2025.8.3)\n",
            "Requirement already satisfied: markdown>=2.6.8 in /usr/local/lib/python3.12/dist-packages (from tensorboard~=2.19.0->tensorflow==2.19) (3.8.2)\n",
            "Requirement already satisfied: tensorboard-data-server<0.8.0,>=0.7.0 in /usr/local/lib/python3.12/dist-packages (from tensorboard~=2.19.0->tensorflow==2.19) (0.7.2)\n",
            "Requirement already satisfied: werkzeug>=1.0.1 in /usr/local/lib/python3.12/dist-packages (from tensorboard~=2.19.0->tensorflow==2.19) (3.1.3)\n",
            "Requirement already satisfied: MarkupSafe>=2.1.1 in /usr/local/lib/python3.12/dist-packages (from werkzeug>=1.0.1->tensorboard~=2.19.0->tensorflow==2.19) (3.0.2)\n",
            "Requirement already satisfied: markdown-it-py>=2.2.0 in /usr/local/lib/python3.12/dist-packages (from rich->keras>=3.5.0->tensorflow==2.19) (4.0.0)\n",
            "Requirement already satisfied: pygments<3.0.0,>=2.13.0 in /usr/local/lib/python3.12/dist-packages (from rich->keras>=3.5.0->tensorflow==2.19) (2.19.2)\n",
            "Requirement already satisfied: mdurl~=0.1 in /usr/local/lib/python3.12/dist-packages (from markdown-it-py>=2.2.0->rich->keras>=3.5.0->tensorflow==2.19) (0.1.2)\n",
            "CPU times: user 3.4 s, sys: 458 ms, total: 3.86 s\n",
            "Wall time: 10.3 s\n"
          ]
        }
      ],
      "source": [
        "%%time\n",
        "%pip install tensorflow==2.19"
      ]
    },
    {
      "cell_type": "markdown",
      "id": "e461a6d4-57ea-4431-bdc9-c30e436999f0",
      "metadata": {
        "id": "e461a6d4-57ea-4431-bdc9-c30e436999f0"
      },
      "source": [
        "### Install SkLearn ML library for evaluation metrics\n"
      ]
    },
    {
      "cell_type": "code",
      "execution_count": 4,
      "id": "03c5eb16-6bee-4ca9-bb01-271f0f708743",
      "metadata": {
        "colab": {
          "base_uri": "https://localhost:8080/"
        },
        "id": "03c5eb16-6bee-4ca9-bb01-271f0f708743",
        "outputId": "14f31501-b894-4566-c177-22d8b55fd22c"
      },
      "outputs": [
        {
          "output_type": "stream",
          "name": "stdout",
          "text": [
            "Requirement already satisfied: scikit-learn==1.7.0 in /usr/local/lib/python3.12/dist-packages (1.7.0)\n",
            "Requirement already satisfied: numpy>=1.22.0 in /usr/local/lib/python3.12/dist-packages (from scikit-learn==1.7.0) (1.26.0)\n",
            "Requirement already satisfied: scipy>=1.8.0 in /usr/local/lib/python3.12/dist-packages (from scikit-learn==1.7.0) (1.16.1)\n",
            "Requirement already satisfied: joblib>=1.2.0 in /usr/local/lib/python3.12/dist-packages (from scikit-learn==1.7.0) (1.5.1)\n",
            "Requirement already satisfied: threadpoolctl>=3.1.0 in /usr/local/lib/python3.12/dist-packages (from scikit-learn==1.7.0) (3.6.0)\n",
            "CPU times: user 3.41 s, sys: 473 ms, total: 3.89 s\n",
            "Wall time: 9.24 s\n"
          ]
        }
      ],
      "source": [
        "%%time\n",
        "%pip install scikit-learn==1.7.0"
      ]
    },
    {
      "cell_type": "markdown",
      "id": "134c4ade",
      "metadata": {
        "id": "134c4ade"
      },
      "source": [
        "## Library imports and setup\n",
        "\n",
        "Import essential libraries for data manipulation and visualization, and suppress warnings for cleaner notebook output.\n"
      ]
    },
    {
      "cell_type": "code",
      "execution_count": 5,
      "id": "cd0fcdf5",
      "metadata": {
        "colab": {
          "base_uri": "https://localhost:8080/"
        },
        "id": "cd0fcdf5",
        "outputId": "26437933-a312-4a34-e510-bdcd8c5ed26a"
      },
      "outputs": [
        {
          "output_type": "stream",
          "name": "stdout",
          "text": [
            "CPU times: user 90.8 ms, sys: 5.46 ms, total: 96.2 ms\n",
            "Wall time: 130 ms\n"
          ]
        }
      ],
      "source": [
        "%%time\n",
        "import warnings\n",
        "warnings.filterwarnings('ignore')\n",
        "\n",
        "import os\n",
        "import time\n",
        "import httpx\n",
        "import random\n",
        "import numpy as np\n",
        "from tqdm import tqdm\n",
        "import matplotlib.pyplot as plt\n",
        "from datetime import datetime\n",
        "def present_time():\n",
        "        return datetime.now().strftime('%Y%m%d_%H%M%S')\n",
        "\n"
      ]
    },
    {
      "cell_type": "markdown",
      "id": "f6a0a554",
      "metadata": {
        "id": "f6a0a554"
      },
      "source": [
        "### TensorFlow/Keras library imports\n",
        "\n",
        "Sets environment variables to reduce TensorFlow logging noise and imports Keras modules for model building and training. Detects GPU availability for device assignment.\n"
      ]
    },
    {
      "cell_type": "code",
      "execution_count": 6,
      "id": "99804321",
      "metadata": {
        "colab": {
          "base_uri": "https://localhost:8080/"
        },
        "id": "99804321",
        "outputId": "02448045-4fc6-4435-f570-78aeb958db46"
      },
      "outputs": [
        {
          "output_type": "stream",
          "name": "stdout",
          "text": [
            "Device available for training: gpu\n",
            "CPU times: user 4.16 s, sys: 587 ms, total: 4.74 s\n",
            "Wall time: 5.95 s\n"
          ]
        }
      ],
      "source": [
        "%%time\n",
        "os.environ['TF_ENABLE_ONEDNN_OPTS'] = '0'\n",
        "os.environ['TF_CPP_MIN_LOG_LEVEL'] = '3'\n",
        "\n",
        "import tensorflow as tf\n",
        "from tensorflow.keras import layers\n",
        "from tensorflow.keras.models import Sequential, Model\n",
        "from tensorflow.keras.models import load_model\n",
        "from tensorflow.keras.layers import Conv2D, MaxPooling2D, Dense, Flatten, Dropout, BatchNormalization\n",
        "from tensorflow.keras.layers import GlobalAveragePooling2D\n",
        "from tensorflow.keras.optimizers import Adam\n",
        "from tensorflow.keras.preprocessing.image import ImageDataGenerator\n",
        "from tensorflow.keras.initializers import HeUniform\n",
        "from tensorflow.keras.callbacks import ModelCheckpoint\n",
        "\n",
        "gpu_list = tf.config.list_physical_devices('GPU')\n",
        "device = \"gpu\" if gpu_list != [] else \"cpu\"\n",
        "print(f\"Device available for training: {device}\")"
      ]
    },
    {
      "cell_type": "markdown",
      "id": "4bc53fe7",
      "metadata": {
        "id": "4bc53fe7"
      },
      "source": [
        "## Model download helper\n",
        "\n",
        "Now, define an asynchronous function to download model files from given URLs, if they are not already present locally.\n",
        "You use `httpx` for asynchronous HTTP requests with error handling.\n"
      ]
    },
    {
      "cell_type": "code",
      "execution_count": 7,
      "id": "e211b54b",
      "metadata": {
        "id": "e211b54b"
      },
      "outputs": [],
      "source": [
        "async def download_model(url, model_path):\n",
        "    if not os.path.exists(model_path):\n",
        "        try:\n",
        "            print(f\"Downloading from {url}...\")\n",
        "            import httpx\n",
        "            async with httpx.AsyncClient() as client:\n",
        "                response = await client.get(url, follow_redirects=True)\n",
        "                response.raise_for_status()\n",
        "                with open(model_path, \"wb\") as f:\n",
        "                    f.write(response.content)\n",
        "            print(f\"Successfully downloaded '{model_path}'.\")\n",
        "        except Exception as e:\n",
        "            print(f\"Download error: {e}\")\n",
        "    else:\n",
        "        print(f\"Model file already downloaded at: {model_path}\")"
      ]
    },
    {
      "cell_type": "markdown",
      "id": "e570be57-93e3-49cd-9832-4979909cbeab",
      "metadata": {
        "id": "e570be57-93e3-49cd-9832-4979909cbeab"
      },
      "source": [
        "## Lab layout\n",
        "1. You will start by loading a pre-trained Convolutional Neural Network (CNN) to act as a robust feature extractor for your image dataset.\n",
        "2. After loading your CNN, you’ll select an intermediate feature map and reshape it into a sequence of tokens, getting your data ready for transformer-based learning.\n",
        "3. You’ll add custom positional embeddings to your tokens so that the model can retain the original spatial structure of your images, even after the features have been flattened.\n",
        "4. Next, you implement a Vision Transformer (ViT) encoder by stacking several transformer blocks, allowing your model to learn global relationships and context throughout the image.\n",
        "5. You’ll combine the CNN and ViT encoder into a single, hybrid model so that you can leverage both the local feature extraction power of CNNs and the global attention mechanism of transformers.\n",
        "6. When preparing your dataset, you’ll use Keras’s ImageDataGenerator to handle data augmentation and to properly encode your labels for multi-class image classification.\n",
        "7. You’ll set up a model checkpoint callback, letting your model automatically save its best weights whenever validation accuracy improves during training, so you always keep the most effective model.\n",
        "8. To ensure everything works smoothly, you’ll check the input and output shapes, which helps you catch architectural mistakes early.\n",
        "9. As your model trains, you’ll visualize both training and validation accuracy and loss, which will help you monitor performance and spot signs of overfitting or underfitting.\n",
        "10. Throughout the process, you can follow clear explanations in the notebook, making it easy for you to understand how each component—from CNN to transformer—is integrated to achieve stronger image classification.\n"
      ]
    },
    {
      "cell_type": "markdown",
      "id": "c2e94bd9",
      "metadata": {
        "id": "c2e94bd9"
      },
      "source": [
        "## Model paths and download\n",
        "\n",
        "In the cell below, you define the file paths and URLs for the Keras and PyTorch models and download them using the `download_model` function defined above.\n"
      ]
    },
    {
      "cell_type": "code",
      "execution_count": 8,
      "id": "be04a5fe",
      "metadata": {
        "colab": {
          "base_uri": "https://localhost:8080/"
        },
        "id": "be04a5fe",
        "outputId": "b617c4ad-46e0-45e1-afb7-3f3eb8c10e91"
      },
      "outputs": [
        {
          "output_type": "stream",
          "name": "stdout",
          "text": [
            "Model file already downloaded at: ./ai-capstone-keras-best-model-model_downloaded.keras\n"
          ]
        }
      ],
      "source": [
        "data_dir = \".\"\n",
        "\n",
        "keras_model_url = \"https://cf-courses-data.s3.us.cloud-object-storage.appdomain.cloud/U-uPeyCyOQYh0GrZPGsqoQ/ai-capstone-keras-best-model-model.keras\"\n",
        "keras_model_name = \"ai-capstone-keras-best-model-model_downloaded.keras\"\n",
        "keras_model_path = os.path.join(data_dir, keras_model_name)\n",
        "\n",
        "await download_model(keras_model_url, keras_model_path)"
      ]
    },
    {
      "cell_type": "markdown",
      "id": "a4c801ed-dedc-4148-9c1f-6dd432d91093",
      "metadata": {
        "id": "a4c801ed-dedc-4148-9c1f-6dd432d91093"
      },
      "source": [
        "### Reproducibility with random seeds\n",
        "\n",
        "Here we fix the random seeds for `random` module, NumPy, and TensorFlow. By initializing these seeds with a constant value (for example, 42), any operations that involve randomness (such as weight initialization, data shuffling, or data augmentation) will produce the exact same sequence of random numbers every time the code is run. This is crucial for ensuring the reproducibility of experimental results and when comparing different models or hyperparameters.\n"
      ]
    },
    {
      "cell_type": "code",
      "execution_count": 9,
      "id": "c483241b-9792-44e9-967f-2df9a6ff2b0e",
      "metadata": {
        "id": "c483241b-9792-44e9-967f-2df9a6ff2b0e"
      },
      "outputs": [],
      "source": [
        "# Set seed for reproducibility\n",
        "seed_value = 7331\n",
        "random.seed(seed_value)\n",
        "np.random.seed(seed_value)\n",
        "tf.random.set_seed(seed_value)"
      ]
    },
    {
      "cell_type": "markdown",
      "id": "6b2b3d89",
      "metadata": {
        "id": "6b2b3d89"
      },
      "source": [
        "## Model loading and setup\n",
        "\n",
        "Here, you will load a pre-trained CNN model and learn to work with saved Keras models and prepare them for use in the hybrid architecture.\n"
      ]
    },
    {
      "cell_type": "markdown",
      "id": "124a12a8-aafb-48ec-bd8a-bb90073fd971",
      "metadata": {
        "id": "124a12a8-aafb-48ec-bd8a-bb90073fd971"
      },
      "source": [
        "## Task 1: Load the pre-trained CNN model in `cnn_model` variable using `load_model()` function and print model summary using `summary()` method\n",
        "\n",
        "The `load_model()` function loads the complete Keras model, including architecture, weights, and compilation state. The loaded model serves as the CNN backbone for feature extraction in the hybrid architecture. The `cnn_model.summary()` line can be uncommented to inspect the model architecture and identify appropriate layers for feature extraction.\n"
      ]
    },
    {
      "cell_type": "code",
      "execution_count": 10,
      "id": "34f9f5e1-b775-45e1-8bf7-ee0856b5a4c8",
      "metadata": {
        "colab": {
          "base_uri": "https://localhost:8080/",
          "height": 1000
        },
        "id": "34f9f5e1-b775-45e1-8bf7-ee0856b5a4c8",
        "outputId": "a83a4636-6313-4bcb-cc77-7c46cef9ad1f"
      },
      "outputs": [
        {
          "output_type": "display_data",
          "data": {
            "text/plain": [
              "\u001b[1mModel: \"sequential\"\u001b[0m\n"
            ],
            "text/html": [
              "<pre style=\"white-space:pre;overflow-x:auto;line-height:normal;font-family:Menlo,'DejaVu Sans Mono',consolas,'Courier New',monospace\"><span style=\"font-weight: bold\">Model: \"sequential\"</span>\n",
              "</pre>\n"
            ]
          },
          "metadata": {}
        },
        {
          "output_type": "display_data",
          "data": {
            "text/plain": [
              "┏━━━━━━━━━━━━━━━━━━━━━━━━━━━━━━━━━┳━━━━━━━━━━━━━━━━━━━━━━━━┳━━━━━━━━━━━━━━━┓\n",
              "┃\u001b[1m \u001b[0m\u001b[1mLayer (type)                   \u001b[0m\u001b[1m \u001b[0m┃\u001b[1m \u001b[0m\u001b[1mOutput Shape          \u001b[0m\u001b[1m \u001b[0m┃\u001b[1m \u001b[0m\u001b[1m      Param #\u001b[0m\u001b[1m \u001b[0m┃\n",
              "┡━━━━━━━━━━━━━━━━━━━━━━━━━━━━━━━━━╇━━━━━━━━━━━━━━━━━━━━━━━━╇━━━━━━━━━━━━━━━┩\n",
              "│ conv2d (\u001b[38;5;33mConv2D\u001b[0m)                 │ (\u001b[38;5;45mNone\u001b[0m, \u001b[38;5;34m64\u001b[0m, \u001b[38;5;34m64\u001b[0m, \u001b[38;5;34m32\u001b[0m)     │         \u001b[38;5;34m2,432\u001b[0m │\n",
              "├─────────────────────────────────┼────────────────────────┼───────────────┤\n",
              "│ max_pooling2d (\u001b[38;5;33mMaxPooling2D\u001b[0m)    │ (\u001b[38;5;45mNone\u001b[0m, \u001b[38;5;34m32\u001b[0m, \u001b[38;5;34m32\u001b[0m, \u001b[38;5;34m32\u001b[0m)     │             \u001b[38;5;34m0\u001b[0m │\n",
              "├─────────────────────────────────┼────────────────────────┼───────────────┤\n",
              "│ batch_normalization             │ (\u001b[38;5;45mNone\u001b[0m, \u001b[38;5;34m32\u001b[0m, \u001b[38;5;34m32\u001b[0m, \u001b[38;5;34m32\u001b[0m)     │           \u001b[38;5;34m128\u001b[0m │\n",
              "│ (\u001b[38;5;33mBatchNormalization\u001b[0m)            │                        │               │\n",
              "├─────────────────────────────────┼────────────────────────┼───────────────┤\n",
              "│ conv2d_1 (\u001b[38;5;33mConv2D\u001b[0m)               │ (\u001b[38;5;45mNone\u001b[0m, \u001b[38;5;34m32\u001b[0m, \u001b[38;5;34m32\u001b[0m, \u001b[38;5;34m64\u001b[0m)     │        \u001b[38;5;34m51,264\u001b[0m │\n",
              "├─────────────────────────────────┼────────────────────────┼───────────────┤\n",
              "│ max_pooling2d_1 (\u001b[38;5;33mMaxPooling2D\u001b[0m)  │ (\u001b[38;5;45mNone\u001b[0m, \u001b[38;5;34m16\u001b[0m, \u001b[38;5;34m16\u001b[0m, \u001b[38;5;34m64\u001b[0m)     │             \u001b[38;5;34m0\u001b[0m │\n",
              "├─────────────────────────────────┼────────────────────────┼───────────────┤\n",
              "│ batch_normalization_1           │ (\u001b[38;5;45mNone\u001b[0m, \u001b[38;5;34m16\u001b[0m, \u001b[38;5;34m16\u001b[0m, \u001b[38;5;34m64\u001b[0m)     │           \u001b[38;5;34m256\u001b[0m │\n",
              "│ (\u001b[38;5;33mBatchNormalization\u001b[0m)            │                        │               │\n",
              "├─────────────────────────────────┼────────────────────────┼───────────────┤\n",
              "│ conv2d_2 (\u001b[38;5;33mConv2D\u001b[0m)               │ (\u001b[38;5;45mNone\u001b[0m, \u001b[38;5;34m16\u001b[0m, \u001b[38;5;34m16\u001b[0m, \u001b[38;5;34m128\u001b[0m)    │       \u001b[38;5;34m204,928\u001b[0m │\n",
              "├─────────────────────────────────┼────────────────────────┼───────────────┤\n",
              "│ max_pooling2d_2 (\u001b[38;5;33mMaxPooling2D\u001b[0m)  │ (\u001b[38;5;45mNone\u001b[0m, \u001b[38;5;34m8\u001b[0m, \u001b[38;5;34m8\u001b[0m, \u001b[38;5;34m128\u001b[0m)      │             \u001b[38;5;34m0\u001b[0m │\n",
              "├─────────────────────────────────┼────────────────────────┼───────────────┤\n",
              "│ batch_normalization_2           │ (\u001b[38;5;45mNone\u001b[0m, \u001b[38;5;34m8\u001b[0m, \u001b[38;5;34m8\u001b[0m, \u001b[38;5;34m128\u001b[0m)      │           \u001b[38;5;34m512\u001b[0m │\n",
              "│ (\u001b[38;5;33mBatchNormalization\u001b[0m)            │                        │               │\n",
              "├─────────────────────────────────┼────────────────────────┼───────────────┤\n",
              "│ conv2d_3 (\u001b[38;5;33mConv2D\u001b[0m)               │ (\u001b[38;5;45mNone\u001b[0m, \u001b[38;5;34m8\u001b[0m, \u001b[38;5;34m8\u001b[0m, \u001b[38;5;34m256\u001b[0m)      │       \u001b[38;5;34m819,456\u001b[0m │\n",
              "├─────────────────────────────────┼────────────────────────┼───────────────┤\n",
              "│ max_pooling2d_3 (\u001b[38;5;33mMaxPooling2D\u001b[0m)  │ (\u001b[38;5;45mNone\u001b[0m, \u001b[38;5;34m4\u001b[0m, \u001b[38;5;34m4\u001b[0m, \u001b[38;5;34m256\u001b[0m)      │             \u001b[38;5;34m0\u001b[0m │\n",
              "├─────────────────────────────────┼────────────────────────┼───────────────┤\n",
              "│ batch_normalization_3           │ (\u001b[38;5;45mNone\u001b[0m, \u001b[38;5;34m4\u001b[0m, \u001b[38;5;34m4\u001b[0m, \u001b[38;5;34m256\u001b[0m)      │         \u001b[38;5;34m1,024\u001b[0m │\n",
              "│ (\u001b[38;5;33mBatchNormalization\u001b[0m)            │                        │               │\n",
              "├─────────────────────────────────┼────────────────────────┼───────────────┤\n",
              "│ conv2d_4 (\u001b[38;5;33mConv2D\u001b[0m)               │ (\u001b[38;5;45mNone\u001b[0m, \u001b[38;5;34m4\u001b[0m, \u001b[38;5;34m4\u001b[0m, \u001b[38;5;34m512\u001b[0m)      │     \u001b[38;5;34m3,277,312\u001b[0m │\n",
              "├─────────────────────────────────┼────────────────────────┼───────────────┤\n",
              "│ max_pooling2d_4 (\u001b[38;5;33mMaxPooling2D\u001b[0m)  │ (\u001b[38;5;45mNone\u001b[0m, \u001b[38;5;34m2\u001b[0m, \u001b[38;5;34m2\u001b[0m, \u001b[38;5;34m512\u001b[0m)      │             \u001b[38;5;34m0\u001b[0m │\n",
              "├─────────────────────────────────┼────────────────────────┼───────────────┤\n",
              "│ batch_normalization_4           │ (\u001b[38;5;45mNone\u001b[0m, \u001b[38;5;34m2\u001b[0m, \u001b[38;5;34m2\u001b[0m, \u001b[38;5;34m512\u001b[0m)      │         \u001b[38;5;34m2,048\u001b[0m │\n",
              "│ (\u001b[38;5;33mBatchNormalization\u001b[0m)            │                        │               │\n",
              "├─────────────────────────────────┼────────────────────────┼───────────────┤\n",
              "│ conv2d_5 (\u001b[38;5;33mConv2D\u001b[0m)               │ (\u001b[38;5;45mNone\u001b[0m, \u001b[38;5;34m2\u001b[0m, \u001b[38;5;34m2\u001b[0m, \u001b[38;5;34m1024\u001b[0m)     │    \u001b[38;5;34m13,108,224\u001b[0m │\n",
              "├─────────────────────────────────┼────────────────────────┼───────────────┤\n",
              "│ max_pooling2d_5 (\u001b[38;5;33mMaxPooling2D\u001b[0m)  │ (\u001b[38;5;45mNone\u001b[0m, \u001b[38;5;34m1\u001b[0m, \u001b[38;5;34m1\u001b[0m, \u001b[38;5;34m1024\u001b[0m)     │             \u001b[38;5;34m0\u001b[0m │\n",
              "├─────────────────────────────────┼────────────────────────┼───────────────┤\n",
              "│ batch_normalization_5           │ (\u001b[38;5;45mNone\u001b[0m, \u001b[38;5;34m1\u001b[0m, \u001b[38;5;34m1\u001b[0m, \u001b[38;5;34m1024\u001b[0m)     │         \u001b[38;5;34m4,096\u001b[0m │\n",
              "│ (\u001b[38;5;33mBatchNormalization\u001b[0m)            │                        │               │\n",
              "├─────────────────────────────────┼────────────────────────┼───────────────┤\n",
              "│ global_average_pooling2d        │ (\u001b[38;5;45mNone\u001b[0m, \u001b[38;5;34m1024\u001b[0m)           │             \u001b[38;5;34m0\u001b[0m │\n",
              "│ (\u001b[38;5;33mGlobalAveragePooling2D\u001b[0m)        │                        │               │\n",
              "├─────────────────────────────────┼────────────────────────┼───────────────┤\n",
              "│ dense (\u001b[38;5;33mDense\u001b[0m)                   │ (\u001b[38;5;45mNone\u001b[0m, \u001b[38;5;34m64\u001b[0m)             │        \u001b[38;5;34m65,600\u001b[0m │\n",
              "├─────────────────────────────────┼────────────────────────┼───────────────┤\n",
              "│ batch_normalization_6           │ (\u001b[38;5;45mNone\u001b[0m, \u001b[38;5;34m64\u001b[0m)             │           \u001b[38;5;34m256\u001b[0m │\n",
              "│ (\u001b[38;5;33mBatchNormalization\u001b[0m)            │                        │               │\n",
              "├─────────────────────────────────┼────────────────────────┼───────────────┤\n",
              "│ dropout (\u001b[38;5;33mDropout\u001b[0m)               │ (\u001b[38;5;45mNone\u001b[0m, \u001b[38;5;34m64\u001b[0m)             │             \u001b[38;5;34m0\u001b[0m │\n",
              "├─────────────────────────────────┼────────────────────────┼───────────────┤\n",
              "│ dense_1 (\u001b[38;5;33mDense\u001b[0m)                 │ (\u001b[38;5;45mNone\u001b[0m, \u001b[38;5;34m128\u001b[0m)            │         \u001b[38;5;34m8,320\u001b[0m │\n",
              "├─────────────────────────────────┼────────────────────────┼───────────────┤\n",
              "│ batch_normalization_7           │ (\u001b[38;5;45mNone\u001b[0m, \u001b[38;5;34m128\u001b[0m)            │           \u001b[38;5;34m512\u001b[0m │\n",
              "│ (\u001b[38;5;33mBatchNormalization\u001b[0m)            │                        │               │\n",
              "├─────────────────────────────────┼────────────────────────┼───────────────┤\n",
              "│ dropout_1 (\u001b[38;5;33mDropout\u001b[0m)             │ (\u001b[38;5;45mNone\u001b[0m, \u001b[38;5;34m128\u001b[0m)            │             \u001b[38;5;34m0\u001b[0m │\n",
              "├─────────────────────────────────┼────────────────────────┼───────────────┤\n",
              "│ dense_2 (\u001b[38;5;33mDense\u001b[0m)                 │ (\u001b[38;5;45mNone\u001b[0m, \u001b[38;5;34m256\u001b[0m)            │        \u001b[38;5;34m33,024\u001b[0m │\n",
              "├─────────────────────────────────┼────────────────────────┼───────────────┤\n",
              "│ batch_normalization_8           │ (\u001b[38;5;45mNone\u001b[0m, \u001b[38;5;34m256\u001b[0m)            │         \u001b[38;5;34m1,024\u001b[0m │\n",
              "│ (\u001b[38;5;33mBatchNormalization\u001b[0m)            │                        │               │\n",
              "├─────────────────────────────────┼────────────────────────┼───────────────┤\n",
              "│ dropout_2 (\u001b[38;5;33mDropout\u001b[0m)             │ (\u001b[38;5;45mNone\u001b[0m, \u001b[38;5;34m256\u001b[0m)            │             \u001b[38;5;34m0\u001b[0m │\n",
              "├─────────────────────────────────┼────────────────────────┼───────────────┤\n",
              "│ dense_3 (\u001b[38;5;33mDense\u001b[0m)                 │ (\u001b[38;5;45mNone\u001b[0m, \u001b[38;5;34m512\u001b[0m)            │       \u001b[38;5;34m131,584\u001b[0m │\n",
              "├─────────────────────────────────┼────────────────────────┼───────────────┤\n",
              "│ batch_normalization_9           │ (\u001b[38;5;45mNone\u001b[0m, \u001b[38;5;34m512\u001b[0m)            │         \u001b[38;5;34m2,048\u001b[0m │\n",
              "│ (\u001b[38;5;33mBatchNormalization\u001b[0m)            │                        │               │\n",
              "├─────────────────────────────────┼────────────────────────┼───────────────┤\n",
              "│ dropout_3 (\u001b[38;5;33mDropout\u001b[0m)             │ (\u001b[38;5;45mNone\u001b[0m, \u001b[38;5;34m512\u001b[0m)            │             \u001b[38;5;34m0\u001b[0m │\n",
              "├─────────────────────────────────┼────────────────────────┼───────────────┤\n",
              "│ dense_4 (\u001b[38;5;33mDense\u001b[0m)                 │ (\u001b[38;5;45mNone\u001b[0m, \u001b[38;5;34m1024\u001b[0m)           │       \u001b[38;5;34m525,312\u001b[0m │\n",
              "├─────────────────────────────────┼────────────────────────┼───────────────┤\n",
              "│ batch_normalization_10          │ (\u001b[38;5;45mNone\u001b[0m, \u001b[38;5;34m1024\u001b[0m)           │         \u001b[38;5;34m4,096\u001b[0m │\n",
              "│ (\u001b[38;5;33mBatchNormalization\u001b[0m)            │                        │               │\n",
              "├─────────────────────────────────┼────────────────────────┼───────────────┤\n",
              "│ dropout_4 (\u001b[38;5;33mDropout\u001b[0m)             │ (\u001b[38;5;45mNone\u001b[0m, \u001b[38;5;34m1024\u001b[0m)           │             \u001b[38;5;34m0\u001b[0m │\n",
              "├─────────────────────────────────┼────────────────────────┼───────────────┤\n",
              "│ dense_5 (\u001b[38;5;33mDense\u001b[0m)                 │ (\u001b[38;5;45mNone\u001b[0m, \u001b[38;5;34m2048\u001b[0m)           │     \u001b[38;5;34m2,099,200\u001b[0m │\n",
              "├─────────────────────────────────┼────────────────────────┼───────────────┤\n",
              "│ batch_normalization_11          │ (\u001b[38;5;45mNone\u001b[0m, \u001b[38;5;34m2048\u001b[0m)           │         \u001b[38;5;34m8,192\u001b[0m │\n",
              "│ (\u001b[38;5;33mBatchNormalization\u001b[0m)            │                        │               │\n",
              "├─────────────────────────────────┼────────────────────────┼───────────────┤\n",
              "│ dropout_5 (\u001b[38;5;33mDropout\u001b[0m)             │ (\u001b[38;5;45mNone\u001b[0m, \u001b[38;5;34m2048\u001b[0m)           │             \u001b[38;5;34m0\u001b[0m │\n",
              "├─────────────────────────────────┼────────────────────────┼───────────────┤\n",
              "│ dense_6 (\u001b[38;5;33mDense\u001b[0m)                 │ (\u001b[38;5;45mNone\u001b[0m, \u001b[38;5;34m1\u001b[0m)              │         \u001b[38;5;34m2,049\u001b[0m │\n",
              "└─────────────────────────────────┴────────────────────────┴───────────────┘\n"
            ],
            "text/html": [
              "<pre style=\"white-space:pre;overflow-x:auto;line-height:normal;font-family:Menlo,'DejaVu Sans Mono',consolas,'Courier New',monospace\">┏━━━━━━━━━━━━━━━━━━━━━━━━━━━━━━━━━┳━━━━━━━━━━━━━━━━━━━━━━━━┳━━━━━━━━━━━━━━━┓\n",
              "┃<span style=\"font-weight: bold\"> Layer (type)                    </span>┃<span style=\"font-weight: bold\"> Output Shape           </span>┃<span style=\"font-weight: bold\">       Param # </span>┃\n",
              "┡━━━━━━━━━━━━━━━━━━━━━━━━━━━━━━━━━╇━━━━━━━━━━━━━━━━━━━━━━━━╇━━━━━━━━━━━━━━━┩\n",
              "│ conv2d (<span style=\"color: #0087ff; text-decoration-color: #0087ff\">Conv2D</span>)                 │ (<span style=\"color: #00d7ff; text-decoration-color: #00d7ff\">None</span>, <span style=\"color: #00af00; text-decoration-color: #00af00\">64</span>, <span style=\"color: #00af00; text-decoration-color: #00af00\">64</span>, <span style=\"color: #00af00; text-decoration-color: #00af00\">32</span>)     │         <span style=\"color: #00af00; text-decoration-color: #00af00\">2,432</span> │\n",
              "├─────────────────────────────────┼────────────────────────┼───────────────┤\n",
              "│ max_pooling2d (<span style=\"color: #0087ff; text-decoration-color: #0087ff\">MaxPooling2D</span>)    │ (<span style=\"color: #00d7ff; text-decoration-color: #00d7ff\">None</span>, <span style=\"color: #00af00; text-decoration-color: #00af00\">32</span>, <span style=\"color: #00af00; text-decoration-color: #00af00\">32</span>, <span style=\"color: #00af00; text-decoration-color: #00af00\">32</span>)     │             <span style=\"color: #00af00; text-decoration-color: #00af00\">0</span> │\n",
              "├─────────────────────────────────┼────────────────────────┼───────────────┤\n",
              "│ batch_normalization             │ (<span style=\"color: #00d7ff; text-decoration-color: #00d7ff\">None</span>, <span style=\"color: #00af00; text-decoration-color: #00af00\">32</span>, <span style=\"color: #00af00; text-decoration-color: #00af00\">32</span>, <span style=\"color: #00af00; text-decoration-color: #00af00\">32</span>)     │           <span style=\"color: #00af00; text-decoration-color: #00af00\">128</span> │\n",
              "│ (<span style=\"color: #0087ff; text-decoration-color: #0087ff\">BatchNormalization</span>)            │                        │               │\n",
              "├─────────────────────────────────┼────────────────────────┼───────────────┤\n",
              "│ conv2d_1 (<span style=\"color: #0087ff; text-decoration-color: #0087ff\">Conv2D</span>)               │ (<span style=\"color: #00d7ff; text-decoration-color: #00d7ff\">None</span>, <span style=\"color: #00af00; text-decoration-color: #00af00\">32</span>, <span style=\"color: #00af00; text-decoration-color: #00af00\">32</span>, <span style=\"color: #00af00; text-decoration-color: #00af00\">64</span>)     │        <span style=\"color: #00af00; text-decoration-color: #00af00\">51,264</span> │\n",
              "├─────────────────────────────────┼────────────────────────┼───────────────┤\n",
              "│ max_pooling2d_1 (<span style=\"color: #0087ff; text-decoration-color: #0087ff\">MaxPooling2D</span>)  │ (<span style=\"color: #00d7ff; text-decoration-color: #00d7ff\">None</span>, <span style=\"color: #00af00; text-decoration-color: #00af00\">16</span>, <span style=\"color: #00af00; text-decoration-color: #00af00\">16</span>, <span style=\"color: #00af00; text-decoration-color: #00af00\">64</span>)     │             <span style=\"color: #00af00; text-decoration-color: #00af00\">0</span> │\n",
              "├─────────────────────────────────┼────────────────────────┼───────────────┤\n",
              "│ batch_normalization_1           │ (<span style=\"color: #00d7ff; text-decoration-color: #00d7ff\">None</span>, <span style=\"color: #00af00; text-decoration-color: #00af00\">16</span>, <span style=\"color: #00af00; text-decoration-color: #00af00\">16</span>, <span style=\"color: #00af00; text-decoration-color: #00af00\">64</span>)     │           <span style=\"color: #00af00; text-decoration-color: #00af00\">256</span> │\n",
              "│ (<span style=\"color: #0087ff; text-decoration-color: #0087ff\">BatchNormalization</span>)            │                        │               │\n",
              "├─────────────────────────────────┼────────────────────────┼───────────────┤\n",
              "│ conv2d_2 (<span style=\"color: #0087ff; text-decoration-color: #0087ff\">Conv2D</span>)               │ (<span style=\"color: #00d7ff; text-decoration-color: #00d7ff\">None</span>, <span style=\"color: #00af00; text-decoration-color: #00af00\">16</span>, <span style=\"color: #00af00; text-decoration-color: #00af00\">16</span>, <span style=\"color: #00af00; text-decoration-color: #00af00\">128</span>)    │       <span style=\"color: #00af00; text-decoration-color: #00af00\">204,928</span> │\n",
              "├─────────────────────────────────┼────────────────────────┼───────────────┤\n",
              "│ max_pooling2d_2 (<span style=\"color: #0087ff; text-decoration-color: #0087ff\">MaxPooling2D</span>)  │ (<span style=\"color: #00d7ff; text-decoration-color: #00d7ff\">None</span>, <span style=\"color: #00af00; text-decoration-color: #00af00\">8</span>, <span style=\"color: #00af00; text-decoration-color: #00af00\">8</span>, <span style=\"color: #00af00; text-decoration-color: #00af00\">128</span>)      │             <span style=\"color: #00af00; text-decoration-color: #00af00\">0</span> │\n",
              "├─────────────────────────────────┼────────────────────────┼───────────────┤\n",
              "│ batch_normalization_2           │ (<span style=\"color: #00d7ff; text-decoration-color: #00d7ff\">None</span>, <span style=\"color: #00af00; text-decoration-color: #00af00\">8</span>, <span style=\"color: #00af00; text-decoration-color: #00af00\">8</span>, <span style=\"color: #00af00; text-decoration-color: #00af00\">128</span>)      │           <span style=\"color: #00af00; text-decoration-color: #00af00\">512</span> │\n",
              "│ (<span style=\"color: #0087ff; text-decoration-color: #0087ff\">BatchNormalization</span>)            │                        │               │\n",
              "├─────────────────────────────────┼────────────────────────┼───────────────┤\n",
              "│ conv2d_3 (<span style=\"color: #0087ff; text-decoration-color: #0087ff\">Conv2D</span>)               │ (<span style=\"color: #00d7ff; text-decoration-color: #00d7ff\">None</span>, <span style=\"color: #00af00; text-decoration-color: #00af00\">8</span>, <span style=\"color: #00af00; text-decoration-color: #00af00\">8</span>, <span style=\"color: #00af00; text-decoration-color: #00af00\">256</span>)      │       <span style=\"color: #00af00; text-decoration-color: #00af00\">819,456</span> │\n",
              "├─────────────────────────────────┼────────────────────────┼───────────────┤\n",
              "│ max_pooling2d_3 (<span style=\"color: #0087ff; text-decoration-color: #0087ff\">MaxPooling2D</span>)  │ (<span style=\"color: #00d7ff; text-decoration-color: #00d7ff\">None</span>, <span style=\"color: #00af00; text-decoration-color: #00af00\">4</span>, <span style=\"color: #00af00; text-decoration-color: #00af00\">4</span>, <span style=\"color: #00af00; text-decoration-color: #00af00\">256</span>)      │             <span style=\"color: #00af00; text-decoration-color: #00af00\">0</span> │\n",
              "├─────────────────────────────────┼────────────────────────┼───────────────┤\n",
              "│ batch_normalization_3           │ (<span style=\"color: #00d7ff; text-decoration-color: #00d7ff\">None</span>, <span style=\"color: #00af00; text-decoration-color: #00af00\">4</span>, <span style=\"color: #00af00; text-decoration-color: #00af00\">4</span>, <span style=\"color: #00af00; text-decoration-color: #00af00\">256</span>)      │         <span style=\"color: #00af00; text-decoration-color: #00af00\">1,024</span> │\n",
              "│ (<span style=\"color: #0087ff; text-decoration-color: #0087ff\">BatchNormalization</span>)            │                        │               │\n",
              "├─────────────────────────────────┼────────────────────────┼───────────────┤\n",
              "│ conv2d_4 (<span style=\"color: #0087ff; text-decoration-color: #0087ff\">Conv2D</span>)               │ (<span style=\"color: #00d7ff; text-decoration-color: #00d7ff\">None</span>, <span style=\"color: #00af00; text-decoration-color: #00af00\">4</span>, <span style=\"color: #00af00; text-decoration-color: #00af00\">4</span>, <span style=\"color: #00af00; text-decoration-color: #00af00\">512</span>)      │     <span style=\"color: #00af00; text-decoration-color: #00af00\">3,277,312</span> │\n",
              "├─────────────────────────────────┼────────────────────────┼───────────────┤\n",
              "│ max_pooling2d_4 (<span style=\"color: #0087ff; text-decoration-color: #0087ff\">MaxPooling2D</span>)  │ (<span style=\"color: #00d7ff; text-decoration-color: #00d7ff\">None</span>, <span style=\"color: #00af00; text-decoration-color: #00af00\">2</span>, <span style=\"color: #00af00; text-decoration-color: #00af00\">2</span>, <span style=\"color: #00af00; text-decoration-color: #00af00\">512</span>)      │             <span style=\"color: #00af00; text-decoration-color: #00af00\">0</span> │\n",
              "├─────────────────────────────────┼────────────────────────┼───────────────┤\n",
              "│ batch_normalization_4           │ (<span style=\"color: #00d7ff; text-decoration-color: #00d7ff\">None</span>, <span style=\"color: #00af00; text-decoration-color: #00af00\">2</span>, <span style=\"color: #00af00; text-decoration-color: #00af00\">2</span>, <span style=\"color: #00af00; text-decoration-color: #00af00\">512</span>)      │         <span style=\"color: #00af00; text-decoration-color: #00af00\">2,048</span> │\n",
              "│ (<span style=\"color: #0087ff; text-decoration-color: #0087ff\">BatchNormalization</span>)            │                        │               │\n",
              "├─────────────────────────────────┼────────────────────────┼───────────────┤\n",
              "│ conv2d_5 (<span style=\"color: #0087ff; text-decoration-color: #0087ff\">Conv2D</span>)               │ (<span style=\"color: #00d7ff; text-decoration-color: #00d7ff\">None</span>, <span style=\"color: #00af00; text-decoration-color: #00af00\">2</span>, <span style=\"color: #00af00; text-decoration-color: #00af00\">2</span>, <span style=\"color: #00af00; text-decoration-color: #00af00\">1024</span>)     │    <span style=\"color: #00af00; text-decoration-color: #00af00\">13,108,224</span> │\n",
              "├─────────────────────────────────┼────────────────────────┼───────────────┤\n",
              "│ max_pooling2d_5 (<span style=\"color: #0087ff; text-decoration-color: #0087ff\">MaxPooling2D</span>)  │ (<span style=\"color: #00d7ff; text-decoration-color: #00d7ff\">None</span>, <span style=\"color: #00af00; text-decoration-color: #00af00\">1</span>, <span style=\"color: #00af00; text-decoration-color: #00af00\">1</span>, <span style=\"color: #00af00; text-decoration-color: #00af00\">1024</span>)     │             <span style=\"color: #00af00; text-decoration-color: #00af00\">0</span> │\n",
              "├─────────────────────────────────┼────────────────────────┼───────────────┤\n",
              "│ batch_normalization_5           │ (<span style=\"color: #00d7ff; text-decoration-color: #00d7ff\">None</span>, <span style=\"color: #00af00; text-decoration-color: #00af00\">1</span>, <span style=\"color: #00af00; text-decoration-color: #00af00\">1</span>, <span style=\"color: #00af00; text-decoration-color: #00af00\">1024</span>)     │         <span style=\"color: #00af00; text-decoration-color: #00af00\">4,096</span> │\n",
              "│ (<span style=\"color: #0087ff; text-decoration-color: #0087ff\">BatchNormalization</span>)            │                        │               │\n",
              "├─────────────────────────────────┼────────────────────────┼───────────────┤\n",
              "│ global_average_pooling2d        │ (<span style=\"color: #00d7ff; text-decoration-color: #00d7ff\">None</span>, <span style=\"color: #00af00; text-decoration-color: #00af00\">1024</span>)           │             <span style=\"color: #00af00; text-decoration-color: #00af00\">0</span> │\n",
              "│ (<span style=\"color: #0087ff; text-decoration-color: #0087ff\">GlobalAveragePooling2D</span>)        │                        │               │\n",
              "├─────────────────────────────────┼────────────────────────┼───────────────┤\n",
              "│ dense (<span style=\"color: #0087ff; text-decoration-color: #0087ff\">Dense</span>)                   │ (<span style=\"color: #00d7ff; text-decoration-color: #00d7ff\">None</span>, <span style=\"color: #00af00; text-decoration-color: #00af00\">64</span>)             │        <span style=\"color: #00af00; text-decoration-color: #00af00\">65,600</span> │\n",
              "├─────────────────────────────────┼────────────────────────┼───────────────┤\n",
              "│ batch_normalization_6           │ (<span style=\"color: #00d7ff; text-decoration-color: #00d7ff\">None</span>, <span style=\"color: #00af00; text-decoration-color: #00af00\">64</span>)             │           <span style=\"color: #00af00; text-decoration-color: #00af00\">256</span> │\n",
              "│ (<span style=\"color: #0087ff; text-decoration-color: #0087ff\">BatchNormalization</span>)            │                        │               │\n",
              "├─────────────────────────────────┼────────────────────────┼───────────────┤\n",
              "│ dropout (<span style=\"color: #0087ff; text-decoration-color: #0087ff\">Dropout</span>)               │ (<span style=\"color: #00d7ff; text-decoration-color: #00d7ff\">None</span>, <span style=\"color: #00af00; text-decoration-color: #00af00\">64</span>)             │             <span style=\"color: #00af00; text-decoration-color: #00af00\">0</span> │\n",
              "├─────────────────────────────────┼────────────────────────┼───────────────┤\n",
              "│ dense_1 (<span style=\"color: #0087ff; text-decoration-color: #0087ff\">Dense</span>)                 │ (<span style=\"color: #00d7ff; text-decoration-color: #00d7ff\">None</span>, <span style=\"color: #00af00; text-decoration-color: #00af00\">128</span>)            │         <span style=\"color: #00af00; text-decoration-color: #00af00\">8,320</span> │\n",
              "├─────────────────────────────────┼────────────────────────┼───────────────┤\n",
              "│ batch_normalization_7           │ (<span style=\"color: #00d7ff; text-decoration-color: #00d7ff\">None</span>, <span style=\"color: #00af00; text-decoration-color: #00af00\">128</span>)            │           <span style=\"color: #00af00; text-decoration-color: #00af00\">512</span> │\n",
              "│ (<span style=\"color: #0087ff; text-decoration-color: #0087ff\">BatchNormalization</span>)            │                        │               │\n",
              "├─────────────────────────────────┼────────────────────────┼───────────────┤\n",
              "│ dropout_1 (<span style=\"color: #0087ff; text-decoration-color: #0087ff\">Dropout</span>)             │ (<span style=\"color: #00d7ff; text-decoration-color: #00d7ff\">None</span>, <span style=\"color: #00af00; text-decoration-color: #00af00\">128</span>)            │             <span style=\"color: #00af00; text-decoration-color: #00af00\">0</span> │\n",
              "├─────────────────────────────────┼────────────────────────┼───────────────┤\n",
              "│ dense_2 (<span style=\"color: #0087ff; text-decoration-color: #0087ff\">Dense</span>)                 │ (<span style=\"color: #00d7ff; text-decoration-color: #00d7ff\">None</span>, <span style=\"color: #00af00; text-decoration-color: #00af00\">256</span>)            │        <span style=\"color: #00af00; text-decoration-color: #00af00\">33,024</span> │\n",
              "├─────────────────────────────────┼────────────────────────┼───────────────┤\n",
              "│ batch_normalization_8           │ (<span style=\"color: #00d7ff; text-decoration-color: #00d7ff\">None</span>, <span style=\"color: #00af00; text-decoration-color: #00af00\">256</span>)            │         <span style=\"color: #00af00; text-decoration-color: #00af00\">1,024</span> │\n",
              "│ (<span style=\"color: #0087ff; text-decoration-color: #0087ff\">BatchNormalization</span>)            │                        │               │\n",
              "├─────────────────────────────────┼────────────────────────┼───────────────┤\n",
              "│ dropout_2 (<span style=\"color: #0087ff; text-decoration-color: #0087ff\">Dropout</span>)             │ (<span style=\"color: #00d7ff; text-decoration-color: #00d7ff\">None</span>, <span style=\"color: #00af00; text-decoration-color: #00af00\">256</span>)            │             <span style=\"color: #00af00; text-decoration-color: #00af00\">0</span> │\n",
              "├─────────────────────────────────┼────────────────────────┼───────────────┤\n",
              "│ dense_3 (<span style=\"color: #0087ff; text-decoration-color: #0087ff\">Dense</span>)                 │ (<span style=\"color: #00d7ff; text-decoration-color: #00d7ff\">None</span>, <span style=\"color: #00af00; text-decoration-color: #00af00\">512</span>)            │       <span style=\"color: #00af00; text-decoration-color: #00af00\">131,584</span> │\n",
              "├─────────────────────────────────┼────────────────────────┼───────────────┤\n",
              "│ batch_normalization_9           │ (<span style=\"color: #00d7ff; text-decoration-color: #00d7ff\">None</span>, <span style=\"color: #00af00; text-decoration-color: #00af00\">512</span>)            │         <span style=\"color: #00af00; text-decoration-color: #00af00\">2,048</span> │\n",
              "│ (<span style=\"color: #0087ff; text-decoration-color: #0087ff\">BatchNormalization</span>)            │                        │               │\n",
              "├─────────────────────────────────┼────────────────────────┼───────────────┤\n",
              "│ dropout_3 (<span style=\"color: #0087ff; text-decoration-color: #0087ff\">Dropout</span>)             │ (<span style=\"color: #00d7ff; text-decoration-color: #00d7ff\">None</span>, <span style=\"color: #00af00; text-decoration-color: #00af00\">512</span>)            │             <span style=\"color: #00af00; text-decoration-color: #00af00\">0</span> │\n",
              "├─────────────────────────────────┼────────────────────────┼───────────────┤\n",
              "│ dense_4 (<span style=\"color: #0087ff; text-decoration-color: #0087ff\">Dense</span>)                 │ (<span style=\"color: #00d7ff; text-decoration-color: #00d7ff\">None</span>, <span style=\"color: #00af00; text-decoration-color: #00af00\">1024</span>)           │       <span style=\"color: #00af00; text-decoration-color: #00af00\">525,312</span> │\n",
              "├─────────────────────────────────┼────────────────────────┼───────────────┤\n",
              "│ batch_normalization_10          │ (<span style=\"color: #00d7ff; text-decoration-color: #00d7ff\">None</span>, <span style=\"color: #00af00; text-decoration-color: #00af00\">1024</span>)           │         <span style=\"color: #00af00; text-decoration-color: #00af00\">4,096</span> │\n",
              "│ (<span style=\"color: #0087ff; text-decoration-color: #0087ff\">BatchNormalization</span>)            │                        │               │\n",
              "├─────────────────────────────────┼────────────────────────┼───────────────┤\n",
              "│ dropout_4 (<span style=\"color: #0087ff; text-decoration-color: #0087ff\">Dropout</span>)             │ (<span style=\"color: #00d7ff; text-decoration-color: #00d7ff\">None</span>, <span style=\"color: #00af00; text-decoration-color: #00af00\">1024</span>)           │             <span style=\"color: #00af00; text-decoration-color: #00af00\">0</span> │\n",
              "├─────────────────────────────────┼────────────────────────┼───────────────┤\n",
              "│ dense_5 (<span style=\"color: #0087ff; text-decoration-color: #0087ff\">Dense</span>)                 │ (<span style=\"color: #00d7ff; text-decoration-color: #00d7ff\">None</span>, <span style=\"color: #00af00; text-decoration-color: #00af00\">2048</span>)           │     <span style=\"color: #00af00; text-decoration-color: #00af00\">2,099,200</span> │\n",
              "├─────────────────────────────────┼────────────────────────┼───────────────┤\n",
              "│ batch_normalization_11          │ (<span style=\"color: #00d7ff; text-decoration-color: #00d7ff\">None</span>, <span style=\"color: #00af00; text-decoration-color: #00af00\">2048</span>)           │         <span style=\"color: #00af00; text-decoration-color: #00af00\">8,192</span> │\n",
              "│ (<span style=\"color: #0087ff; text-decoration-color: #0087ff\">BatchNormalization</span>)            │                        │               │\n",
              "├─────────────────────────────────┼────────────────────────┼───────────────┤\n",
              "│ dropout_5 (<span style=\"color: #0087ff; text-decoration-color: #0087ff\">Dropout</span>)             │ (<span style=\"color: #00d7ff; text-decoration-color: #00d7ff\">None</span>, <span style=\"color: #00af00; text-decoration-color: #00af00\">2048</span>)           │             <span style=\"color: #00af00; text-decoration-color: #00af00\">0</span> │\n",
              "├─────────────────────────────────┼────────────────────────┼───────────────┤\n",
              "│ dense_6 (<span style=\"color: #0087ff; text-decoration-color: #0087ff\">Dense</span>)                 │ (<span style=\"color: #00d7ff; text-decoration-color: #00d7ff\">None</span>, <span style=\"color: #00af00; text-decoration-color: #00af00\">1</span>)              │         <span style=\"color: #00af00; text-decoration-color: #00af00\">2,049</span> │\n",
              "└─────────────────────────────────┴────────────────────────┴───────────────┘\n",
              "</pre>\n"
            ]
          },
          "metadata": {}
        },
        {
          "output_type": "display_data",
          "data": {
            "text/plain": [
              "\u001b[1m Total params: \u001b[0m\u001b[38;5;34m61,034,501\u001b[0m (232.83 MB)\n"
            ],
            "text/html": [
              "<pre style=\"white-space:pre;overflow-x:auto;line-height:normal;font-family:Menlo,'DejaVu Sans Mono',consolas,'Courier New',monospace\"><span style=\"font-weight: bold\"> Total params: </span><span style=\"color: #00af00; text-decoration-color: #00af00\">61,034,501</span> (232.83 MB)\n",
              "</pre>\n"
            ]
          },
          "metadata": {}
        },
        {
          "output_type": "display_data",
          "data": {
            "text/plain": [
              "\u001b[1m Trainable params: \u001b[0m\u001b[38;5;34m20,340,801\u001b[0m (77.59 MB)\n"
            ],
            "text/html": [
              "<pre style=\"white-space:pre;overflow-x:auto;line-height:normal;font-family:Menlo,'DejaVu Sans Mono',consolas,'Courier New',monospace\"><span style=\"font-weight: bold\"> Trainable params: </span><span style=\"color: #00af00; text-decoration-color: #00af00\">20,340,801</span> (77.59 MB)\n",
              "</pre>\n"
            ]
          },
          "metadata": {}
        },
        {
          "output_type": "display_data",
          "data": {
            "text/plain": [
              "\u001b[1m Non-trainable params: \u001b[0m\u001b[38;5;34m12,096\u001b[0m (47.25 KB)\n"
            ],
            "text/html": [
              "<pre style=\"white-space:pre;overflow-x:auto;line-height:normal;font-family:Menlo,'DejaVu Sans Mono',consolas,'Courier New',monospace\"><span style=\"font-weight: bold\"> Non-trainable params: </span><span style=\"color: #00af00; text-decoration-color: #00af00\">12,096</span> (47.25 KB)\n",
              "</pre>\n"
            ]
          },
          "metadata": {}
        },
        {
          "output_type": "display_data",
          "data": {
            "text/plain": [
              "\u001b[1m Optimizer params: \u001b[0m\u001b[38;5;34m40,681,604\u001b[0m (155.19 MB)\n"
            ],
            "text/html": [
              "<pre style=\"white-space:pre;overflow-x:auto;line-height:normal;font-family:Menlo,'DejaVu Sans Mono',consolas,'Courier New',monospace\"><span style=\"font-weight: bold\"> Optimizer params: </span><span style=\"color: #00af00; text-decoration-color: #00af00\">40,681,604</span> (155.19 MB)\n",
              "</pre>\n"
            ]
          },
          "metadata": {}
        }
      ],
      "source": [
        "## Please use the space below to write your answer\n",
        "cnn_model = load_model(keras_model_path) # Loading the CNN model\n",
        "\n",
        "cnn_model.summary() # Display model summary"
      ]
    },
    {
      "cell_type": "markdown",
      "id": "d2ccbcff-9fd5-4bb3-bc6a-cf00e3339009",
      "metadata": {
        "id": "d2ccbcff-9fd5-4bb3-bc6a-cf00e3339009"
      },
      "source": [
        "Double-click **here** for the solution.\n",
        "<!--\n",
        "cnn_model = load_model(keras_model_path) # Loading the CNN model\n",
        "\n",
        "cnn_model.summary() # Display model summary\n",
        "-->\n"
      ]
    },
    {
      "cell_type": "markdown",
      "id": "ddc551ed-bce9-4b1e-b615-ff5c608df8fa",
      "metadata": {
        "id": "ddc551ed-bce9-4b1e-b615-ff5c608df8fa"
      },
      "source": [
        "## Task 2: Based on `model.summary()`, get the name of the layer from the CNN model for feature extraction in the variable `feature_layer_name`\n",
        "\n",
        "This is the last convolutional layer, usually before `GlobalAveragePooling2D`.\n"
      ]
    },
    {
      "cell_type": "code",
      "execution_count": 11,
      "id": "88a6ab36-c62a-4f2e-906f-761282cd788d",
      "metadata": {
        "id": "88a6ab36-c62a-4f2e-906f-761282cd788d"
      },
      "outputs": [],
      "source": [
        "## Please use the space below to write your answer\n",
        "feature_layer_name = \"batch_normalization_5\"\n"
      ]
    },
    {
      "cell_type": "markdown",
      "id": "6dbb3c91-32d8-4f89-9be1-9a5b3997b3e4",
      "metadata": {
        "id": "6dbb3c91-32d8-4f89-9be1-9a5b3997b3e4"
      },
      "source": [
        "Double-click **here** for the solution.\n",
        "<!--\n",
        "feature_layer_name = \"batch_normalization_5\"\n",
        "-->\n"
      ]
    },
    {
      "cell_type": "markdown",
      "id": "9bbea4d3",
      "metadata": {
        "id": "9bbea4d3"
      },
      "source": [
        "## Custom positional embedding layer\n",
        "\n",
        "In this cell, you define a custom Keras layer called `AddPositionEmbedding` that implements positional embeddings for the Vision Transformer architecture. Positional embeddings are crucial in transformer models because they lack inherent spatial awareness, unlike convolutional layers that have built-in spatial inductive biases.\n",
        "\n",
        "- The class inherits from `layers.Layer`, making it a proper Keras custom layer\n",
        "- In the `__init__` method, it creates a trainable weight matrix using `self.add_weight()`\n",
        "- The positional embedding has shape `(1, num_patches, embed_dim)` where the first dimension allows broadcasting across batch sizes\n",
        "- The `initializer=\"random_normal\"` ensures the embeddings start with random values that will be learned during training\n",
        "- The `trainable=True` parameter makes these embeddings learnable parameters\n",
        "\n",
        "\n",
        "This layer is essential for the hybrid CNN-ViT architecture because when CNN feature maps are flattened into tokens, spatial relationships are lost. The positional embeddings restore spatial awareness by providing each token with information about its original spatial location in the feature map. This allows the transformer to understand which tokens are spatially adjacent or distant, enabling it to make spatially aware attention decisions.\n",
        "\n",
        "The `call` method adds the positional embeddings to the input tokens using element-wise addition. This is computationally efficient and follows the standard transformer approach, where positional information is added to preserve the embedding dimension.\n"
      ]
    },
    {
      "cell_type": "code",
      "execution_count": 12,
      "id": "bf233bbb",
      "metadata": {
        "id": "bf233bbb"
      },
      "outputs": [],
      "source": [
        "# Positional embedding that Keras can track\n",
        "@tf.keras.utils.register_keras_serializable(package=\"Custom\")\n",
        "class AddPositionEmbedding(layers.Layer):\n",
        "    def __init__(self, num_patches, embed_dim, **kwargs):\n",
        "        super().__init__(**kwargs)\n",
        "        self.num_patches = num_patches\n",
        "        self.embed_dim   = embed_dim\n",
        "        self.pos = self.add_weight(\n",
        "            name=\"pos_embedding\",\n",
        "            shape=(1, num_patches, embed_dim),\n",
        "            initializer=\"random_normal\",\n",
        "            trainable=True)\n",
        "\n",
        "    def call(self, tokens):\n",
        "        return tokens + self.pos\n",
        "\n",
        "    def get_config(self):\n",
        "        config = super().get_config()\n",
        "        config.update({\n",
        "            \"num_patches\": self.num_patches,\n",
        "            \"embed_dim\":   self.embed_dim,\n",
        "        })\n",
        "        return {**config}"
      ]
    },
    {
      "cell_type": "markdown",
      "id": "e8388357",
      "metadata": {
        "id": "e8388357"
      },
      "source": [
        "## Transformer block implementation\n",
        "\n",
        "In this code cell, you will implement a complete transformer encoder block, the fundamental building block of the Vision Transformer architecture. The `TransformerBlock` class encapsulates the standard transformer encoder architecture with multi-head self-attention and feed-forward neural network components.\n",
        "\n",
        "**Role in hybrid architecture:**\n",
        "In the CNN-ViT hybrid, these transformer blocks process the tokenized CNN feature maps, allowing the model to capture long-range spatial dependencies that CNNs might miss due to their limited receptive fields. The self-attention mechanism enables each spatial location to attend to all other locations, providing global context awareness.\n",
        "\n",
        "**Technical architecture:**\n",
        "- **Multi-head attention (MHA):** Uses `layers.MultiHeadAttention` with a configurable number of heads and key dimension equal to embed_dim\n",
        "- **Layer normalization:** Two `LayerNormalization` layers with epsilon=1e-6 for numerical stability\n",
        "- **MLP block:** A two-layer feed-forward network with GELU activation and dropout for regularization\n",
        "- **Residual connections:** Implements skip connections around both the attention and MLP blocks\n",
        "\n",
        "**Parameters:**\n",
        "- `embed_dim`: The dimensionality of token embeddings (typically matches CNN feature map channels)\n",
        "- `num_heads`: Number of attention heads (default 8, must divide embed_dim evenly)\n",
        "- `mlp_dim`: Hidden dimension of the MLP block (typically 4x embed_dim)\n",
        "- `dropout`: Dropout rate for regularization (default 0.1)\n",
        "\n",
        "**Forward pass logic:**\n",
        "Forward pass allows the model to capture both local and global dependencies in the feature representations while maintaining gradient flow through residual connections.\n"
      ]
    },
    {
      "cell_type": "code",
      "execution_count": 13,
      "id": "727fb05e",
      "metadata": {
        "id": "727fb05e"
      },
      "outputs": [],
      "source": [
        "# One Transformer encoder block\n",
        "@tf.keras.utils.register_keras_serializable(package=\"Custom\")\n",
        "class TransformerBlock(layers.Layer):\n",
        "    def __init__(self, embed_dim, num_heads=8, mlp_dim=2048, dropout=0.1, **kwargs):\n",
        "        super().__init__(**kwargs)\n",
        "        self.embed_dim = embed_dim\n",
        "        self.num_heads = num_heads\n",
        "        self.mlp_dim   = mlp_dim\n",
        "        self.dropout   = dropout\n",
        "        self.mha  = layers.MultiHeadAttention(num_heads, key_dim=embed_dim)\n",
        "        self.norm1 = layers.LayerNormalization(epsilon=1e-6)\n",
        "        self.norm2 = layers.LayerNormalization(epsilon=1e-6)\n",
        "        self.mlp = tf.keras.Sequential([\n",
        "            layers.Dense(mlp_dim, activation=\"gelu\"),\n",
        "            layers.Dropout(dropout),\n",
        "            layers.Dense(embed_dim),\n",
        "            layers.Dropout(dropout)\n",
        "        ])\n",
        "\n",
        "    def call(self, x):\n",
        "        x = self.norm1(x + self.mha(x, x))\n",
        "        return self.norm2(x + self.mlp(x))\n",
        "\n",
        "    def get_config(self):\n",
        "        config = super().get_config()\n",
        "        config.update({\n",
        "            \"embed_dim\":  self.embed_dim,\n",
        "            \"num_heads\":  self.num_heads,\n",
        "            \"mlp_dim\":    self.mlp_dim,\n",
        "            \"dropout\":    self.dropout,\n",
        "        })\n",
        "        return {**config}\n"
      ]
    },
    {
      "cell_type": "markdown",
      "id": "e1ff6478",
      "metadata": {
        "id": "e1ff6478"
      },
      "source": [
        "## Hybrid model builder function\n",
        "\n",
        "Now, you will define a function `build_cnn_vit_hybrid` that constructs the complete hybrid CNN-Vision Transformer model. This function represents the main architectural innovation of the notebook, combining the strengths of convolutional neural networks for local feature extraction with transformers for global context modeling.\n",
        "\n",
        "**Function architecture:**\n",
        "1. **CNN feature extraction:** Extracts intermediate feature maps from a pre-trained CNN at a specified layer\n",
        "2. **Tokenization:** Reshapes spatial feature maps into a sequence of tokens suitable for transformer processing\n",
        "3. **Positional encoding:** Adds learnable positional embeddings to maintain spatial relationships\n",
        "4. **Transformer stack:** Applies multiple transformer encoder blocks for global context modeling\n",
        "5. **Classification head:** Pools tokens and applies the final classification layer\n",
        "\n",
        "**Parameters:**\n",
        "- `cnn_model`: Pre-trained CNN model for feature extraction\n",
        "- `feature_layer_name`: Name of the CNN layer to extract features from (e.g., `batch_normalization_5` in the original model architecture)\n",
        "- `num_transformer_layers`: Number of transformer blocks to stack (default 4)\n",
        "- `num_heads`: Number of attention heads per transformer block (default 8)\n",
        "- `mlp_dim`: MLP hidden dimension in transformer blocks (default 2048)\n",
        "- `num_classes`: Number of output classes for classification\n",
        "\n",
        "The function first freezes the CNN backbone (`cnn_model.trainable = False`) to use it as a fixed feature extractor. It then extracts feature maps with shape (B, H, W, C) and reshapes them to (B, H*W, C), where each spatial location becomes a token. The `AddPositionEmbedding` layer adds spatial awareness, and multiple TransformerBlock layers process the tokens. Finally, `GlobalAveragePooling1D` aggregates all tokens, and a dense layer with softmax activation produces class predictions.\n",
        "\n",
        "This hybrid approach leverages CNN's local feature detection capabilities while adding the transformer's global attention mechanism. The result is a model that can capture both fine-grained local patterns and long-range spatial dependencies, potentially **outperforming pure CNN** or pure transformer approaches on vision tasks.\n"
      ]
    },
    {
      "cell_type": "code",
      "execution_count": 14,
      "id": "4c2598f0",
      "metadata": {
        "id": "4c2598f0"
      },
      "outputs": [],
      "source": [
        "def build_cnn_vit_hybrid(\n",
        "        cnn_model,\n",
        "        feature_layer_name,\n",
        "        num_transformer_layers=4,\n",
        "        num_heads=8,\n",
        "        mlp_dim=2048,\n",
        "        num_classes=3):\n",
        "    # 1. Freeze or fine-tune the CNN as you prefer\n",
        "    cnn_model.trainable = False      # set True to fine-tune\n",
        "\n",
        "    # 2. Feature extractor up to the chosen layer\n",
        "    features = cnn_model.get_layer(feature_layer_name).output\n",
        "    H, W, C = features.shape[1], features.shape[2], features.shape[3]\n",
        "\n",
        "    # 3. Flatten spatial grid → tokens  &  add positional encoding\n",
        "    x = layers.Reshape((H * W, C))(features)\n",
        "    x = AddPositionEmbedding(H * W, C)(x)\n",
        "\n",
        "    # 4. Stack ViT encoder blocks\n",
        "    for _ in range(num_transformer_layers):\n",
        "        x = TransformerBlock(C, num_heads, mlp_dim)(x)\n",
        "\n",
        "    # 5. Token pooling & classification head\n",
        "    x = layers.GlobalAveragePooling1D()(x)\n",
        "    outputs = layers.Dense(num_classes, activation=\"softmax\")(x)\n",
        "\n",
        "    return Model(cnn_model.layers[0].input, outputs, name=\"CNN_ViT_hybrid\")\n"
      ]
    },
    {
      "cell_type": "markdown",
      "id": "c46c3ff0",
      "metadata": {
        "id": "c46c3ff0"
      },
      "source": [
        "## Data generator configuration\n",
        "\n",
        "Now you will set up data preprocessing and augmentation pipeline using Keras' `ImageDataGenerator`.\n",
        "\n",
        "**Data configuration parameters:**\n",
        "- `img_w, img_h = 64, 64`: Input image dimensions (64x64 pixels)\n",
        "- `n_channels = 3`: RGB color channels\n",
        "- `batch_size = 128`: Number of samples per training batch\n",
        "- `num_classes = 2`: Binary classification setup\n",
        "\n",
        "**Generators:**\n",
        "Two separate generators are created:\n",
        "1. `train_gen`: Training data with augmentation and shuffling\n",
        "2. `val_gen`: Validation data with the same preprocessing but a different subset\n",
        "\n",
        "Both generators use `class_mode=\"categorical\"` for one-hot encoded labels, `target_size=(64,64)` for consistent input dimensions, and `shuffle=True` for randomized batch sampling.\n",
        "\n",
        "This augmentation strategy significantly increases the effective dataset size and helps prevent overfitting by exposing the model to varied versions of the same images. The validation split ensures proper model evaluation on unseen data, while the categorical class mode prepares labels for softmax classification in the hybrid model.\n"
      ]
    },
    {
      "cell_type": "code",
      "execution_count": 15,
      "id": "5cc8c443",
      "metadata": {
        "colab": {
          "base_uri": "https://localhost:8080/"
        },
        "id": "5cc8c443",
        "outputId": "25aa2484-c08a-4450-e0ec-ed2f56e4556c"
      },
      "outputs": [
        {
          "output_type": "stream",
          "name": "stdout",
          "text": [
            "./images_dataSAT\n",
            "Found 4800 images belonging to 2 classes.\n",
            "Found 1200 images belonging to 2 classes.\n"
          ]
        }
      ],
      "source": [
        "\n",
        "dataset_path = os.path.join(data_dir, \"images_dataSAT\")\n",
        "print(dataset_path)\n",
        "\n",
        "img_w, img_h = 64, 64\n",
        "n_channels = 3\n",
        "batch_size = 32\n",
        "num_classes = 2\n",
        "\n",
        "\n",
        "datagen = ImageDataGenerator(rescale=1./255,\n",
        "                             rotation_range=40,\n",
        "                             width_shift_range=0.2,\n",
        "                             height_shift_range=0.2,\n",
        "                             shear_range=0.2,\n",
        "                             zoom_range=0.2,\n",
        "                             horizontal_flip=True,\n",
        "                             fill_mode=\"nearest\",\n",
        "                             validation_split=0.2\n",
        "                            )\n",
        "\n",
        "train_gen = datagen.flow_from_directory(dataset_path,\n",
        "                                        target_size = (img_w, img_h),\n",
        "                                        batch_size= batch_size,\n",
        "                                        class_mode=\"categorical\",\n",
        "                                        subset=\"training\",\n",
        "                                        shuffle=True\n",
        "                                       )\n",
        "\n",
        "val_gen = datagen.flow_from_directory(dataset_path,\n",
        "                                      target_size =(img_w, img_h),\n",
        "                                      batch_size = batch_size,\n",
        "                                      class_mode=\"categorical\",\n",
        "                                      subset=\"validation\",\n",
        "                                      shuffle=True\n",
        "                                     )\n"
      ]
    },
    {
      "cell_type": "markdown",
      "id": "78b20ce4",
      "metadata": {
        "id": "78b20ce4"
      },
      "source": [
        "## Model checkpoint setup\n",
        "\n",
        "This code cell configures a `ModelCheckpoint` callback for saving the best model weights during training. Model checkpointing is a crucial practice in deep learning that prevents loss of training progress and enables recovery of the best-performing model state.\n",
        "\n",
        "**Checkpoint configuration:**\n",
        "- `filepath`: Specifies the file path and name for saving weights\n",
        "- `save_weights_only=True`: Saves only model weights, not the full model architecture (more efficient and avoids serialization issues)\n",
        "- `monitor='val_accuracy'`: Tracks validation accuracy as the metric for determining the \"best\" model\n",
        "- `mode='max'`: Indicates that higher validation accuracy values are better (use 'min' for loss metrics)\n",
        "- `save_best_only=True`: Only saves the model when validation accuracy improves, preventing storage of worse-performing checkpoints\n",
        "- `verbose=1`: Provides console output when a checkpoint is saved\n",
        "\n",
        "The checkpoint callback addresses several important training considerations:\n",
        "1. **Overfitting prevention:** Captures the model state at peak validation performance before overfitting occurs\n",
        "2. **Storage efficiency:** Saving weights only reduces file size compared to full model serialization\n",
        "3. **Automatic model saving:** Eliminates manual monitoring by automatically saving the best-performing epoch\n",
        "\n",
        "**Integration with training:**\n",
        "This callback will be passed to the `model.fit()` method, where it will monitor validation accuracy after each epoch. When validation accuracy improves, the callback saves the current model weights to the specified file. This ensures that even if training continues past the optimal point, the best-performing weights are preserved.\n",
        "\n",
        "**File naming convention:**\n",
        "The filename uses the `.model.keras` extension to indicate it contains the full model architecture.\n"
      ]
    },
    {
      "cell_type": "code",
      "execution_count": 16,
      "id": "e30bfce4-40cf-4cbc-87ca-a3ffe0c176e5",
      "metadata": {
        "id": "e30bfce4-40cf-4cbc-87ca-a3ffe0c176e5"
      },
      "outputs": [],
      "source": [
        "class CustomPrintCallback(tf.keras.callbacks.Callback):\n",
        "    def on_epoch_end(self, epoch, logs):\n",
        "        # Print epoch number and starting time\n",
        "        print(f\"Epoch {(epoch + 1):02d} completed on {present_time()}\")\n",
        "time_print_callback = CustomPrintCallback()"
      ]
    },
    {
      "cell_type": "code",
      "execution_count": 17,
      "id": "5a6d3120",
      "metadata": {
        "id": "5a6d3120"
      },
      "outputs": [],
      "source": [
        "model_name = \"keras_cnn_vit.model.keras\"\n",
        "# Save only weights to overcome the serialization issues with the hybrid model. The full model can be saved using the model architecture and weights.\n",
        "checkpoint_cb = ModelCheckpoint(filepath=model_name,\n",
        "                                save_weights_only=False,  # Set to True to save only weights\n",
        "                                monitor='val_loss',      # or 'val_accuracy', 'val_loss'\n",
        "                                mode='min',              # 'min' for loss, 'max' for accuracy\n",
        "                                save_best_only=True,\n",
        "                                verbose=1\n",
        "\n",
        "                               )"
      ]
    },
    {
      "cell_type": "markdown",
      "id": "5d310c72",
      "metadata": {
        "id": "5d310c72"
      },
      "source": [
        "## Model training and compilation\n",
        "\n",
        "Now, you will set up the core training pipeline, where the hybrid CNN-ViT model is built, compiled, and trained. This is the complete workflow from model instantiation to training execution with proper configuration for multi-class classification.\n"
      ]
    },
    {
      "cell_type": "markdown",
      "id": "2596da50-d549-4f2a-a4b1-152291141de4",
      "metadata": {
        "id": "2596da50-d549-4f2a-a4b1-152291141de4"
      },
      "source": [
        "## Task 3: Define the model architecture in a variable named `hybrid_model` using the `build_cnn_vit_hybrid` function\n",
        "You may use the following parameters:\n",
        "\n",
        "- feature_layer_name: \"batch_normalization_5\"\n",
        "- num_transformer_layers: 4\n",
        "- attention heads: 2\n",
        "- mlp dimension: 2048\n",
        "    \n"
      ]
    },
    {
      "cell_type": "code",
      "execution_count": 18,
      "id": "f5abd941-a279-43bf-b4e7-0a89ffc922a0",
      "metadata": {
        "id": "f5abd941-a279-43bf-b4e7-0a89ffc922a0"
      },
      "outputs": [],
      "source": [
        "## Please use the space below to write your answer\n",
        "num_classes = train_gen.num_classes  # automatic\n",
        "hybrid_model = build_cnn_vit_hybrid(\n",
        "        cnn_model,\n",
        "        feature_layer_name=\"batch_normalization_5\",\n",
        "        num_transformer_layers=4,\n",
        "        num_heads=8,\n",
        "        mlp_dim=2048,\n",
        "        num_classes=num_classes)\n"
      ]
    },
    {
      "cell_type": "markdown",
      "id": "afe987db-3731-4866-87d4-69c440feffca",
      "metadata": {
        "id": "afe987db-3731-4866-87d4-69c440feffca"
      },
      "source": [
        "Double-click **here** for the solution.\n",
        "<!--\n",
        "\n",
        "num_classes = train_gen.num_classes  # automatic\n",
        "hybrid_model = build_cnn_vit_hybrid(\n",
        "        cnn_model,\n",
        "        feature_layer_name=\"batch_normalization_5\",\n",
        "        num_transformer_layers=4,\n",
        "        num_heads=8,\n",
        "        mlp_dim=2048,\n",
        "        num_classes=num_classes)\n",
        "\n",
        "-->\n"
      ]
    },
    {
      "cell_type": "markdown",
      "id": "e47f907b-ec3b-49b8-ae94-c4944bad334d",
      "metadata": {
        "id": "e47f907b-ec3b-49b8-ae94-c4944bad334d"
      },
      "source": [
        "## Task 4: Compile the model `hybrid_model`\n",
        "\n",
        "You may use the following parameters:\n",
        "- `optimizer=tf.keras.optimizers.Adam`\n",
        "- `learning rate: 0.0001`\n",
        "- `loss: categorical_crossentropy`\n",
        "- `metrics: accuracy`\n"
      ]
    },
    {
      "cell_type": "code",
      "execution_count": 19,
      "id": "43445bc3-e606-4efd-9875-59d8578d69f6",
      "metadata": {
        "id": "43445bc3-e606-4efd-9875-59d8578d69f6"
      },
      "outputs": [],
      "source": [
        "## Please use the space below to write your answer\n",
        "hybrid_model.compile(optimizer=tf.keras.optimizers.Adam(1e-4),\n",
        "                     loss=\"categorical_crossentropy\",\n",
        "                     metrics=[\"accuracy\"],\n",
        "                    )\n"
      ]
    },
    {
      "cell_type": "markdown",
      "id": "191748d2-897b-44c8-993e-e5f1697d98f3",
      "metadata": {
        "id": "191748d2-897b-44c8-993e-e5f1697d98f3"
      },
      "source": [
        "Double-click **here** for the solution.\n",
        "<!--\n",
        "hybrid_model.compile(optimizer=tf.keras.optimizers.Adam(1e-4),\n",
        "                     loss=\"categorical_crossentropy\",\n",
        "                     metrics=[\"accuracy\"],\n",
        "                    )\n",
        "-->\n"
      ]
    },
    {
      "cell_type": "markdown",
      "id": "aa4c5d3f",
      "metadata": {
        "id": "aa4c5d3f"
      },
      "source": [
        "## Model shape validation\n",
        "\n",
        "This code cell performs the validation step to ensure the hybrid model produces outputs with the correct shape and dimensions. Shape validation is essential in deep learning to catch architectural errors early and verify that the model will work correctly with the expected input and output formats.\n",
        "\n",
        "**Validation process:**\n",
        "The cell creates a dummy input tensor using `tf.random.normal([1, img_w, img_h, n_channels])`, which generates random values with the same shape as actual input images:\n",
        "- Batch size: 1 (single sample for testing)\n",
        "- Width: `img_w` (64 pixels)\n",
        "- Height: `img_h` (64 pixels)\n",
        "- Channels: `n_channels` (3 for RGB)\n",
        "\n",
        "**Output verification:**\n",
        "The dummy input is passed through the hybrid model (`hybrid_model(dummy)`) to generate predictions. The expected output shape should be `(1, num_classes)` where:\n",
        "- First dimension (1): Batch size\n",
        "- Second dimension (`num_classes`): Number of classification classes\n",
        "\n",
        "**Technical benefits:**\n",
        "This validation step serves multiple purposes:\n",
        "1. **Architecture verification:** Confirms that all layers are properly connected and compatible\n",
        "2. **Dimension checking:** Ensures the model produces the expected output shape for classification\n",
        "3. **Early error detection:** Catches shape mismatches before actual training or inference\n",
        "4. **Model readiness:** Verifies the model is ready for production use\n",
        "\n",
        "**Importance:**\n",
        "If the output shape doesn't match expectations, it indicates potential issues in the hybrid architecture, such as incorrect reshaping operations, wrong number of classes configuration, or problems in the CNN-to-transformer transition. This simple test can save significant debugging time by catching architectural issues immediately after model construction.\n"
      ]
    },
    {
      "cell_type": "code",
      "execution_count": 20,
      "id": "22cbcd1d",
      "metadata": {
        "colab": {
          "base_uri": "https://localhost:8080/"
        },
        "id": "22cbcd1d",
        "outputId": "ca6d8388-be8e-4eea-95b3-256df4db5f38"
      },
      "outputs": [
        {
          "output_type": "stream",
          "name": "stdout",
          "text": [
            "Logits shape: (1, 2)\n"
          ]
        }
      ],
      "source": [
        "# Ensure end-to-end shapes line up\n",
        "dummy = tf.random.normal([1, img_w, img_h, n_channels])\n",
        "pred  = hybrid_model(dummy)\n",
        "print(\"Logits shape:\", pred.shape)   # should be (1, num_classes)\n"
      ]
    },
    {
      "cell_type": "markdown",
      "id": "1187a326-5472-4ade-b14d-3baf9992ae8a",
      "metadata": {
        "id": "1187a326-5472-4ade-b14d-3baf9992ae8a"
      },
      "source": [
        "## Task 5: Define the training configuration of the `hybrid_model`.\n",
        "Train for 3 epochs\n",
        "Use the `checkpoint_cb` callback keyword for automatic saving of the best model state.\n"
      ]
    },
    {
      "cell_type": "code",
      "execution_count": 21,
      "id": "ccf54504-7295-4db0-bd24-654b05a931c4",
      "metadata": {
        "colab": {
          "base_uri": "https://localhost:8080/"
        },
        "id": "ccf54504-7295-4db0-bd24-654b05a931c4",
        "outputId": "fdb77dea-5ebd-4a7b-aa5d-c2123f7f3ccc"
      },
      "outputs": [
        {
          "output_type": "stream",
          "name": "stdout",
          "text": [
            "Epoch 1/3\n",
            "\u001b[1m150/150\u001b[0m \u001b[32m━━━━━━━━━━━━━━━━━━━━\u001b[0m\u001b[37m\u001b[0m \u001b[1m0s\u001b[0m 79ms/step - accuracy: 0.9924 - loss: 0.0837\n",
            "Epoch 1: val_loss improved from inf to 0.09934, saving model to keras_cnn_vit.model.keras\n",
            "\u001b[1m150/150\u001b[0m \u001b[32m━━━━━━━━━━━━━━━━━━━━\u001b[0m\u001b[37m\u001b[0m \u001b[1m55s\u001b[0m 228ms/step - accuracy: 0.9924 - loss: 0.0837 - val_accuracy: 0.9900 - val_loss: 0.0993\n",
            "Epoch 2/3\n",
            "\u001b[1m150/150\u001b[0m \u001b[32m━━━━━━━━━━━━━━━━━━━━\u001b[0m\u001b[37m\u001b[0m \u001b[1m0s\u001b[0m 81ms/step - accuracy: 0.9871 - loss: 0.0907\n",
            "Epoch 2: val_loss improved from 0.09934 to 0.08751, saving model to keras_cnn_vit.model.keras\n",
            "\u001b[1m150/150\u001b[0m \u001b[32m━━━━━━━━━━━━━━━━━━━━\u001b[0m\u001b[37m\u001b[0m \u001b[1m35s\u001b[0m 235ms/step - accuracy: 0.9871 - loss: 0.0906 - val_accuracy: 0.9875 - val_loss: 0.0875\n",
            "Epoch 3/3\n",
            "\u001b[1m150/150\u001b[0m \u001b[32m━━━━━━━━━━━━━━━━━━━━\u001b[0m\u001b[37m\u001b[0m \u001b[1m0s\u001b[0m 81ms/step - accuracy: 0.9792 - loss: 0.0876\n",
            "Epoch 3: val_loss did not improve from 0.08751\n",
            "\u001b[1m150/150\u001b[0m \u001b[32m━━━━━━━━━━━━━━━━━━━━\u001b[0m\u001b[37m\u001b[0m \u001b[1m15s\u001b[0m 98ms/step - accuracy: 0.9791 - loss: 0.0879 - val_accuracy: 0.9917 - val_loss: 0.1281\n"
          ]
        }
      ],
      "source": [
        "## Please use the space below to write your answer\n",
        "fit = hybrid_model.fit(train_gen,\n",
        "                       epochs=3,\n",
        "                       validation_data=val_gen,\n",
        "                       callbacks=[checkpoint_cb],\n",
        "                        )"
      ]
    },
    {
      "cell_type": "markdown",
      "id": "81bcb41b-5739-47e9-817d-b8ea7a32b7ff",
      "metadata": {
        "id": "81bcb41b-5739-47e9-817d-b8ea7a32b7ff"
      },
      "source": [
        "Double-click **here** for the solution.\n",
        "<!--\n",
        "\n",
        "fit = hybrid_model.fit(train_gen,\n",
        "                       epochs=3,\n",
        "                       validation_data=val_gen,\n",
        "                       callbacks=[checkpoint_cb],\n",
        "                        )\n",
        "-->\n"
      ]
    },
    {
      "cell_type": "markdown",
      "id": "69e06e06",
      "metadata": {
        "id": "69e06e06"
      },
      "source": [
        "## Training results visualization\n",
        "\n",
        "This code cell creates comprehensive visualizations of the training process by plotting both accuracy and loss curves. Visualization of training metrics is essential for understanding model performance, diagnosing training issues, and making informed decisions about model optimization.\n",
        "\n",
        "**Visualization setup:**\n",
        "The cell uses matplotlib to create two separate plots with consistent styling:\n",
        "- `fig_w, fig_h`: Sets figure dimensions for compact, readable plots\n",
        "- `plt.subplots(figsize=(fig_w, fig_h))`: Creates a subplot with specified dimensions\n",
        "\n",
        "**Accuracy plot analysis:**\n",
        "The first plot displays training and validation accuracy over epochs:\n",
        "- `fit.history['accuracy']`: Training accuracy progression\n",
        "- `fit.history['val_accuracy']`: Validation accuracy progression\n",
        "\n",
        "**Loss plot analysis:**\n",
        "The second plot shows training and validation loss curves:\n",
        "- `fit.history['loss']`: Training loss progression\n",
        "- `fit.history['val_loss']`: Validation loss progression\n",
        "\n",
        "***Importance:***\n",
        "These plots enable several important analyses:\n",
        "1. **Overfitting detection:** Diverging training and validation curves indicate overfitting\n",
        "2. **Convergence assessment:** Plateauing curves suggest training completion\n",
        "3. **Learning rate evaluation:** Oscillating curves may indicate learning rate issues\n",
        "4. **Model performance:** Final accuracy and loss values indicate overall model quality\n"
      ]
    },
    {
      "cell_type": "code",
      "execution_count": 22,
      "id": "25c26fab",
      "metadata": {
        "colab": {
          "base_uri": "https://localhost:8080/",
          "height": 597
        },
        "id": "25c26fab",
        "outputId": "c760a96e-3018-40f8-8b13-57fd5c067859"
      },
      "outputs": [
        {
          "output_type": "display_data",
          "data": {
            "text/plain": [
              "<Figure size 400x300 with 1 Axes>"
            ],
            "image/png": "[encoded data removed]"
          },
          "metadata": {}
        },
        {
          "output_type": "display_data",
          "data": {
            "text/plain": [
              "<Figure size 400x300 with 1 Axes>"
            ],
            "image/png": "[encoded data removed]"
          },
          "metadata": {}
        }
      ],
      "source": [
        "# Create a figure with a subplot\n",
        "fig_w, fig_h = 4,3\n",
        "fig, axs = plt.subplots(figsize=(fig_w, fig_h ))\n",
        "\n",
        "# Plot Accuracy on the first subplot\n",
        "axs.plot(fit.history['accuracy'], label='Training Accuracy')\n",
        "axs.plot(fit.history['val_accuracy'], label='Validation Accuracy')\n",
        "axs.set_title('Model Accuracy')\n",
        "axs.set_xlabel('Epochs')\n",
        "axs.set_ylabel('Accuracy')\n",
        "axs.legend()\n",
        "axs.grid(True)\n",
        "\n",
        "plt.tight_layout()\n",
        "plt.show()\n",
        "\n",
        "\n",
        "## You can use this cell to type the code to complete the task.\n",
        "\n",
        "fig, axs = plt.subplots(figsize=(fig_w, fig_h ))\n",
        "\n",
        "# Plot Loss on the second subplot\n",
        "axs.plot(fit.history['loss'], label='Training Loss')\n",
        "axs.plot(fit.history['val_loss'], label='Validation Loss')\n",
        "axs.set_title('Model Loss')\n",
        "axs.set_xlabel('Epochs')\n",
        "axs.set_ylabel('Loss')\n",
        "axs.legend()\n",
        "axs.grid(True)\n",
        "\n",
        "plt.tight_layout()\n",
        "plt.show()"
      ]
    },
    {
      "cell_type": "markdown",
      "id": "d9a580f2-7f09-4392-a807-b53419d4c8b1",
      "metadata": {
        "id": "d9a580f2-7f09-4392-a807-b53419d4c8b1"
      },
      "source": [
        "## Save and download the trained model weights\n",
        "\n",
        "You have successfully trained the ViT model for classification of agricultural land from satellite imagery using **Keras**\n",
        "In this lab, in the interest of time, you have trained the model for 3-5 epochs. However, usually you need to train the model for around 15-20 epochs, depending on the quality of training data and model metrics based on validation.\n",
        "\n",
        "For your convenience, I have saved a model state dict for the model trained over 20 epochs **[here](https://cf-courses-data.s3.us.cloud-object-storage.appdomain.cloud/7uNMQhNyTA8qSSDGn5Cc7A/keras-cnn-vit-ai-capstone.keras)**. You can download that for evaluation and further labs on your local machine from **[this link](https://cf-courses-data.s3.us.cloud-object-storage.appdomain.cloud/7uNMQhNyTA8qSSDGn5Cc7A/keras-cnn-vit-ai-capstone.keras)**.\n",
        "\n",
        "\n",
        "Otherwise, you have also saved the model state dictionary for the best model using the `checkpoint_cb` callback function during training in this lab.\n",
        "\n",
        "You can also download the model state dict for the model that you have just trained for use in the subsequent labs.\n",
        "\n",
        "This is the PyTorch AI model state that can now be used for infering un-classified images.\n",
        "\n",
        "- You can download the trained model weights: `keras_cnn_vit.model.keras` from the left pane and save it on your local computer.\n",
        "- You can download this model by \"right-click\" on the file and then Clicking \"Download\".\n",
        "- In conjunction with the model architecture, these model weights can be used in other labs of this AI capstone course, instead of the weights provided at the above link\n"
      ]
    },
    {
      "cell_type": "markdown",
      "id": "02fe9d4e-2621-49cd-9118-df88597f36ce",
      "metadata": {
        "id": "02fe9d4e-2621-49cd-9118-df88597f36ce"
      },
      "source": [
        "## Save and download the notebook for **final project** submission and evaluation\n",
        "\n",
        "You will need to save and download the completed notebook for final project submission and evaluation.\n",
        "<br>For saving and downloading the completed notebook, please follow the steps given below:</br>\n",
        "\n",
        "<font size = 4>  \n",
        "\n",
        "1) **Complete** all the tasks and questions given in the notebook.\n",
        "\n",
        "<img src=\"https://cf-courses-data.s3.us.cloud-object-storage.appdomain.cloud/nv4jHlPU5_R1q7ZJrZ69eg/DL0321EN-M1L1-Save-IPYNB-Screenshot-1.png\" style=\"width:600px; border:0px solid black;\">\n",
        "\n",
        "2) **Save** the notebook.</style>\n",
        "<img src=\"https://cf-courses-data.s3.us.cloud-object-storage.appdomain.cloud/9-WPWD4mW1d-RV5Il5otTg/DL0321EN-M1L1-Save-IPYNB-Screenshot-2.png\" style=\"width:600px; border:0px solid black;\">\n",
        "\n",
        "3) Identify and right click on the **correct notebook file** in the left pane.</style>\n",
        "<img src=\"https://cf-courses-data.s3.us.cloud-object-storage.appdomain.cloud/RUSRPw7NT6Sof94B7-9naQ/DL0321EN-M1L1-Save-IPYNB-Screenshot-3.png\" style=\"width:600px; border:0px solid black;\">\n",
        "\n",
        "4) Click on **Download**.</style>\n",
        "<img src=\"https://cf-courses-data.s3.us.cloud-object-storage.appdomain.cloud/HHry4GT-vhLEcRi1T_LHGg/DL0321EN-M1L1-Save-IPYNB-Screenshot-4.png\" style=\"width:600px; border:0px solid black;\">\n",
        "\n",
        "5) Download and **Save** the Jupyter notebook file on your computer **for final submission**.</style>\n",
        "<img src=\"https://cf-courses-data.s3.us.cloud-object-storage.appdomain.cloud/hhsJbxc6R-T8_pXQGjMjvg/DL0321EN-M1L1-Save-IPYNB-Screenshot-5.png\" style=\"width:600px; border:0px solid black;\">\n",
        "  </font>\n"
      ]
    },
    {
      "cell_type": "markdown",
      "id": "f7c4ff47-d95c-400f-ae87-56ca79b2ba98",
      "metadata": {
        "id": "f7c4ff47-d95c-400f-ae87-56ca79b2ba98"
      },
      "source": [
        "## Conclusion\n",
        "\n",
        "Congratulations! You've successfully built a CNN-ViT hybrid image classification model.\n",
        "In this lab, you learnt how to combine a convolutional neural network (CNN) with a Vision Transformer (ViT) for advanced image classification tasks. Starting from a pre-trained CNN, you learnt how to extract intermediate features, reshape them as tokens, and provide them with positional embeddings. By stacking transformer encoder blocks on top, the model benefits from both local detail extraction and global context awareness. Throughout the lab, techniques for robust data preparation, efficient training with model checkpoints, and effective visualization of performance were covered. By completing the steps in this notebook, you now have hands-on experience implementing and evaluating a contemporary hybrid vision model using Keras.\n"
      ]
    },
    {
      "cell_type": "markdown",
      "id": "aca5057e-a8f6-478d-8639-fd70fee4f8eb",
      "metadata": {
        "id": "aca5057e-a8f6-478d-8639-fd70fee4f8eb"
      },
      "source": [
        "<h2>Author</h2>\n",
        "\n",
        "[Aman Aggarwal](https://www.linkedin.com/in/aggarwal-aman)\n",
        "\n",
        "Aman Aggarwal is a PhD working at the intersection of neuroscience, AI, and drug discovery. He specializes in quantitative microscopy and image processing.\n",
        "\n"
      ]
    },
    {
      "cell_type": "markdown",
      "id": "e075dc2f-6ffa-45a6-b2d8-860217305244",
      "metadata": {
        "id": "e075dc2f-6ffa-45a6-b2d8-860217305244"
      },
      "source": [
        "<!--\n",
        "## Change Log\n",
        "\n",
        "|  Date (YYYY-MM-DD) |  Version | Changed By  |  Change Description |\n",
        "|---|---|---|---|\n",
        "| 2025-07-14  | 1.0  | Aman  |  Created the lab |\n",
        "\n",
        "-->\n"
      ]
    },
    {
      "cell_type": "markdown",
      "id": "917371aa-f1b6-469e-b57f-cbb963d3eef7",
      "metadata": {
        "id": "917371aa-f1b6-469e-b57f-cbb963d3eef7"
      },
      "source": [
        "© Copyright IBM Corporation. All rights reserved.\n"
      ]
    }
  ],
  "metadata": {
    "kernelspec": {
      "display_name": "Python 3",
      "name": "python3"
    },
    "language_info": {
      "codemirror_mode": {
        "name": "ipython",
        "version": 3
      },
      "file_extension": ".py",
      "mimetype": "text/x-python",
      "name": "python",
      "nbconvert_exporter": "python",
      "pygments_lexer": "ipython3",
      "version": "3.12.8"
    },
    "prev_pub_hash": "9ee1bd310d951ad83b2a406f53433fbf5e2fdd714bd8a6739502b2dfc8cef0d4",
    "colab": {
      "provenance": [],
      "gpuType": "T4"
    },
    "accelerator": "GPU",
    "widgets": {
      "application/vnd.jupyter.widget-state+json": {
        "c5f40dc850c141f3a28ddd69e33a4cb8": {
          "model_module": "@jupyter-widgets/controls",
          "model_name": "HBoxModel",
          "model_module_version": "1.5.0",
          "state": {
            "_dom_classes": [],
            "_model_module": "@jupyter-widgets/controls",
            "_model_module_version": "1.5.0",
            "_model_name": "HBoxModel",
            "_view_count": null,
            "_view_module": "@jupyter-widgets/controls",
            "_view_module_version": "1.5.0",
            "_view_name": "HBoxView",
            "box_style": "",
            "children": [
              "IPY_MODEL_38827e412c14409b9eeaf7d590db84ec",
              "IPY_MODEL_34b7b2c5c1684322b22899be68d3daa3",
              "IPY_MODEL_6c208dc5479e43aebf85feafd172684b"
            ],
            "layout": "IPY_MODEL_0229d98977e04363859f212b4546bd58"
          }
        },
        "38827e412c14409b9eeaf7d590db84ec": {
          "model_module": "@jupyter-widgets/controls",
          "model_name": "HTMLModel",
          "model_module_version": "1.5.0",
          "state": {
            "_dom_classes": [],
            "_model_module": "@jupyter-widgets/controls",
            "_model_module_version": "1.5.0",
            "_model_name": "HTMLModel",
            "_view_count": null,
            "_view_module": "@jupyter-widgets/controls",
            "_view_module_version": "1.5.0",
            "_view_name": "HTMLView",
            "description": "",
            "description_tooltip": null,
            "layout": "IPY_MODEL_704fff22a49442998e3ca2e5f8367b87",
            "placeholder": "​",
            "style": "IPY_MODEL_bd626a2a7d174625bcb72061c24ae3f8",
            "value": "Downloading images-dataSAT.tar: 100%"
          }
        },
        "34b7b2c5c1684322b22899be68d3daa3": {
          "model_module": "@jupyter-widgets/controls",
          "model_name": "FloatProgressModel",
          "model_module_version": "1.5.0",
          "state": {
            "_dom_classes": [],
            "_model_module": "@jupyter-widgets/controls",
            "_model_module_version": "1.5.0",
            "_model_name": "FloatProgressModel",
            "_view_count": null,
            "_view_module": "@jupyter-widgets/controls",
            "_view_module_version": "1.5.0",
            "_view_name": "ProgressView",
            "bar_style": "success",
            "description": "",
            "description_tooltip": null,
            "layout": "IPY_MODEL_03aa317c3c534135a90c54a42d82e91a",
            "max": 20243456,
            "min": 0,
            "orientation": "horizontal",
            "style": "IPY_MODEL_5e07feca95134c7ab37ac402006db1ef",
            "value": 20243456
          }
        },
        "6c208dc5479e43aebf85feafd172684b": {
          "model_module": "@jupyter-widgets/controls",
          "model_name": "HTMLModel",
          "model_module_version": "1.5.0",
          "state": {
            "_dom_classes": [],
            "_model_module": "@jupyter-widgets/controls",
            "_model_module_version": "1.5.0",
            "_model_name": "HTMLModel",
            "_view_count": null,
            "_view_module": "@jupyter-widgets/controls",
            "_view_module_version": "1.5.0",
            "_view_name": "HTMLView",
            "description": "",
            "description_tooltip": null,
            "layout": "IPY_MODEL_d1339499cb194d2a8d80e891b6a40dfd",
            "placeholder": "​",
            "style": "IPY_MODEL_046593faff2446b6a21811e6b15a7158",
            "value": " 20243456/20243456 [00:02&lt;00:00, 13822030.60it/s]"
          }
        },
        "0229d98977e04363859f212b4546bd58": {
          "model_module": "@jupyter-widgets/base",
          "model_name": "LayoutModel",
          "model_module_version": "1.2.0",
          "state": {
            "_model_module": "@jupyter-widgets/base",
            "_model_module_version": "1.2.0",
            "_model_name": "LayoutModel",
            "_view_count": null,
            "_view_module": "@jupyter-widgets/base",
            "_view_module_version": "1.2.0",
            "_view_name": "LayoutView",
            "align_content": null,
            "align_items": null,
            "align_self": null,
            "border": null,
            "bottom": null,
            "display": null,
            "flex": null,
            "flex_flow": null,
            "grid_area": null,
            "grid_auto_columns": null,
            "grid_auto_flow": null,
            "grid_auto_rows": null,
            "grid_column": null,
            "grid_gap": null,
            "grid_row": null,
            "grid_template_areas": null,
            "grid_template_columns": null,
            "grid_template_rows": null,
            "height": null,
            "justify_content": null,
            "justify_items": null,
            "left": null,
            "margin": null,
            "max_height": null,
            "max_width": null,
            "min_height": null,
            "min_width": null,
            "object_fit": null,
            "object_position": null,
            "order": null,
            "overflow": null,
            "overflow_x": null,
            "overflow_y": null,
            "padding": null,
            "right": null,
            "top": null,
            "visibility": null,
            "width": null
          }
        },
        "704fff22a49442998e3ca2e5f8367b87": {
          "model_module": "@jupyter-widgets/base",
          "model_name": "LayoutModel",
          "model_module_version": "1.2.0",
          "state": {
            "_model_module": "@jupyter-widgets/base",
            "_model_module_version": "1.2.0",
            "_model_name": "LayoutModel",
            "_view_count": null,
            "_view_module": "@jupyter-widgets/base",
            "_view_module_version": "1.2.0",
            "_view_name": "LayoutView",
            "align_content": null,
            "align_items": null,
            "align_self": null,
            "border": null,
            "bottom": null,
            "display": null,
            "flex": null,
            "flex_flow": null,
            "grid_area": null,
            "grid_auto_columns": null,
            "grid_auto_flow": null,
            "grid_auto_rows": null,
            "grid_column": null,
            "grid_gap": null,
            "grid_row": null,
            "grid_template_areas": null,
            "grid_template_columns": null,
            "grid_template_rows": null,
            "height": null,
            "justify_content": null,
            "justify_items": null,
            "left": null,
            "margin": null,
            "max_height": null,
            "max_width": null,
            "min_height": null,
            "min_width": null,
            "object_fit": null,
            "object_position": null,
            "order": null,
            "overflow": null,
            "overflow_x": null,
            "overflow_y": null,
            "padding": null,
            "right": null,
            "top": null,
            "visibility": null,
            "width": null
          }
        },
        "bd626a2a7d174625bcb72061c24ae3f8": {
          "model_module": "@jupyter-widgets/controls",
          "model_name": "DescriptionStyleModel",
          "model_module_version": "1.5.0",
          "state": {
            "_model_module": "@jupyter-widgets/controls",
            "_model_module_version": "1.5.0",
            "_model_name": "DescriptionStyleModel",
            "_view_count": null,
            "_view_module": "@jupyter-widgets/base",
            "_view_module_version": "1.2.0",
            "_view_name": "StyleView",
            "description_width": ""
          }
        },
        "03aa317c3c534135a90c54a42d82e91a": {
          "model_module": "@jupyter-widgets/base",
          "model_name": "LayoutModel",
          "model_module_version": "1.2.0",
          "state": {
            "_model_module": "@jupyter-widgets/base",
            "_model_module_version": "1.2.0",
            "_model_name": "LayoutModel",
            "_view_count": null,
            "_view_module": "@jupyter-widgets/base",
            "_view_module_version": "1.2.0",
            "_view_name": "LayoutView",
            "align_content": null,
            "align_items": null,
            "align_self": null,
            "border": null,
            "bottom": null,
            "display": null,
            "flex": null,
            "flex_flow": null,
            "grid_area": null,
            "grid_auto_columns": null,
            "grid_auto_flow": null,
            "grid_auto_rows": null,
            "grid_column": null,
            "grid_gap": null,
            "grid_row": null,
            "grid_template_areas": null,
            "grid_template_columns": null,
            "grid_template_rows": null,
            "height": null,
            "justify_content": null,
            "justify_items": null,
            "left": null,
            "margin": null,
            "max_height": null,
            "max_width": null,
            "min_height": null,
            "min_width": null,
            "object_fit": null,
            "object_position": null,
            "order": null,
            "overflow": null,
            "overflow_x": null,
            "overflow_y": null,
            "padding": null,
            "right": null,
            "top": null,
            "visibility": null,
            "width": null
          }
        },
        "5e07feca95134c7ab37ac402006db1ef": {
          "model_module": "@jupyter-widgets/controls",
          "model_name": "ProgressStyleModel",
          "model_module_version": "1.5.0",
          "state": {
            "_model_module": "@jupyter-widgets/controls",
            "_model_module_version": "1.5.0",
            "_model_name": "ProgressStyleModel",
            "_view_count": null,
            "_view_module": "@jupyter-widgets/base",
            "_view_module_version": "1.2.0",
            "_view_name": "StyleView",
            "bar_color": null,
            "description_width": ""
          }
        },
        "d1339499cb194d2a8d80e891b6a40dfd": {
          "model_module": "@jupyter-widgets/base",
          "model_name": "LayoutModel",
          "model_module_version": "1.2.0",
          "state": {
            "_model_module": "@jupyter-widgets/base",
            "_model_module_version": "1.2.0",
            "_model_name": "LayoutModel",
            "_view_count": null,
            "_view_module": "@jupyter-widgets/base",
            "_view_module_version": "1.2.0",
            "_view_name": "LayoutView",
            "align_content": null,
            "align_items": null,
            "align_self": null,
            "border": null,
            "bottom": null,
            "display": null,
            "flex": null,
            "flex_flow": null,
            "grid_area": null,
            "grid_auto_columns": null,
            "grid_auto_flow": null,
            "grid_auto_rows": null,
            "grid_column": null,
            "grid_gap": null,
            "grid_row": null,
            "grid_template_areas": null,
            "grid_template_columns": null,
            "grid_template_rows": null,
            "height": null,
            "justify_content": null,
            "justify_items": null,
            "left": null,
            "margin": null,
            "max_height": null,
            "max_width": null,
            "min_height": null,
            "min_width": null,
            "object_fit": null,
            "object_position": null,
            "order": null,
            "overflow": null,
            "overflow_x": null,
            "overflow_y": null,
            "padding": null,
            "right": null,
            "top": null,
            "visibility": null,
            "width": null
          }
        },
        "046593faff2446b6a21811e6b15a7158": {
          "model_module": "@jupyter-widgets/controls",
          "model_name": "DescriptionStyleModel",
          "model_module_version": "1.5.0",
          "state": {
            "_model_module": "@jupyter-widgets/controls",
            "_model_module_version": "1.5.0",
            "_model_name": "DescriptionStyleModel",
            "_view_count": null,
            "_view_module": "@jupyter-widgets/base",
            "_view_module_version": "1.2.0",
            "_view_name": "StyleView",
            "description_width": ""
          }
        },
        "83636aa2d4ea4c29a3c0de2e0d60d4f0": {
          "model_module": "@jupyter-widgets/controls",
          "model_name": "HBoxModel",
          "model_module_version": "1.5.0",
          "state": {
            "_dom_classes": [],
            "_model_module": "@jupyter-widgets/controls",
            "_model_module_version": "1.5.0",
            "_model_name": "HBoxModel",
            "_view_count": null,
            "_view_module": "@jupyter-widgets/controls",
            "_view_module_version": "1.5.0",
            "_view_name": "HBoxView",
            "box_style": "",
            "children": [
              "IPY_MODEL_839b18f092cf4008837701cc3692ef12",
              "IPY_MODEL_fe9005b0d1224e4595700c31ac4797e2",
              "IPY_MODEL_303ae5b625434208b19ea9df7e4fafa7"
            ],
            "layout": "IPY_MODEL_b91a2ac58f6a45dcadb8cae1fa1e86ee"
          }
        },
        "839b18f092cf4008837701cc3692ef12": {
          "model_module": "@jupyter-widgets/controls",
          "model_name": "HTMLModel",
          "model_module_version": "1.5.0",
          "state": {
            "_dom_classes": [],
            "_model_module": "@jupyter-widgets/controls",
            "_model_module_version": "1.5.0",
            "_model_name": "HTMLModel",
            "_view_count": null,
            "_view_module": "@jupyter-widgets/controls",
            "_view_module_version": "1.5.0",
            "_view_name": "HTMLView",
            "description": "",
            "description_tooltip": null,
            "layout": "IPY_MODEL_95e4ef674ef5499d8f2588d13d5e084b",
            "placeholder": "​",
            "style": "IPY_MODEL_8db6733122bc4683812fc4aa5fa0544c",
            "value": "Extracting images-dataSAT.tar: 100%"
          }
        },
        "fe9005b0d1224e4595700c31ac4797e2": {
          "model_module": "@jupyter-widgets/controls",
          "model_name": "FloatProgressModel",
          "model_module_version": "1.5.0",
          "state": {
            "_dom_classes": [],
            "_model_module": "@jupyter-widgets/controls",
            "_model_module_version": "1.5.0",
            "_model_name": "FloatProgressModel",
            "_view_count": null,
            "_view_module": "@jupyter-widgets/controls",
            "_view_module_version": "1.5.0",
            "_view_name": "ProgressView",
            "bar_style": "success",
            "description": "",
            "description_tooltip": null,
            "layout": "IPY_MODEL_5973d32ab4fa4b0791380429bbed6e9f",
            "max": 6003,
            "min": 0,
            "orientation": "horizontal",
            "style": "IPY_MODEL_61da4a7c19bb4c829a4fc84b4b707870",
            "value": 6003
          }
        },
        "303ae5b625434208b19ea9df7e4fafa7": {
          "model_module": "@jupyter-widgets/controls",
          "model_name": "HTMLModel",
          "model_module_version": "1.5.0",
          "state": {
            "_dom_classes": [],
            "_model_module": "@jupyter-widgets/controls",
            "_model_module_version": "1.5.0",
            "_model_name": "HTMLModel",
            "_view_count": null,
            "_view_module": "@jupyter-widgets/controls",
            "_view_module_version": "1.5.0",
            "_view_name": "HTMLView",
            "description": "",
            "description_tooltip": null,
            "layout": "IPY_MODEL_4c47d3d1d3a0421a86bc843cb2eca40a",
            "placeholder": "​",
            "style": "IPY_MODEL_61f0f383480345f482fddb2635f2487a",
            "value": " 6003/6003 [00:00&lt;00:00, 8380.96it/s]"
          }
        },
        "b91a2ac58f6a45dcadb8cae1fa1e86ee": {
          "model_module": "@jupyter-widgets/base",
          "model_name": "LayoutModel",
          "model_module_version": "1.2.0",
          "state": {
            "_model_module": "@jupyter-widgets/base",
            "_model_module_version": "1.2.0",
            "_model_name": "LayoutModel",
            "_view_count": null,
            "_view_module": "@jupyter-widgets/base",
            "_view_module_version": "1.2.0",
            "_view_name": "LayoutView",
            "align_content": null,
            "align_items": null,
            "align_self": null,
            "border": null,
            "bottom": null,
            "display": null,
            "flex": null,
            "flex_flow": null,
            "grid_area": null,
            "grid_auto_columns": null,
            "grid_auto_flow": null,
            "grid_auto_rows": null,
            "grid_column": null,
            "grid_gap": null,
            "grid_row": null,
            "grid_template_areas": null,
            "grid_template_columns": null,
            "grid_template_rows": null,
            "height": null,
            "justify_content": null,
            "justify_items": null,
            "left": null,
            "margin": null,
            "max_height": null,
            "max_width": null,
            "min_height": null,
            "min_width": null,
            "object_fit": null,
            "object_position": null,
            "order": null,
            "overflow": null,
            "overflow_x": null,
            "overflow_y": null,
            "padding": null,
            "right": null,
            "top": null,
            "visibility": null,
            "width": null
          }
        },
        "95e4ef674ef5499d8f2588d13d5e084b": {
          "model_module": "@jupyter-widgets/base",
          "model_name": "LayoutModel",
          "model_module_version": "1.2.0",
          "state": {
            "_model_module": "@jupyter-widgets/base",
            "_model_module_version": "1.2.0",
            "_model_name": "LayoutModel",
            "_view_count": null,
            "_view_module": "@jupyter-widgets/base",
            "_view_module_version": "1.2.0",
            "_view_name": "LayoutView",
            "align_content": null,
            "align_items": null,
            "align_self": null,
            "border": null,
            "bottom": null,
            "display": null,
            "flex": null,
            "flex_flow": null,
            "grid_area": null,
            "grid_auto_columns": null,
            "grid_auto_flow": null,
            "grid_auto_rows": null,
            "grid_column": null,
            "grid_gap": null,
            "grid_row": null,
            "grid_template_areas": null,
            "grid_template_columns": null,
            "grid_template_rows": null,
            "height": null,
            "justify_content": null,
            "justify_items": null,
            "left": null,
            "margin": null,
            "max_height": null,
            "max_width": null,
            "min_height": null,
            "min_width": null,
            "object_fit": null,
            "object_position": null,
            "order": null,
            "overflow": null,
            "overflow_x": null,
            "overflow_y": null,
            "padding": null,
            "right": null,
            "top": null,
            "visibility": null,
            "width": null
          }
        },
        "8db6733122bc4683812fc4aa5fa0544c": {
          "model_module": "@jupyter-widgets/controls",
          "model_name": "DescriptionStyleModel",
          "model_module_version": "1.5.0",
          "state": {
            "_model_module": "@jupyter-widgets/controls",
            "_model_module_version": "1.5.0",
            "_model_name": "DescriptionStyleModel",
            "_view_count": null,
            "_view_module": "@jupyter-widgets/base",
            "_view_module_version": "1.2.0",
            "_view_name": "StyleView",
            "description_width": ""
          }
        },
        "5973d32ab4fa4b0791380429bbed6e9f": {
          "model_module": "@jupyter-widgets/base",
          "model_name": "LayoutModel",
          "model_module_version": "1.2.0",
          "state": {
            "_model_module": "@jupyter-widgets/base",
            "_model_module_version": "1.2.0",
            "_model_name": "LayoutModel",
            "_view_count": null,
            "_view_module": "@jupyter-widgets/base",
            "_view_module_version": "1.2.0",
            "_view_name": "LayoutView",
            "align_content": null,
            "align_items": null,
            "align_self": null,
            "border": null,
            "bottom": null,
            "display": null,
            "flex": null,
            "flex_flow": null,
            "grid_area": null,
            "grid_auto_columns": null,
            "grid_auto_flow": null,
            "grid_auto_rows": null,
            "grid_column": null,
            "grid_gap": null,
            "grid_row": null,
            "grid_template_areas": null,
            "grid_template_columns": null,
            "grid_template_rows": null,
            "height": null,
            "justify_content": null,
            "justify_items": null,
            "left": null,
            "margin": null,
            "max_height": null,
            "max_width": null,
            "min_height": null,
            "min_width": null,
            "object_fit": null,
            "object_position": null,
            "order": null,
            "overflow": null,
            "overflow_x": null,
            "overflow_y": null,
            "padding": null,
            "right": null,
            "top": null,
            "visibility": null,
            "width": null
          }
        },
        "61da4a7c19bb4c829a4fc84b4b707870": {
          "model_module": "@jupyter-widgets/controls",
          "model_name": "ProgressStyleModel",
          "model_module_version": "1.5.0",
          "state": {
            "_model_module": "@jupyter-widgets/controls",
            "_model_module_version": "1.5.0",
            "_model_name": "ProgressStyleModel",
            "_view_count": null,
            "_view_module": "@jupyter-widgets/base",
            "_view_module_version": "1.2.0",
            "_view_name": "StyleView",
            "bar_color": null,
            "description_width": ""
          }
        },
        "4c47d3d1d3a0421a86bc843cb2eca40a": {
          "model_module": "@jupyter-widgets/base",
          "model_name": "LayoutModel",
          "model_module_version": "1.2.0",
          "state": {
            "_model_module": "@jupyter-widgets/base",
            "_model_module_version": "1.2.0",
            "_model_name": "LayoutModel",
            "_view_count": null,
            "_view_module": "@jupyter-widgets/base",
            "_view_module_version": "1.2.0",
            "_view_name": "LayoutView",
            "align_content": null,
            "align_items": null,
            "align_self": null,
            "border": null,
            "bottom": null,
            "display": null,
            "flex": null,
            "flex_flow": null,
            "grid_area": null,
            "grid_auto_columns": null,
            "grid_auto_flow": null,
            "grid_auto_rows": null,
            "grid_column": null,
            "grid_gap": null,
            "grid_row": null,
            "grid_template_areas": null,
            "grid_template_columns": null,
            "grid_template_rows": null,
            "height": null,
            "justify_content": null,
            "justify_items": null,
            "left": null,
            "margin": null,
            "max_height": null,
            "max_width": null,
            "min_height": null,
            "min_width": null,
            "object_fit": null,
            "object_position": null,
            "order": null,
            "overflow": null,
            "overflow_x": null,
            "overflow_y": null,
            "padding": null,
            "right": null,
            "top": null,
            "visibility": null,
            "width": null
          }
        },
        "61f0f383480345f482fddb2635f2487a": {
          "model_module": "@jupyter-widgets/controls",
          "model_name": "DescriptionStyleModel",
          "model_module_version": "1.5.0",
          "state": {
            "_model_module": "@jupyter-widgets/controls",
            "_model_module_version": "1.5.0",
            "_model_name": "DescriptionStyleModel",
            "_view_count": null,
            "_view_module": "@jupyter-widgets/base",
            "_view_module_version": "1.2.0",
            "_view_name": "StyleView",
            "description_width": ""
          }
        }
      }
    }
  },
  "nbformat": 4,
  "nbformat_minor": 5
}