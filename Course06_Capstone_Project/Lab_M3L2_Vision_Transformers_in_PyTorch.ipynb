{
  "cells": [
    {
      "cell_type": "markdown",
      "id": "6498861f-52ef-4ba3-bbbe-9259792a610f",
      "metadata": {
        "id": "6498861f-52ef-4ba3-bbbe-9259792a610f"
      },
      "source": [
        "<div style=\"text-align: center;\">\n",
        "  <a href=\"https://cognitiveclass.ai/?utm_medium=Exinfluencer&utm_source=Exinfluencer&utm_content=000026UJ&utm_term=10006555&utm_id=NA-SkillsNetwork-Channel-SkillsNetworkCoursesIBMDeveloperSkillsNetworkDL0321ENSkillsNetwork951-2022-01-01\">\n",
        "    <img src=\"https://cf-courses-data.s3.us.cloud-object-storage.appdomain.cloud/IBMDeveloperSkillsNetwork-DL0321EN-SkillsNetwork/image/IDSN-logo.png\" width=\"400\">\n",
        "  </a>\n",
        "</div>\n"
      ]
    },
    {
      "cell_type": "markdown",
      "id": "ba100652-ab0d-44a0-a145-00b5a2b06ff4",
      "metadata": {
        "id": "ba100652-ab0d-44a0-a145-00b5a2b06ff4"
      },
      "source": [
        "<h1 align=left><font size = 6>Lab: Vision Transformers Using PyTorch </font></h1>\n"
      ]
    },
    {
      "cell_type": "markdown",
      "id": "5b5c1104-b4b0-427a-befb-1b205b14486c",
      "metadata": {
        "id": "5b5c1104-b4b0-427a-befb-1b205b14486c"
      },
      "source": [
        "<h5>Estimated time: 90 minutes</h5>\n"
      ]
    },
    {
      "cell_type": "markdown",
      "id": "915562dc-e4a2-4da0-a4b5-3d4a605d2987",
      "metadata": {
        "id": "915562dc-e4a2-4da0-a4b5-3d4a605d2987"
      },
      "source": [
        "## Introduction\n",
        "\n",
        "In this notebook, you will learn to build a PyTorch-based hybrid Convolutional Neural Network (CNN) and Vision Transformer (ViT) for image classification.\n",
        "You'll start by using CNN layers to extract detailed features, such as edges and textures, from images. Then, you'll see how those features are passed to a Vision Transformer, which looks at the global correlations in the entire image by looking at all locations at once. Then, you will train a hybrid CNN-ViT model, and by the end of this lab, you'll also know how to monitor its performance. This approach gives you practical experience with state-of-the-art techniques in computer vision!\n"
      ]
    },
    {
      "cell_type": "markdown",
      "id": "7955effd",
      "metadata": {
        "id": "7955effd"
      },
      "source": [
        "<h2>Objective</h2>\n",
        "\n",
        "This notebook demonstrates how to use a custom trained PyTorch CNN model to extract feature maps and use them with a Vision Transformer (ViT) architecture to create a CNN-ViT hybrid architecture.\n",
        "\n",
        "After completing this lab, you will be able to:\n",
        "<ul>\n",
        "    \n",
        "1. Load the custom trained PyTorch CNN model\n",
        "2. Extract feature maps from the PyTorch model\n",
        "3. Prepare tokens for the Vision Transformer\n",
        "4. Build the Vision Transformer encoder\n",
        "5. Train and evaluate the hybrid model\n",
        "\n",
        "</ul>\n"
      ]
    },
    {
      "cell_type": "markdown",
      "id": "toc",
      "metadata": {
        "id": "toc"
      },
      "source": [
        "# Table of Contents\n",
        "- [Model paths and download](#Model-paths-and-download)\n",
        "- [Defining pre-trained CNN backbone](#Defining-pre-trained-CNN-backbone)\n",
        "- [Vision Transformers](#Vision-Transformers)\n",
        "    - [Patch embedding](#Patch-embedding)\n",
        "    - [Multi-head self-attention (MHSA) module](#Multi-head-self-attention-(MHSA)-module)\n",
        "    - [Transformer block](#Transformer-block)\n",
        "    - [Vision Transformer (ViT) model](#Vision-Transformer-(ViT)-model)\n",
        "- [CNN-ViT hybrid model](#CNN-ViT-hybrid-model)\n",
        "- [Model training](#Model-training)\n",
        "- [Model evaluation](#Model-evaluation)\n",
        "- [Data preparation and loading](#Data-preparation-and-loading)\n",
        "- [Model initialization and training loop](#Model-initialization-and-training-loop)\n",
        "- [Plotting training and validation accuracy and loss](#Plotting-training-and-validation-accuracy-and-loss)\n"
      ]
    },
    {
      "cell_type": "markdown",
      "id": "4f18f62d",
      "metadata": {
        "id": "4f18f62d"
      },
      "source": [
        "## Data download and extraction\n",
        "Let's begin by downloading the dataset for evaluation of the models.\n",
        "Here, you declare:\n",
        "1. The dataset URL from where the dataset would be downloaded\n",
        "2. The dataset downloading primary function, based on the `skillsnetwork` library\n",
        "3. The dataset fallback downloading function, based on regular `http` downloading functions\n"
      ]
    },
    {
      "cell_type": "code",
      "execution_count": 4,
      "id": "b77975cb-407e-4066-b3c7-4cc5e59ceb77",
      "metadata": {
        "colab": {
          "base_uri": "https://localhost:8080/",
          "height": 116,
          "referenced_widgets": [
            "201a168a4d9b4fce92a09886e5650c70",
            "1a9972379146472a9e1a4e6dabd85a8c",
            "a0ed9bfa43c94d6fbfde5505ff53b55a",
            "141005eb4a874ff9a68a11a84b3d8d6c",
            "15096fa76a4949ec9e28c8c54768f3d4",
            "63ebbeda5bdd4d79a337411fee8dc8b5",
            "6dca6ecb76884bc8bc23068376404942",
            "f6be5d8d1c4546daaf4d48b24a0a829f",
            "3060c804f2fb48989795bbf696a37ddd",
            "efb2dca193c740969d3829c052cb816b",
            "3904738261c343448f5a3cd2f30afb5c",
            "59a41160884342678f298d96d308acfe",
            "16e0652d6601431bbeab3c5c6ef39a9c",
            "56594519193547be9cf431df12968548",
            "2e0b10fac2d14951bf4e8287189ced40",
            "60138bdfa87d47a681e896f45f3313b3",
            "754110b315274fcbab5df41cb4ce5820",
            "b48b16611f2d4525b81eee4ff44753fc",
            "a312af3cb9d74009a70a54ba0fe89835",
            "abc76b06b02e47af88e8f140522c1eb4",
            "50180f6315dc42fba785dac31eb9ef6d",
            "c424aead85434cd2ac47bccede260e07"
          ]
        },
        "id": "b77975cb-407e-4066-b3c7-4cc5e59ceb77",
        "outputId": "0b195f69-e83a-49dc-ddb8-8c2bd2a05a5d"
      },
      "outputs": [
        {
          "output_type": "stream",
          "name": "stdout",
          "text": [
            "Write permissions available for downloading and extracting the dataset tar file\n"
          ]
        },
        {
          "output_type": "display_data",
          "data": {
            "text/plain": [
              "Downloading images-dataSAT.tar:   0%|          | 0/20243456 [00:00<?, ?it/s]"
            ],
            "application/vnd.jupyter.widget-view+json": {
              "version_major": 2,
              "version_minor": 0,
              "model_id": "201a168a4d9b4fce92a09886e5650c70"
            }
          },
          "metadata": {}
        },
        {
          "output_type": "display_data",
          "data": {
            "text/plain": [
              "  0%|          | 0/6003 [00:00<?, ?it/s]"
            ],
            "application/vnd.jupyter.widget-view+json": {
              "version_major": 2,
              "version_minor": 0,
              "model_id": "59a41160884342678f298d96d308acfe"
            }
          },
          "metadata": {}
        },
        {
          "output_type": "stream",
          "name": "stdout",
          "text": [
            "Saved to '.'\n"
          ]
        }
      ],
      "source": [
        "import os\n",
        "import skillsnetwork\n",
        "\n",
        "data_dir = \".\"\n",
        "dataset_url = \"https://cf-courses-data.s3.us.cloud-object-storage.appdomain.cloud/4Z1fwRR295-1O3PMQBH6Dg/images-dataSAT.tar\"\n",
        "\n",
        "\n",
        "def check_skillnetwork_extraction(extract_dir):\n",
        "    \"\"\"Check if the environment allows symlink creation for download/extraction.\"\"\"\n",
        "    symlink_test = os.path.join(extract_dir, \"symlink_test\")\n",
        "    if not os.path.exists(symlink_test):\n",
        "        os.symlink(os.path.join(os.sep, \"tmp\"), symlink_test)\n",
        "        print(\"Write permissions available for downloading and extracting the dataset tar file\")\n",
        "        os.unlink(symlink_test)\n",
        "\n",
        "async def download_tar_dataset(url, tar_path, extract_dir):\n",
        "    \"\"\"Download and extract dataset tar file asynchronously.\"\"\"\n",
        "    if not os.path.exists(tar_path):\n",
        "        try:\n",
        "            print(f\"Downloading from {url}...\")\n",
        "            import httpx\n",
        "            async with httpx.AsyncClient() as client:\n",
        "                response = await client.get(url, follow_redirects=True)\n",
        "                response.raise_for_status()\n",
        "                with open(tar_path, \"wb\") as f:\n",
        "                    f.write(response.content)\n",
        "            print(f\"Successfully downloaded '{tar_path}'.\")\n",
        "        except Exception as e:\n",
        "            print(f\"Download error: {e}\")\n",
        "    else:\n",
        "        print(f\"Dataset tar file already exists at: {tar_path}\")\n",
        "    import tarfile\n",
        "    with tarfile.open(tar_path, 'r:*') as tar_ref:\n",
        "        tar_ref.extractall(path=extract_dir)\n",
        "        print(f\"Successfully extracted to '{extract_dir}'.\")\n",
        "\n",
        "try:\n",
        "    check_skillnetwork_extraction(data_dir)\n",
        "    await skillsnetwork.prepare(url=dataset_url, path=data_dir, overwrite=True)\n",
        "except Exception as e:\n",
        "    print(e)\n",
        "    print(\"Primary download/extraction method failed.\")\n",
        "    print(\"Falling back to manual download and extraction...\")\n",
        "    import tarfile\n",
        "    import httpx\n",
        "    from pathlib import Path\n",
        "    file_name = Path(dataset_url).name\n",
        "    tar_path = os.path.join(data_dir, file_name)\n",
        "    await download_tar_dataset(dataset_url, tar_path, data_dir)"
      ]
    },
    {
      "cell_type": "markdown",
      "id": "87c1f18c",
      "metadata": {
        "id": "87c1f18c"
      },
      "source": [
        "## Package installation\n",
        "\n",
        "Install required basic Python packages\n"
      ]
    },
    {
      "cell_type": "code",
      "execution_count": 1,
      "id": "b79b410f-de2d-4603-b062-f770fc469d00",
      "metadata": {
        "colab": {
          "base_uri": "https://localhost:8080/"
        },
        "id": "b79b410f-de2d-4603-b062-f770fc469d00",
        "outputId": "08d27a47-234c-4e01-9df0-c788ed6e9d2e"
      },
      "outputs": [
        {
          "output_type": "stream",
          "name": "stdout",
          "text": [
            "CPU times: user 5.06 s, sys: 795 ms, total: 5.85 s\n",
            "Wall time: 23.1 s\n"
          ]
        }
      ],
      "source": [
        "%%time\n",
        "%%capture captured_output\n",
        "%pip install numpy==1.26\n",
        "%pip install matplotlib==3.9.2\n",
        "%pip install skillsnetwork"
      ]
    },
    {
      "cell_type": "markdown",
      "id": "1a28739c-8b88-4fc1-901b-7a3c24f8dd4f",
      "metadata": {
        "id": "1a28739c-8b88-4fc1-901b-7a3c24f8dd4f"
      },
      "source": [
        "### Install PyTorch library\n"
      ]
    },
    {
      "cell_type": "code",
      "execution_count": 2,
      "id": "97dedae5-6868-4f96-8c52-63804330084d",
      "metadata": {
        "colab": {
          "base_uri": "https://localhost:8080/"
        },
        "id": "97dedae5-6868-4f96-8c52-63804330084d",
        "outputId": "8ea1d98c-6614-4212-b1ab-8edd8adb86cf"
      },
      "outputs": [
        {
          "output_type": "stream",
          "name": "stdout",
          "text": [
            "Collecting torch==2.7.0\n",
            "  Downloading torch-2.7.0-cp312-cp312-manylinux_2_28_x86_64.whl.metadata (29 kB)\n",
            "Requirement already satisfied: filelock in /usr/local/lib/python3.12/dist-packages (from torch==2.7.0) (3.19.1)\n",
            "Requirement already satisfied: typing-extensions>=4.10.0 in /usr/local/lib/python3.12/dist-packages (from torch==2.7.0) (4.14.1)\n",
            "Requirement already satisfied: setuptools in /usr/local/lib/python3.12/dist-packages (from torch==2.7.0) (75.2.0)\n",
            "Requirement already satisfied: sympy>=1.13.3 in /usr/local/lib/python3.12/dist-packages (from torch==2.7.0) (1.13.3)\n",
            "Requirement already satisfied: networkx in /usr/local/lib/python3.12/dist-packages (from torch==2.7.0) (3.5)\n",
            "Requirement already satisfied: jinja2 in /usr/local/lib/python3.12/dist-packages (from torch==2.7.0) (3.1.6)\n",
            "Requirement already satisfied: fsspec in /usr/local/lib/python3.12/dist-packages (from torch==2.7.0) (2025.3.0)\n",
            "Requirement already satisfied: nvidia-cuda-nvrtc-cu12==12.6.77 in /usr/local/lib/python3.12/dist-packages (from torch==2.7.0) (12.6.77)\n",
            "Requirement already satisfied: nvidia-cuda-runtime-cu12==12.6.77 in /usr/local/lib/python3.12/dist-packages (from torch==2.7.0) (12.6.77)\n",
            "Requirement already satisfied: nvidia-cuda-cupti-cu12==12.6.80 in /usr/local/lib/python3.12/dist-packages (from torch==2.7.0) (12.6.80)\n",
            "Collecting nvidia-cudnn-cu12==9.5.1.17 (from torch==2.7.0)\n",
            "  Downloading nvidia_cudnn_cu12-9.5.1.17-py3-none-manylinux_2_28_x86_64.whl.metadata (1.6 kB)\n",
            "Requirement already satisfied: nvidia-cublas-cu12==12.6.4.1 in /usr/local/lib/python3.12/dist-packages (from torch==2.7.0) (12.6.4.1)\n",
            "Requirement already satisfied: nvidia-cufft-cu12==11.3.0.4 in /usr/local/lib/python3.12/dist-packages (from torch==2.7.0) (11.3.0.4)\n",
            "Requirement already satisfied: nvidia-curand-cu12==10.3.7.77 in /usr/local/lib/python3.12/dist-packages (from torch==2.7.0) (10.3.7.77)\n",
            "Requirement already satisfied: nvidia-cusolver-cu12==11.7.1.2 in /usr/local/lib/python3.12/dist-packages (from torch==2.7.0) (11.7.1.2)\n",
            "Requirement already satisfied: nvidia-cusparse-cu12==12.5.4.2 in /usr/local/lib/python3.12/dist-packages (from torch==2.7.0) (12.5.4.2)\n",
            "Collecting nvidia-cusparselt-cu12==0.6.3 (from torch==2.7.0)\n",
            "  Downloading nvidia_cusparselt_cu12-0.6.3-py3-none-manylinux2014_x86_64.whl.metadata (6.8 kB)\n",
            "Collecting nvidia-nccl-cu12==2.26.2 (from torch==2.7.0)\n",
            "  Downloading nvidia_nccl_cu12-2.26.2-py3-none-manylinux2014_x86_64.manylinux_2_17_x86_64.whl.metadata (2.0 kB)\n",
            "Requirement already satisfied: nvidia-nvtx-cu12==12.6.77 in /usr/local/lib/python3.12/dist-packages (from torch==2.7.0) (12.6.77)\n",
            "Requirement already satisfied: nvidia-nvjitlink-cu12==12.6.85 in /usr/local/lib/python3.12/dist-packages (from torch==2.7.0) (12.6.85)\n",
            "Requirement already satisfied: nvidia-cufile-cu12==1.11.1.6 in /usr/local/lib/python3.12/dist-packages (from torch==2.7.0) (1.11.1.6)\n",
            "Collecting triton==3.3.0 (from torch==2.7.0)\n",
            "  Downloading triton-3.3.0-cp312-cp312-manylinux_2_27_x86_64.manylinux_2_28_x86_64.whl.metadata (1.5 kB)\n",
            "Requirement already satisfied: mpmath<1.4,>=1.1.0 in /usr/local/lib/python3.12/dist-packages (from sympy>=1.13.3->torch==2.7.0) (1.3.0)\n",
            "Requirement already satisfied: MarkupSafe>=2.0 in /usr/local/lib/python3.12/dist-packages (from jinja2->torch==2.7.0) (3.0.2)\n",
            "Downloading torch-2.7.0-cp312-cp312-manylinux_2_28_x86_64.whl (865.0 MB)\n",
            "\u001b[2K   \u001b[90m━━━━━━━━━━━━━━━━━━━━━━━━━━━━━━━━━━━━━━━━\u001b[0m \u001b[32m865.0/865.0 MB\u001b[0m \u001b[31m1.2 MB/s\u001b[0m eta \u001b[36m0:00:00\u001b[0m\n",
            "\u001b[?25hDownloading nvidia_cudnn_cu12-9.5.1.17-py3-none-manylinux_2_28_x86_64.whl (571.0 MB)\n",
            "\u001b[2K   \u001b[90m━━━━━━━━━━━━━━━━━━━━━━━━━━━━━━━━━━━━━━━━\u001b[0m \u001b[32m571.0/571.0 MB\u001b[0m \u001b[31m2.7 MB/s\u001b[0m eta \u001b[36m0:00:00\u001b[0m\n",
            "\u001b[?25hDownloading nvidia_cusparselt_cu12-0.6.3-py3-none-manylinux2014_x86_64.whl (156.8 MB)\n",
            "\u001b[2K   \u001b[90m━━━━━━━━━━━━━━━━━━━━━━━━━━━━━━━━━━━━━━━━\u001b[0m \u001b[32m156.8/156.8 MB\u001b[0m \u001b[31m7.3 MB/s\u001b[0m eta \u001b[36m0:00:00\u001b[0m\n",
            "\u001b[?25hDownloading nvidia_nccl_cu12-2.26.2-py3-none-manylinux2014_x86_64.manylinux_2_17_x86_64.whl (201.3 MB)\n",
            "\u001b[2K   \u001b[90m━━━━━━━━━━━━━━━━━━━━━━━━━━━━━━━━━━━━━━━━\u001b[0m \u001b[32m201.3/201.3 MB\u001b[0m \u001b[31m5.6 MB/s\u001b[0m eta \u001b[36m0:00:00\u001b[0m\n",
            "\u001b[?25hDownloading triton-3.3.0-cp312-cp312-manylinux_2_27_x86_64.manylinux_2_28_x86_64.whl (156.5 MB)\n",
            "\u001b[2K   \u001b[90m━━━━━━━━━━━━━━━━━━━━━━━━━━━━━━━━━━━━━━━━\u001b[0m \u001b[32m156.5/156.5 MB\u001b[0m \u001b[31m6.5 MB/s\u001b[0m eta \u001b[36m0:00:00\u001b[0m\n",
            "\u001b[?25hInstalling collected packages: nvidia-cusparselt-cu12, triton, nvidia-nccl-cu12, nvidia-cudnn-cu12, torch\n",
            "  Attempting uninstall: nvidia-cusparselt-cu12\n",
            "    Found existing installation: nvidia-cusparselt-cu12 0.7.1\n",
            "    Uninstalling nvidia-cusparselt-cu12-0.7.1:\n",
            "      Successfully uninstalled nvidia-cusparselt-cu12-0.7.1\n",
            "  Attempting uninstall: triton\n",
            "    Found existing installation: triton 3.4.0\n",
            "    Uninstalling triton-3.4.0:\n",
            "      Successfully uninstalled triton-3.4.0\n",
            "  Attempting uninstall: nvidia-nccl-cu12\n",
            "    Found existing installation: nvidia-nccl-cu12 2.27.3\n",
            "    Uninstalling nvidia-nccl-cu12-2.27.3:\n",
            "      Successfully uninstalled nvidia-nccl-cu12-2.27.3\n",
            "  Attempting uninstall: nvidia-cudnn-cu12\n",
            "    Found existing installation: nvidia-cudnn-cu12 9.10.2.21\n",
            "    Uninstalling nvidia-cudnn-cu12-9.10.2.21:\n",
            "      Successfully uninstalled nvidia-cudnn-cu12-9.10.2.21\n",
            "  Attempting uninstall: torch\n",
            "    Found existing installation: torch 2.8.0+cu126\n",
            "    Uninstalling torch-2.8.0+cu126:\n",
            "      Successfully uninstalled torch-2.8.0+cu126\n",
            "\u001b[31mERROR: pip's dependency resolver does not currently take into account all the packages that are installed. This behaviour is the source of the following dependency conflicts.\n",
            "torchaudio 2.8.0+cu126 requires torch==2.8.0, but you have torch 2.7.0 which is incompatible.\n",
            "torchvision 0.23.0+cu126 requires torch==2.8.0, but you have torch 2.7.0 which is incompatible.\u001b[0m\u001b[31m\n",
            "\u001b[0mSuccessfully installed nvidia-cudnn-cu12-9.5.1.17 nvidia-cusparselt-cu12-0.6.3 nvidia-nccl-cu12-2.26.2 torch-2.7.0 triton-3.3.0\n",
            "CPU times: user 3.51 s, sys: 526 ms, total: 4.04 s\n",
            "Wall time: 2min 16s\n"
          ]
        }
      ],
      "source": [
        "%%time\n",
        "%pip install torch==2.7.0"
      ]
    },
    {
      "cell_type": "markdown",
      "id": "a348399a-ee14-4050-a752-96f367f21b12",
      "metadata": {
        "id": "a348399a-ee14-4050-a752-96f367f21b12"
      },
      "source": [
        "### Install PyTorch helper libraries\n"
      ]
    },
    {
      "cell_type": "code",
      "execution_count": 3,
      "id": "67261792-443b-42d1-a9f0-29905a16e163",
      "metadata": {
        "colab": {
          "base_uri": "https://localhost:8080/"
        },
        "id": "67261792-443b-42d1-a9f0-29905a16e163",
        "outputId": "89ef74bd-7a8f-4c56-85e0-e2f75507b637"
      },
      "outputs": [
        {
          "output_type": "stream",
          "name": "stdout",
          "text": [
            "Collecting torchvision==0.22\n",
            "  Downloading torchvision-0.22.0-cp312-cp312-manylinux_2_28_x86_64.whl.metadata (6.1 kB)\n",
            "Requirement already satisfied: numpy in /usr/local/lib/python3.12/dist-packages (from torchvision==0.22) (2.3.2)\n",
            "Requirement already satisfied: torch==2.7.0 in /usr/local/lib/python3.12/dist-packages (from torchvision==0.22) (2.7.0)\n",
            "Requirement already satisfied: pillow!=8.3.*,>=5.3.0 in /usr/local/lib/python3.12/dist-packages (from torchvision==0.22) (11.3.0)\n",
            "Requirement already satisfied: filelock in /usr/local/lib/python3.12/dist-packages (from torch==2.7.0->torchvision==0.22) (3.19.1)\n",
            "Requirement already satisfied: typing-extensions>=4.10.0 in /usr/local/lib/python3.12/dist-packages (from torch==2.7.0->torchvision==0.22) (4.14.1)\n",
            "Requirement already satisfied: setuptools in /usr/local/lib/python3.12/dist-packages (from torch==2.7.0->torchvision==0.22) (75.2.0)\n",
            "Requirement already satisfied: sympy>=1.13.3 in /usr/local/lib/python3.12/dist-packages (from torch==2.7.0->torchvision==0.22) (1.13.3)\n",
            "Requirement already satisfied: networkx in /usr/local/lib/python3.12/dist-packages (from torch==2.7.0->torchvision==0.22) (3.5)\n",
            "Requirement already satisfied: jinja2 in /usr/local/lib/python3.12/dist-packages (from torch==2.7.0->torchvision==0.22) (3.1.6)\n",
            "Requirement already satisfied: fsspec in /usr/local/lib/python3.12/dist-packages (from torch==2.7.0->torchvision==0.22) (2025.3.0)\n",
            "Requirement already satisfied: nvidia-cuda-nvrtc-cu12==12.6.77 in /usr/local/lib/python3.12/dist-packages (from torch==2.7.0->torchvision==0.22) (12.6.77)\n",
            "Requirement already satisfied: nvidia-cuda-runtime-cu12==12.6.77 in /usr/local/lib/python3.12/dist-packages (from torch==2.7.0->torchvision==0.22) (12.6.77)\n",
            "Requirement already satisfied: nvidia-cuda-cupti-cu12==12.6.80 in /usr/local/lib/python3.12/dist-packages (from torch==2.7.0->torchvision==0.22) (12.6.80)\n",
            "Requirement already satisfied: nvidia-cudnn-cu12==9.5.1.17 in /usr/local/lib/python3.12/dist-packages (from torch==2.7.0->torchvision==0.22) (9.5.1.17)\n",
            "Requirement already satisfied: nvidia-cublas-cu12==12.6.4.1 in /usr/local/lib/python3.12/dist-packages (from torch==2.7.0->torchvision==0.22) (12.6.4.1)\n",
            "Requirement already satisfied: nvidia-cufft-cu12==11.3.0.4 in /usr/local/lib/python3.12/dist-packages (from torch==2.7.0->torchvision==0.22) (11.3.0.4)\n",
            "Requirement already satisfied: nvidia-curand-cu12==10.3.7.77 in /usr/local/lib/python3.12/dist-packages (from torch==2.7.0->torchvision==0.22) (10.3.7.77)\n",
            "Requirement already satisfied: nvidia-cusolver-cu12==11.7.1.2 in /usr/local/lib/python3.12/dist-packages (from torch==2.7.0->torchvision==0.22) (11.7.1.2)\n",
            "Requirement already satisfied: nvidia-cusparse-cu12==12.5.4.2 in /usr/local/lib/python3.12/dist-packages (from torch==2.7.0->torchvision==0.22) (12.5.4.2)\n",
            "Requirement already satisfied: nvidia-cusparselt-cu12==0.6.3 in /usr/local/lib/python3.12/dist-packages (from torch==2.7.0->torchvision==0.22) (0.6.3)\n",
            "Requirement already satisfied: nvidia-nccl-cu12==2.26.2 in /usr/local/lib/python3.12/dist-packages (from torch==2.7.0->torchvision==0.22) (2.26.2)\n",
            "Requirement already satisfied: nvidia-nvtx-cu12==12.6.77 in /usr/local/lib/python3.12/dist-packages (from torch==2.7.0->torchvision==0.22) (12.6.77)\n",
            "Requirement already satisfied: nvidia-nvjitlink-cu12==12.6.85 in /usr/local/lib/python3.12/dist-packages (from torch==2.7.0->torchvision==0.22) (12.6.85)\n",
            "Requirement already satisfied: nvidia-cufile-cu12==1.11.1.6 in /usr/local/lib/python3.12/dist-packages (from torch==2.7.0->torchvision==0.22) (1.11.1.6)\n",
            "Requirement already satisfied: triton==3.3.0 in /usr/local/lib/python3.12/dist-packages (from torch==2.7.0->torchvision==0.22) (3.3.0)\n",
            "Requirement already satisfied: mpmath<1.4,>=1.1.0 in /usr/local/lib/python3.12/dist-packages (from sympy>=1.13.3->torch==2.7.0->torchvision==0.22) (1.3.0)\n",
            "Requirement already satisfied: MarkupSafe>=2.0 in /usr/local/lib/python3.12/dist-packages (from jinja2->torch==2.7.0->torchvision==0.22) (3.0.2)\n",
            "Downloading torchvision-0.22.0-cp312-cp312-manylinux_2_28_x86_64.whl (7.4 MB)\n",
            "\u001b[2K   \u001b[90m━━━━━━━━━━━━━━━━━━━━━━━━━━━━━━━━━━━━━━━━\u001b[0m \u001b[32m7.4/7.4 MB\u001b[0m \u001b[31m43.8 MB/s\u001b[0m eta \u001b[36m0:00:00\u001b[0m\n",
            "\u001b[?25hInstalling collected packages: torchvision\n",
            "  Attempting uninstall: torchvision\n",
            "    Found existing installation: torchvision 0.23.0+cu126\n",
            "    Uninstalling torchvision-0.23.0+cu126:\n",
            "      Successfully uninstalled torchvision-0.23.0+cu126\n",
            "Successfully installed torchvision-0.22.0\n",
            "CPU times: user 3.93 s, sys: 536 ms, total: 4.47 s\n",
            "Wall time: 15 s\n"
          ]
        }
      ],
      "source": [
        "%%time\n",
        "%pip install torchvision==0.22"
      ]
    },
    {
      "cell_type": "markdown",
      "id": "134c4ade",
      "metadata": {
        "id": "134c4ade"
      },
      "source": [
        "## Library imports and setup\n",
        "\n",
        "Import essential libraries for data manipulation, visualization, and suppresses warnings for cleaner notebook output.\n"
      ]
    },
    {
      "cell_type": "code",
      "execution_count": 5,
      "id": "cd0fcdf5",
      "metadata": {
        "colab": {
          "base_uri": "https://localhost:8080/"
        },
        "id": "cd0fcdf5",
        "outputId": "6e7522ec-71e4-4bd0-96c8-ccdf5aa8911a"
      },
      "outputs": [
        {
          "output_type": "stream",
          "name": "stdout",
          "text": [
            "CPU times: user 96.3 ms, sys: 12.7 ms, total: 109 ms\n",
            "Wall time: 162 ms\n"
          ]
        }
      ],
      "source": [
        "%%time\n",
        "import warnings\n",
        "warnings.filterwarnings('ignore')\n",
        "\n",
        "import os\n",
        "import time\n",
        "import httpx\n",
        "import random\n",
        "import numpy as np\n",
        "from tqdm import tqdm\n",
        "import matplotlib.pyplot as plt\n",
        "from datetime import datetime\n",
        "\n",
        "def present_time():\n",
        "        return datetime.now().strftime('%Y%m%d_%H%M%S')\n"
      ]
    },
    {
      "cell_type": "markdown",
      "id": "d46c7a98",
      "metadata": {
        "id": "d46c7a98"
      },
      "source": [
        "### PyTorch library imports\n",
        "\n",
        "Import core PyTorch modules for model building, optimization, data loading, and functional utilities.\n"
      ]
    },
    {
      "cell_type": "code",
      "execution_count": 6,
      "id": "92b7cb66",
      "metadata": {
        "colab": {
          "base_uri": "https://localhost:8080/"
        },
        "id": "92b7cb66",
        "outputId": "71293be3-7d4d-4fde-dfdb-7d42b5e0c2ab"
      },
      "outputs": [
        {
          "output_type": "stream",
          "name": "stdout",
          "text": [
            "Imported PyTorch libraries\n",
            "CPU times: user 6.11 s, sys: 703 ms, total: 6.82 s\n",
            "Wall time: 10.2 s\n"
          ]
        }
      ],
      "source": [
        "%%time\n",
        "import torch\n",
        "import torch.nn as nn\n",
        "import torch.optim as optim\n",
        "from torchvision import transforms, datasets\n",
        "from torch.utils.data import DataLoader, random_split\n",
        "import torch.nn.functional as F\n",
        "print(\"Imported PyTorch libraries\")"
      ]
    },
    {
      "cell_type": "markdown",
      "id": "4bc53fe7",
      "metadata": {
        "id": "4bc53fe7"
      },
      "source": [
        "## Model download helper\n",
        "\n",
        "Now, define an asynchronous function to download model files from given URLs, if they are not already present locally.\n",
        "You use `httpx` for asynchronous HTTP requests with error handling.\n"
      ]
    },
    {
      "cell_type": "code",
      "execution_count": 7,
      "id": "e211b54b",
      "metadata": {
        "id": "e211b54b"
      },
      "outputs": [],
      "source": [
        "async def download_model(url, model_path):\n",
        "    if not os.path.exists(model_path):\n",
        "        try:\n",
        "            print(f\"Downloading from {url}...\")\n",
        "            import httpx\n",
        "            async with httpx.AsyncClient() as client:\n",
        "                response = await client.get(url, follow_redirects=True)\n",
        "                response.raise_for_status()\n",
        "                with open(model_path, \"wb\") as f:\n",
        "                    f.write(response.content)\n",
        "            print(f\"Successfully downloaded '{model_path}'.\")\n",
        "        except Exception as e:\n",
        "            print(f\"Download error: {e}\")\n",
        "    else:\n",
        "        print(f\"Model file already downloaded at: {model_path}\")"
      ]
    },
    {
      "cell_type": "markdown",
      "id": "c644faa0-0939-4668-a380-4c1ecce6e0e8",
      "metadata": {
        "id": "c644faa0-0939-4668-a380-4c1ecce6e0e8"
      },
      "source": [
        "## Lab layout\n",
        "- First, you download the pre-trained PyTorch based CNN model.\n",
        "- Then, you define the CNN backbone. This is same as defined in the training of the pre-trained model.\n",
        "- The CNN backbone reduces the input image’s spatial dimensions and expands its feature channels. You then convert this feature map into a sequence of tokens for the Vision Transformer (ViT).\n",
        "- These tokens are passed into a ViT module. The ViT is applied after the CNN so it can model global relationships and context between different regions in the original image, something CNNs alone cannot do as effectively.\n",
        "- You use a sequential hybrid architecture: the CNN performs local feature extraction, and the ViT, using those extracted features, performs global reasoning. This leverages the strengths of both models for improved accuracy and generalization.\n",
        "- Feature reshaping is used: the CNN feature map is flattened and fed into the transformer, and positional encoding might be added to preserve spatial information.\n",
        "- You train this hybrid model end-to-end, meaning both the CNN and ViT parameters are updated together to optimize classification performance.\n",
        "- Throughout the process, you are able to monitor both local (CNN) and global (ViT) attention across the image, resulting in a model that is more robust and effective than using either approach alone\n"
      ]
    },
    {
      "cell_type": "markdown",
      "id": "c2e94bd9",
      "metadata": {
        "id": "c2e94bd9"
      },
      "source": [
        "## Model paths and download\n",
        "\n",
        "In the cell below, you define the file paths and URLs for the Keras and PyTorch models and download them using the `download_model` function defined above.\n"
      ]
    },
    {
      "cell_type": "code",
      "execution_count": 8,
      "id": "c8d1c145-57c5-4031-ac2b-d207dd229ffe",
      "metadata": {
        "id": "c8d1c145-57c5-4031-ac2b-d207dd229ffe"
      },
      "outputs": [],
      "source": [
        "data_dir = \".\"\n",
        "\n",
        "pytorch_state_dict_url = \"https://cf-courses-data.s3.us.cloud-object-storage.appdomain.cloud/8J2QEyQqD8x9zjrlnv6N7g/ai-capstone-pytorch-best-model-20250713.pth\"\n",
        "pytorch_state_dict_name = \"ai_capstone_pytorch_best_model_state_dict_downloaded.pth\"\n",
        "pytorch_state_dict_path = os.path.join(data_dir, pytorch_state_dict_name)"
      ]
    },
    {
      "cell_type": "code",
      "execution_count": 9,
      "id": "c5edf8ee-dab8-4a70-afd1-0a6cb65e7992",
      "metadata": {
        "colab": {
          "base_uri": "https://localhost:8080/"
        },
        "id": "c5edf8ee-dab8-4a70-afd1-0a6cb65e7992",
        "outputId": "06de7bf3-9e79-433b-d354-00e3dad2af7a"
      },
      "outputs": [
        {
          "output_type": "stream",
          "name": "stdout",
          "text": [
            "Downloading from https://cf-courses-data.s3.us.cloud-object-storage.appdomain.cloud/8J2QEyQqD8x9zjrlnv6N7g/ai-capstone-pytorch-best-model-20250713.pth...\n",
            "Successfully downloaded './ai_capstone_pytorch_best_model_state_dict_downloaded.pth'.\n"
          ]
        }
      ],
      "source": [
        "await download_model(pytorch_state_dict_url, pytorch_state_dict_path)"
      ]
    },
    {
      "cell_type": "markdown",
      "id": "d484b21c-163f-444a-8acb-134a04347a32",
      "metadata": {
        "id": "d484b21c-163f-444a-8acb-134a04347a32"
      },
      "source": [
        "## Ensuring repeatability in PyTorch\n",
        "\n",
        "To achieve reproducible results when you train a CNN in PyTorch, you must seed every random-number generator and configures cuDNN for deterministic kernels.\n",
        "* **Python & NumPy** – Many data-pipeline utilities (shuffling lists, image augmentations) rely on these random-number generators. Seeding them first removes one entire layer of randomness.\n",
        "* **PyTorch CPU / GPU** – `torch.manual_seed` covers every op executed on the CPU, while `torch.cuda.manual_seed_all` applies the same seed to each GPU stream so that multi-GPU jobs stay in sync.\n",
        "* **cuDNN flags** – By default cuDNN picks the fastest convolution algorithm, which can vary run-to-run. Setting `deterministic=True` forces repeatable kernels and turning `benchmark` *off* prevents the auto-tuner from replacing those kernels mid-training.\n"
      ]
    },
    {
      "cell_type": "code",
      "execution_count": 10,
      "id": "53c7de30-36e4-4dae-bd80-be7442bb4c22",
      "metadata": {
        "id": "53c7de30-36e4-4dae-bd80-be7442bb4c22"
      },
      "outputs": [],
      "source": [
        "def set_seed(seed: int = 42) -> None:\n",
        "    \"\"\"Seed Python, NumPy, and PyTorch (CPU & all GPUs) and\n",
        "    make cuDNN run in deterministic mode.\"\"\"\n",
        "    # ---- Python and NumPy -------------------------------------------\n",
        "    random.seed(seed)\n",
        "    np.random.seed(seed)\n",
        "\n",
        "    # ---- PyTorch (CPU  &  GPU) --------------------------------------\n",
        "    torch.manual_seed(seed)\n",
        "    torch.cuda.manual_seed_all(seed)\n",
        "\n",
        "    # ---- cuDNN: force repeatable convolutions -----------------------\n",
        "    torch.backends.cudnn.deterministic = True\n",
        "    torch.backends.cudnn.benchmark     = False\n"
      ]
    },
    {
      "cell_type": "code",
      "execution_count": 11,
      "id": "ff9c5ae1-9248-431f-a606-5778f2f5ca01",
      "metadata": {
        "colab": {
          "base_uri": "https://localhost:8080/"
        },
        "id": "ff9c5ae1-9248-431f-a606-5778f2f5ca01",
        "outputId": "49e0450e-bc0b-47b0-c2bf-5f4b9594ef8c"
      },
      "outputs": [
        {
          "output_type": "stream",
          "name": "stdout",
          "text": [
            "Global seed set to 7331 - main process is now deterministic.\n"
          ]
        }
      ],
      "source": [
        "SEED = 7331\n",
        "set_seed(SEED)\n",
        "print(f\"Global seed set to {SEED} - main process is now deterministic.\")"
      ]
    },
    {
      "cell_type": "markdown",
      "id": "cnn-doc",
      "metadata": {
        "id": "cnn-doc"
      },
      "source": [
        "## Defining pre-trained CNN backbone\n",
        "\n",
        "In this cell, you will create and implement a **ConvNet** class. This class serves as the convolutional backbone for the hybrid CNN-ViT architecture.\n",
        "The design of this class will be **same as the training architecture**, with six progressive convolutional blocks.\n",
        "\n",
        "- **`forward_features()`**: Returns the raw convolutional feature map (B, 1024, H, W) for use by the **ViT component**\n",
        "\n",
        "- **Role in hybrid architecture**: In the hybrid model, this CNN serves as a **local feature extractor**, capturing low-level patterns, edges, and textures before passing the feature-rich representation to the Vision Transformer for global context modeling. The 1024-channel output provides a rich semantic representation that the ViT can process as a sequence of tokens.\n"
      ]
    },
    {
      "cell_type": "code",
      "execution_count": 12,
      "id": "2a120e6b-5689-4be7-9709-d7ebfa3cd3e5",
      "metadata": {
        "id": "2a120e6b-5689-4be7-9709-d7ebfa3cd3e5"
      },
      "outputs": [],
      "source": [
        "class ConvNet(nn.Module):\n",
        "    '''\n",
        "    Class to define the architecture same as the imported pre-trained CNN model for extracting the` feature map\n",
        "    '''\n",
        "    def __init__(self, num_classes):\n",
        "        super().__init__()\n",
        "        self.features = nn.Sequential(\n",
        "            nn.Conv2d(3, 32, 5, padding=2), nn.ReLU(), nn.MaxPool2d(2), nn.BatchNorm2d(32),\n",
        "            nn.Conv2d(32, 64, 5, padding=2), nn.ReLU(), nn.MaxPool2d(2), nn.BatchNorm2d(64),\n",
        "            nn.Conv2d(64, 128, 5, padding=2), nn.ReLU(), nn.MaxPool2d(2), nn.BatchNorm2d(128),\n",
        "            nn.Conv2d(128, 256, 5, padding=2), nn.ReLU(), nn.MaxPool2d(2), nn.BatchNorm2d(256),\n",
        "            nn.Conv2d(256, 512, 5, padding=2), nn.ReLU(), nn.MaxPool2d(2), nn.BatchNorm2d(512),\n",
        "            nn.Conv2d(512, 1024, 5, padding=2), nn.ReLU(), nn.MaxPool2d(2), nn.BatchNorm2d(1024)\n",
        "        )\n",
        "\n",
        "    def forward_features(self, x):\n",
        "        return self.features(x)      # (B,1024,H,W)\n"
      ]
    },
    {
      "cell_type": "markdown",
      "id": "7a6e6958-07b3-4037-9f91-d7ac6e4d2f81",
      "metadata": {
        "id": "7a6e6958-07b3-4037-9f91-d7ac6e4d2f81"
      },
      "source": [
        "# Vision Transformers\n"
      ]
    },
    {
      "cell_type": "markdown",
      "id": "929cdcfe-8228-4e8a-851e-bbd79f5f18e5",
      "metadata": {
        "id": "929cdcfe-8228-4e8a-851e-bbd79f5f18e5"
      },
      "source": [
        "### Patch embedding\n",
        " The **PatchEmbed** class implements the **interface** between the CNN feature extractor and the Vision Transformer, converting spatial feature maps into a sequence of tokens suitable for self-attention processing.\n",
        "\n",
        "Unlike traditional ViT implementations that divide raw images into fixed-size patches, this hybrid approach operates on CNN feature maps. The implementation uses a **1×1 convolution** as a learned linear projection to transform the 1024-dimensional CNN features into the transformer's embedding dimension (default 768).\n",
        "\n",
        "The transformation process involves three key steps:\n",
        "1. **Channel projection**: `nn.Conv2d(in_ch, embed_dim, kernel_size=1)` reduces or expands the channel dimension from 1024 to the preferred embedding size\n",
        "2. **Spatial flattening**: `.flatten(2)` collapses the height and width dimensions (H×W) into a single sequence dimension\n",
        "3. **Tensor reshaping**: `.transpose(1,2)` reorders dimensions from (B, D, L) to (B, L, D) where L=H×W represents the sequence length\n",
        "\n",
        "**Integration with hybrid architecture**\n",
        "\n",
        "In the context of the hybrid model, this patch embedding serves as the **bridge** between local CNN features and global transformer processing. Since the CNN has already extracted meaningful local patterns, the patch embedding focuses on format conversion rather than feature extraction. This design is more **efficient** than traditional ViT patch embedding since the CNN has already performed the heavy lifting of feature extraction from raw pixels.\n",
        "\n",
        "The **output tensor** (B, L, D) represents a batch of sequences where each sequence contains L tokens (corresponding to spatial locations in the feature map) with D-dimensional embeddings ready for transformer processing.\n"
      ]
    },
    {
      "cell_type": "code",
      "execution_count": 13,
      "id": "01a517d5-b6fa-4fe5-a848-02cfc84106eb",
      "metadata": {
        "id": "01a517d5-b6fa-4fe5-a848-02cfc84106eb"
      },
      "outputs": [],
      "source": [
        "class PatchEmbed(nn.Module):\n",
        "    def __init__(self, input_channel=1024, embed_dim=768):\n",
        "        super().__init__()\n",
        "        self.proj = nn.Conv2d(input_channel, embed_dim, kernel_size=1)  # 1×1 conv\n",
        "    def forward(self, x):\n",
        "        x = self.proj(x).flatten(2).transpose(1, 2)  # (B,L,D)\n",
        "        return x"
      ]
    },
    {
      "cell_type": "markdown",
      "id": "mhsa-doc",
      "metadata": {
        "id": "mhsa-doc"
      },
      "source": [
        "## Multi-head self-attention (MHSA) module\n",
        "\n",
        "The **MHSA** class implements the self-attention mechanism that enables the Vision Transformer to model long-range dependencies and global context across all spatial locations in the feature map.\n",
        "\n",
        "The implementation follows the scaled dot-product attention formula: **Attention(Q,K,V) = softmax(QK^T/√d)V**, where Q, K, and V represent query, key, and value matrices, respectively. The scaling factor 1/sqrt(d) prevents the dot products from becoming too large, which would push the softmax function into regions with extremely small gradients.\n",
        "\n",
        "The multi-head mechanism splits the embedding dimension across multiple attention heads, allowing the model to attend to different types of relationships simultaneously.\n",
        "\n",
        "### Key implementation details:\n",
        "\n",
        "- **Unified QKV projection**: A single linear layer `nn.Linear(dim, dim*3)` generates Q, K, and V matrices efficiently, reducing memory overhead compared to separate projections\n",
        "- **Head reshaping**: The tensor is reshaped from (B, N, D) to (B, heads, N, d) where d = D/heads, enabling parallel processing across heads\n",
        "- **Attention computation**: Matrix multiplication `torch.matmul(q, k.transpose(-2, -1))` computes attention scores, followed by scaling and softmax normalization\n",
        "- **Dropout regularization**: Two dropout layers prevent overfitting - one on attention weights and one on the final output\n",
        "\n",
        "\n",
        "Unlike CNNs, which have limited receptive fields, self-attention allows every token to interact directly with every other token in a single operation. This enables the model to **capture long-range spatial dependencies** that might be missed by purely convolutional approaches.\n",
        "\n",
        "#### In the hybrid architecture, this global modeling complements the local feature extraction performed by the CNN backbone.\n",
        "\n",
        "The attention weights provide interpretability, showing which spatial locations the model focuses on when making predictions. This component is valuable for both performance and explainability.\n"
      ]
    },
    {
      "cell_type": "code",
      "execution_count": 14,
      "id": "9f7114dc-5a8b-4aea-8509-e2dd13bb8f6a",
      "metadata": {
        "id": "9f7114dc-5a8b-4aea-8509-e2dd13bb8f6a"
      },
      "outputs": [],
      "source": [
        "class MHSA(nn.Module):\n",
        "    def __init__(self, dim, heads=8, dropout=0.):\n",
        "        super().__init__()\n",
        "        self.heads = heads\n",
        "        self.scale = (dim // heads) ** -0.5\n",
        "        self.qkv = nn.Linear(dim, dim * 3)\n",
        "        self.attn_drop = nn.Dropout(dropout)\n",
        "        self.proj = nn.Linear(dim, dim)\n",
        "        self.proj_drop = nn.Dropout(dropout)\n",
        "    def forward(self, x):\n",
        "        B, N, D = x.shape\n",
        "        q, k, v = self.qkv(x).chunk(3, dim=-1)\n",
        "        q = q.reshape(B, N, self.heads, -1).transpose(1, 2)  # (B, heads, N, d)\n",
        "        k = k.reshape(B, N, self.heads, -1).transpose(1, 2)\n",
        "        v = v.reshape(B, N, self.heads, -1).transpose(1, 2)\n",
        "        attn = torch.matmul(q, k.transpose(-2, -1)) * self.scale\n",
        "        attn = self.attn_drop(attn.softmax(dim=-1))\n",
        "        x = torch.matmul(attn, v).transpose(1, 2).reshape(B, N, D)\n",
        "        return self.proj_drop(self.proj(x))"
      ]
    },
    {
      "cell_type": "markdown",
      "id": "aebd0ac5-89ec-4445-9d6d-e3cc86dfbae1",
      "metadata": {
        "id": "aebd0ac5-89ec-4445-9d6d-e3cc86dfbae1"
      },
      "source": [
        "## Transformer block\n",
        "This code defines a building block used in modern deep learning models, especially in Vision Transformers. The class is called TransformerBlock, and it is responsible for helping the model “pay attention” to the most important parts of its input and improve the final predictions.\n",
        "\n",
        "Let’s break down what happens inside:\n",
        "\n",
        "**Layer normalization (nn.LayerNorm):** This helps stabilize and speed up training by normalizing each row of the input data, which is useful before applying attention or a neural network layer.\n",
        "\n",
        "**Attention layer (MHSA):** This is the “Multi-Head Self Attention” block. It enables the model to look at all positions in the sequence (or image patches) at once, figuring out which ones are most important for each output. It’s like giving the model the power to focus on the key parts of an image or sentence.\n",
        "\n",
        "**MLP (nn.Sequential):** This is a **Multi-Layer Perceptron** or a mini neural network, made up of linear (fully connected) layers, a special activation (GELU), and dropout for regularization. This MLP has:\n",
        "- One linear layer that expands the input dimension by mlp_ratio (for example, 4× wider).\n",
        "- A GELU activation function (a nonlinear operation, similar to ReLU).\n",
        "- Dropout for regularization (helps prevent overfitting).\n",
        "- Another linear layer that shrinks the data back to the original dimension.\n",
        "- Another dropout layer.\n",
        "Here, MLP is designed to help the model learn better representations by combining and transforming the information after the attention step.\n",
        "\n",
        "**Skip/Residual connections (x + ...):** These connections support effective and stable training for deep neural networks by keeping pathways open for both forward information flow and backward gradient flow, making deep architectures such as transformers possible and practical. In transformers, skip connections are placed around both the attention and feedforward (MLP) sub-layers in each block. This stabilizes training of these very deep, stackable models, improves convergence speed, and lets them scale to larger datasets and more complex tasks.\n",
        "\n",
        "In summary, this block helps models understand relationships in their input data, making them more powerful for tasks such as image and language understanding!\n"
      ]
    },
    {
      "cell_type": "code",
      "execution_count": 15,
      "id": "64f158e5-3c37-4682-8fe8-1db3d6813dfd",
      "metadata": {
        "id": "64f158e5-3c37-4682-8fe8-1db3d6813dfd"
      },
      "outputs": [],
      "source": [
        "class TransformerBlock(nn.Module):\n",
        "    def __init__(self, dim, heads, mlp_ratio=4., dropout=0.):\n",
        "        super().__init__()\n",
        "        self.norm1 = nn.LayerNorm(dim)\n",
        "        self.attn  = MHSA(dim, heads, dropout)\n",
        "        self.norm2 = nn.LayerNorm(dim)\n",
        "        self.mlp   = nn.Sequential(\n",
        "                                    nn.Linear(dim, int(dim * mlp_ratio)),\n",
        "                                    nn.GELU(), nn.Dropout(dropout),\n",
        "                                    nn.Linear(int(dim * mlp_ratio), dim),\n",
        "                                    nn.Dropout(dropout))\n",
        "    def forward(self, x):\n",
        "        x = x + self.attn(self.norm1(x))\n",
        "        x = x + self.mlp(self.norm2(x))\n",
        "        return x"
      ]
    },
    {
      "cell_type": "markdown",
      "id": "vit-doc",
      "metadata": {
        "id": "vit-doc"
      },
      "source": [
        "## Vision Transformer (ViT) model\n",
        "\n",
        "The **ViT** class represents the complete Vision Transformer implementation, including patch embedding, positional encoding, transformer blocks, and a classification head for global context modeling.\n",
        "\n",
        "The implementation uses a learnable **Classification [CLS] token**:\n",
        "- **Initialization**: `nn.Parameter(torch.zeros(1, 1, embed_dim))` creates a learnable token initialized to zeros\n",
        "- **Expansion**: `self.cls.expand(B, -1, -1)` replicates the token across the batch dimension\n",
        "- **Prepending**: `torch.cat((cls, x), 1)` concatenates the CLS token to the beginning of the sequence\n",
        "- **Classification**: Only the CLS token representation is used for final classification\n",
        "\n",
        "This allows the CLS token to aggregate information from all spatial locations through self-attention, creating a global representation suitable for classification.\n",
        "\n",
        "`nn.Parameter(torch.randn(1, max_tokens, embed_dim))` creates a large positional embedding matrix\n",
        "and `self.pos[:, :L+1]` dynamically slices the positional embeddings to match the actual sequence length. Together, these create a **dynamic positional encoding** system for the hybrid architecture where the CNN feature map size can vary based on input image dimensions.\n",
        "\n",
        "\n",
        "**`depth`** defines the number of transformerBlocks to be used in the transformer encoder\n",
        "### Classification head design\n",
        "\n",
        "The final classification pipeline includes:\n",
        "1. **Final normalization**: `self.norm(x)` applies LayerNorm to the final transformer output\n",
        "2. **CLS token extraction**: `[:, 0]` selects only the CLS token representation\n",
        "3. **Linear classification**: `self.head` maps the CLS representation to class logits\n",
        "\n",
        "The model's ability to handle variable sequence lengths makes it robust to different input sizes and CNN architectures, providing flexibility in deployment scenarios.\n"
      ]
    },
    {
      "cell_type": "code",
      "execution_count": 16,
      "id": "4b1fd0bb-d07d-4b32-b441-2757d8b931b8",
      "metadata": {
        "id": "4b1fd0bb-d07d-4b32-b441-2757d8b931b8"
      },
      "outputs": [],
      "source": [
        "class ViT(nn.Module):\n",
        "    def __init__(self, in_ch=1024, num_classes=2,\n",
        "                 embed_dim=768, depth=6, heads=8,\n",
        "                 mlp_ratio=4., dropout=0.1, max_tokens=50):\n",
        "        super().__init__()\n",
        "        self.patch = PatchEmbed(in_ch, embed_dim)           # 1×1 conv\n",
        "        self.cls   = nn.Parameter(torch.zeros(1, 1, embed_dim))\n",
        "        self.pos   = nn.Parameter(torch.randn(1, max_tokens, embed_dim))\n",
        "        self.blocks = nn.ModuleList([\n",
        "            TransformerBlock(embed_dim, heads, mlp_ratio, dropout)\n",
        "            for _ in range(depth)])\n",
        "        self.norm = nn.LayerNorm(embed_dim)\n",
        "        self.head = nn.Linear(embed_dim, num_classes)\n",
        "\n",
        "    def forward(self, x):                          # x: (B,C,H,W)\n",
        "        x = self.patch(x)                          # (B,L,D)\n",
        "        B, L, _ = x.shape\n",
        "        cls = self.cls.expand(B, -1, -1)           # (B,1,D)\n",
        "        x = torch.cat((cls, x), 1)                 # (B,L+1,D)\n",
        "        x = x + self.pos[:, :L + 1]                # match seq-len\n",
        "        for blk in self.blocks:\n",
        "            x = blk(x)\n",
        "        return self.head(self.norm(x)[:, 0])       # CLS token"
      ]
    },
    {
      "cell_type": "markdown",
      "id": "hybrid-doc",
      "metadata": {
        "id": "hybrid-doc"
      },
      "source": [
        "## CNN-ViT hybrid model\n",
        "\n",
        "The **CNN_ViT_Hybrid** class represents the hybrid architecture, integrating the CNN backbone with the Vision Transformer to create a unified model that leverages both local and global feature processing capabilities.\n",
        "In this hybrid model, the pre-trained CNN layers can be frozen while fine-tuning the Vi and allows for **efficient attention** to operate on semantically rich CNN features rather than raw pixels\n",
        "Thus, this hybrid approach combines the excellent capabilities of CNN to capture local patterns efficiently with ViTs' global context modeling, while keeping the level of complexity low.\n",
        "\n",
        "The forward pass implements a **two-stage forward pass pipeline**:\n",
        "1. **Local feature extraction**: `self.cnn.forward_features(x)` processes the input image through the CNN backbone, extracting hierarchical local features and reducing spatial resolution while increasing semantic depth.\n",
        "2. **Global context modeling**: `self.vit(features)` takes the CNN feature map and processes it through the Vision Transformer for global reasoning and classification.\n",
        "\n",
        "Despite the modular design, the entire hybrid model remains **fully differentiable**, enabling end-to-end training where gradients could flow from the classification loss back through both the ViT and CNN components. This allows the CNN to learn features that are optimally suited for the downstream transformer processing, creating a synergistic relationship between the two architectures.\n"
      ]
    },
    {
      "cell_type": "code",
      "execution_count": 17,
      "id": "dbf7d20d-9a55-4398-90a9-81e860f62838",
      "metadata": {
        "id": "dbf7d20d-9a55-4398-90a9-81e860f62838"
      },
      "outputs": [],
      "source": [
        "class CNN_ViT_Hybrid(nn.Module):\n",
        "    def __init__(self, num_classes=2, embed_dim=768, depth=6, heads=8):\n",
        "        super().__init__()\n",
        "        self.cnn = ConvNet(num_classes)            # load weights later\n",
        "        self.vit = ViT(num_classes=num_classes,\n",
        "                       embed_dim=embed_dim,\n",
        "                       depth=depth,\n",
        "                       heads=heads)\n",
        "    def forward(self, x):\n",
        "        return self.vit(self.cnn.forward_features(x))"
      ]
    },
    {
      "cell_type": "markdown",
      "id": "train-doc",
      "metadata": {
        "id": "train-doc"
      },
      "source": [
        "# Model training\n",
        "\n",
        "The **train** function implements a comprehensive training loop for one epoch, handling forward propagation, loss computation, backpropagation, and metric tracking in a memory-efficient manner.\n",
        "\n",
        "**Training mode**\n",
        "The function begins with `model.train()`, which configures the model for training by enabling dropout layers and gradient computation\n",
        "\n",
        "**Batch processing pipeline**\n",
        "Each training iteration follows a standard deep learning pipeline:\n",
        "\n",
        "1. **Data transfer**: `x, y = x.to(device), y.to(device)` moves input data and labels to the appropriate device (CPU/GPU)\n",
        "2. **Gradient reset**: `optimizer.zero_grad()` clears gradients from the previous iteration to prevent accumulation\n",
        "3. **Forward pass**: `out = model(x)` computes predictions through the hybrid CNN-ViT architecture\n",
        "4. **Loss computation**: `loss = criterion(out, y)` calculates cross-entropy loss between predictions and ground truth\n",
        "5. **Backpropagation**: `loss.backward()` computes gradients via automatic differentiation\n",
        "6. **Parameter update**: `optimizer.step()` updates model parameters using the computed gradients\n",
        "\n",
        "**Metric accumulation**: The function tracks two key metrics:\n",
        "- **Weighted loss**: `loss.item() * x.size(0)` accumulates loss weighted by batch size for accurate averaging\n",
        "- **Correct predictions**: `(out.argmax(1) == y).sum().item()` counts correct predictions using argmax for multi-class classification\n"
      ]
    },
    {
      "cell_type": "code",
      "execution_count": 18,
      "id": "27c5540f-b131-4cfd-9d18-93d51b4dca23",
      "metadata": {
        "id": "27c5540f-b131-4cfd-9d18-93d51b4dca23"
      },
      "outputs": [],
      "source": [
        "def train(model, loader, optimizer, criterion, device):\n",
        "    model.train()\n",
        "    loss_sum, correct = 0, 0\n",
        "    for batch_idx, (x, y) in enumerate(tqdm(loader, desc=\"Training  \")):\n",
        "        x, y = x.to(device), y.to(device)\n",
        "        optimizer.zero_grad()\n",
        "        out = model(x)\n",
        "        loss = criterion(out, y)\n",
        "        loss.backward()\n",
        "        optimizer.step()\n",
        "        loss_sum += loss.item() * x.size(0)\n",
        "        correct  += (out.argmax(1) == y).sum().item()\n",
        "    return loss_sum / len(loader.dataset), correct / len(loader.dataset)"
      ]
    },
    {
      "cell_type": "markdown",
      "id": "eval-doc",
      "metadata": {
        "id": "eval-doc"
      },
      "source": [
        "## Model evaluation\n",
        "Here, you will evaluate the model, implementing inference without gradient computation to optimize memory usage and computational speed.\n",
        "\n",
        "Two fundamental differences between using the model for evaluation and testing versus training are:\n",
        "- **`torch.no_grad()`**:  Disables gradient computation and accelerate inference\n",
        "- **`model.eval()`**: Switches the model to evaluation mode, ensures deterministic outputs\n",
        "\n",
        "The **evaluation loop** mirrors the training loop structure but omits gradient-related operations.\n",
        "\n",
        "This function **integrates with the training pipeline**, providing regular validation checks that help monitor model progress, detect overfitting, and make informed decisions about training continuation, learning rate adjustments, and model selection. The consistent interface with the training function enables easy integration into automated training workflows.\n"
      ]
    },
    {
      "cell_type": "code",
      "execution_count": 19,
      "id": "eaa42f92-0538-4490-a62f-8d1d37b64fbc",
      "metadata": {
        "id": "eaa42f92-0538-4490-a62f-8d1d37b64fbc"
      },
      "outputs": [],
      "source": [
        "def evaluate(model, loader, criterion, device):\n",
        "    with torch.no_grad():\n",
        "        model.eval()\n",
        "        loss_sum, correct = 0, 0\n",
        "        for batch_idx, (x, y) in enumerate(tqdm(loader, desc=\"Validation\")):\n",
        "            x, y = x.to(device), y.to(device)\n",
        "            out = model(x)\n",
        "            loss = criterion(out, y)\n",
        "            loss_sum += loss.item() * x.size(0)\n",
        "            correct  += (out.argmax(1) == y).sum().item()\n",
        "    return loss_sum / len(loader.dataset), correct / len(loader.dataset)"
      ]
    },
    {
      "cell_type": "markdown",
      "id": "202fafbd-1abd-4df8-a3a6-4d05b05f7307",
      "metadata": {
        "id": "202fafbd-1abd-4df8-a3a6-4d05b05f7307"
      },
      "source": [
        "## Data preparation and loading\n",
        "\n",
        "Here, you implement data preparation for the entire data pipeline, from raw image loading to batched tensor delivery.\n",
        "\n",
        "You define the key training hyperparameters:\n",
        "- **Image size (64×64)**: Chosen for computational efficiency while maintaining sufficient resolution for feature extraction\n",
        "- **Batch size (128)**: Balances memory usage with gradient stability and training speed\n",
        "- **learning rate (0.001)**: A conservative number for learning\n",
        "- **number of classes**: Total number of classes to be classified by the model\n"
      ]
    },
    {
      "cell_type": "code",
      "execution_count": 20,
      "id": "c925c5c6-80f1-42f2-9212-f4c02bc50d16",
      "metadata": {
        "id": "c925c5c6-80f1-42f2-9212-f4c02bc50d16"
      },
      "outputs": [],
      "source": [
        "dataset_path = os.path.join(data_dir, \"images_dataSAT\")\n",
        "\n",
        "img_size = 64\n",
        "batch_size = 32\n",
        "lr = 0.001\n",
        "num_cls  = 2\n"
      ]
    },
    {
      "cell_type": "markdown",
      "id": "b411ea27-22c9-404a-973b-e0c362e190f9",
      "metadata": {
        "id": "b411ea27-22c9-404a-973b-e0c362e190f9"
      },
      "source": [
        "### Training data transformations\n",
        "The **training transform** pipeline implements several **augmentation techniques** including Random Rotation, Random Horizontal Flip, Random Affine with Shear and normalization.\n"
      ]
    },
    {
      "cell_type": "markdown",
      "id": "42c719f2-ff7e-4e00-ad27-256a6d2cdc36",
      "metadata": {
        "id": "42c719f2-ff7e-4e00-ad27-256a6d2cdc36"
      },
      "source": [
        "## Task: Create `train_transform` transforms for the training dataset\n",
        "- Use the following parameters:\n",
        "    - Size: `img_size x img_size`\n",
        "    - `RandomRotation`: 40\n",
        "    - `RandomHorizontalFlip`\n",
        "    - `RandomAffine(0, shear=0.2)`\n",
        "    - `Normalization` values: ([0.485, 0.456, 0.406], [0.229, 0.224, 0.225])\n"
      ]
    },
    {
      "cell_type": "code",
      "execution_count": 21,
      "id": "43b7aec3-13f2-4b33-8093-2edb676a86b6",
      "metadata": {
        "id": "43b7aec3-13f2-4b33-8093-2edb676a86b6"
      },
      "outputs": [],
      "source": [
        "## You can use this cell to type the code to complete the task.\n",
        "train_transform = transforms.Compose([transforms.Resize((img_size, img_size)),\n",
        "                                      transforms.RandomRotation(40),\n",
        "                                      transforms.RandomHorizontalFlip(),\n",
        "                                      transforms.RandomAffine(0, shear=0.2),\n",
        "                                      transforms.ToTensor(),\n",
        "                                      transforms.Normalize([0.485, 0.456, 0.406], [0.229, 0.224, 0.225])\n",
        "                                     ])\n"
      ]
    },
    {
      "cell_type": "markdown",
      "id": "6fa3d4eb-f274-4fb7-be03-55235456b920",
      "metadata": {
        "id": "6fa3d4eb-f274-4fb7-be03-55235456b920"
      },
      "source": [
        "Double-click **here** for the solution.\n",
        "<!--\n",
        "train_transform = transforms.Compose([transforms.Resize((img_size, img_size)),\n",
        "                                      transforms.RandomRotation(40),\n",
        "                                      transforms.RandomHorizontalFlip(),\n",
        "                                      transforms.RandomAffine(0, shear=0.2),\n",
        "                                      transforms.ToTensor(),\n",
        "                                      transforms.Normalize([0.485, 0.456, 0.406], [0.229, 0.224, 0.225])\n",
        "                                     ])\n",
        "-->\n"
      ]
    },
    {
      "cell_type": "markdown",
      "id": "66c55c42-34cb-40ba-821a-f1d3f870ae0d",
      "metadata": {
        "id": "66c55c42-34cb-40ba-821a-f1d3f870ae0d"
      },
      "source": [
        "### Validation data transformations\n",
        "The **validation transform** is minimal for **deterministic preprocessing** to ensure reproducible validation results\n"
      ]
    },
    {
      "cell_type": "markdown",
      "id": "9e944b6e-9aa1-4413-ae6d-5943aa7abe2d",
      "metadata": {
        "id": "9e944b6e-9aa1-4413-ae6d-5943aa7abe2d"
      },
      "source": [
        "## Task: Create `val_transform` transforms for the validation dataset\n",
        "- Use the following parameters:\n",
        "    - Size: `img_size x img_size`\n",
        "    - `Normalization` values: ([0.485, 0.456, 0.406], [0.229, 0.224, 0.225])\n"
      ]
    },
    {
      "cell_type": "code",
      "execution_count": 22,
      "id": "7f8d96f8-c895-4fc7-9818-384393dc238c",
      "metadata": {
        "id": "7f8d96f8-c895-4fc7-9818-384393dc238c"
      },
      "outputs": [],
      "source": [
        "## You can use this cell to type the code to complete the task.\n",
        "val_transform = transforms.Compose([transforms.Resize((img_size, img_size)),\n",
        "                                    transforms.ToTensor(),\n",
        "                                    transforms.Normalize([0.485, 0.456, 0.406], [0.229, 0.224, 0.225])\n",
        "                                    ])\n"
      ]
    },
    {
      "cell_type": "markdown",
      "id": "a5870c47-4c92-4b81-b46d-3ce72eb45952",
      "metadata": {
        "id": "a5870c47-4c92-4b81-b46d-3ce72eb45952"
      },
      "source": [
        "Double-click **here** for the solution.\n",
        "<!--\n",
        "val_transform = transforms.Compose([transforms.Resize((img_size, img_size)),\n",
        "                                    transforms.ToTensor(),\n",
        "                                    transforms.Normalize([0.485, 0.456, 0.406], [0.229, 0.224, 0.225])\n",
        "                                    ])\n",
        "-->\n"
      ]
    },
    {
      "cell_type": "markdown",
      "id": "e40beced-ab3f-4bda-876d-0a61b137382a",
      "metadata": {
        "id": "e40beced-ab3f-4bda-876d-0a61b137382a"
      },
      "source": [
        "### The DataLoader\n",
        "\n",
        "The DataLoader setup is optimized for training:\n",
        "- **Shuffling**: Training data is shuffled to prevent batch-level patterns\n",
        "- **No Validation Shuffling**: Validation order is consistent for reproducible results\n",
        "- **`batch_size`**: Efficient tensor batching for GPU utilization\n",
        "\n",
        "You begin by splitting the dataset into `training` and `validation` data using `random_split` feature. Here, you define **80%** (0.8 fraction) of the total dataset for training and rest for validation.\n",
        "\n",
        "Next, you apply the `train_transform` to `train_dataset` and `val_transform` to `val_dataset` to make the dataset ready for DataLoader\n"
      ]
    },
    {
      "cell_type": "code",
      "execution_count": 23,
      "id": "e68dee90-ccc1-4933-b55e-cfa1ec1b2fc4",
      "metadata": {
        "id": "e68dee90-ccc1-4933-b55e-cfa1ec1b2fc4"
      },
      "outputs": [],
      "source": [
        "full_dataset = datasets.ImageFolder(dataset_path, transform=train_transform)\n",
        "\n",
        "train_size = int(0.8 * len(full_dataset))\n",
        "val_size = len(full_dataset) - train_size\n",
        "train_dataset, val_dataset = random_split(full_dataset, [train_size, val_size])\n",
        "train_dataset.dataset.transform = train_transform\n",
        "val_dataset.dataset.transform = val_transform"
      ]
    },
    {
      "cell_type": "markdown",
      "id": "e96107c1-49a1-428b-b412-ff214cdfa2ac",
      "metadata": {
        "id": "e96107c1-49a1-428b-b412-ff214cdfa2ac"
      },
      "source": [
        "## Task: Create the Dataloader `train_loader` and `val_loader` using `train_dataset` and `val_dataset`\n",
        "- Use the following parameters:\n",
        "    - `batch_size=batch_size`\n",
        "    - for `train_loader`: `shuffle=True`\n",
        "    - for `val_loader`: `shuffle=False`\n"
      ]
    },
    {
      "cell_type": "code",
      "execution_count": 24,
      "id": "1d72de3d-4f8e-445b-991d-9474ce10ffa6",
      "metadata": {
        "id": "1d72de3d-4f8e-445b-991d-9474ce10ffa6"
      },
      "outputs": [],
      "source": [
        "## You can use this cell to type the code to complete the task.\n",
        "train_loader = DataLoader(train_dataset,\n",
        "                          batch_size=batch_size,\n",
        "                          shuffle=True,\n",
        "                         )\n",
        "\n",
        "val_loader = DataLoader(val_dataset,\n",
        "                        batch_size=batch_size,\n",
        "                        shuffle=False,\n",
        "                       )\n"
      ]
    },
    {
      "cell_type": "markdown",
      "id": "9ea67f23-a7f6-4a72-b6a7-5f8ac702561c",
      "metadata": {
        "id": "9ea67f23-a7f6-4a72-b6a7-5f8ac702561c"
      },
      "source": [
        "Double-click **here** for the solution.\n",
        "<!--\n",
        "train_loader = DataLoader(train_dataset,\n",
        "                          batch_size=batch_size,\n",
        "                          shuffle=True,\n",
        "                         )\n",
        "\n",
        "val_loader = DataLoader(val_dataset,\n",
        "                        batch_size=batch_size,\n",
        "                        shuffle=False,\n",
        "                       )\n",
        "-->\n"
      ]
    },
    {
      "cell_type": "markdown",
      "id": "loop-doc",
      "metadata": {
        "id": "loop-doc"
      },
      "source": [
        "## Model initialization and training loop\n",
        "\n",
        "This cell orchestrates the complete training pipeline, from model instantiation through iterative training and validation, implementing comprehensive monitoring and logging for effective model development.\n",
        "\n",
        "- **CUDA detection**: `torch.cuda.is_available()` checks for GPU availability\n",
        "\n",
        "The hybrid model is instantiated with carefully chosen hyperparameters:\n",
        "- **Number of classes**: `num_classes=2` configured for the specific dataset\n",
        "- **Default architecture**: Uses ViT configuration (768 embedding dim, 1  transformer layer, 1 heads)\n",
        "\n",
        "### Transfer learning integration\n",
        "\n",
        "The commented line demonstrates transfer learning capability:\n",
        "- **Pre-trained weights**: Option to load pre-trained CNN backbone weights\n",
        "- **Flexible loading**: `strict=False` allows partial weight loading\n",
        "\n",
        "**Optimizer**: The training uses the `adam` optimizer.\n",
        "\n",
        "The training loop collects the **training and validation metrics** to track training performance and monitor generalization of the model.\n",
        "\n",
        "### Training loop architecture\n",
        "\n",
        "Each epoch follows a structured pipeline:\n",
        "1. **Timing**: `time.time()` tracks epoch duration for performance monitoring\n",
        "2. **Training phase**: Calls the training function with appropriate parameters\n",
        "3. **Validation phase**: Evaluates model on validation set\n",
        "4. **Logging**: Comprehensive output showing all metrics and timing\n",
        "5. **Storage**: Appends metrics to tracking lists for later analysis\n",
        "\n",
        "In this training cell, you create a robust, monitored, and efficient training pipeline that provides comprehensive insights into model performance while maintaining computational efficiency and enabling easy debugging and optimization.\n"
      ]
    },
    {
      "cell_type": "code",
      "execution_count": 25,
      "id": "1605bf28-929b-4eda-8da7-61ef0f8b0f1c",
      "metadata": {
        "id": "1605bf28-929b-4eda-8da7-61ef0f8b0f1c",
        "colab": {
          "base_uri": "https://localhost:8080/"
        },
        "outputId": "e7a19159-f5d9-48a7-a894-a78a1162abda"
      },
      "outputs": [
        {
          "output_type": "stream",
          "name": "stdout",
          "text": [
            "Training the model on cuda\n",
            "epochs:5 | batch:32 | attn_heads:6 | depth:3 | embed_dim:768\n",
            "\n",
            "Epoch 01/05 started at 20250819_174855 (UTC)\n"
          ]
        },
        {
          "output_type": "stream",
          "name": "stderr",
          "text": [
            "Training  : 100%|██████████| 150/150 [00:10<00:00, 14.28it/s]\n",
            "Validation: 100%|██████████| 38/38 [00:01<00:00, 28.85it/s]\n"
          ]
        },
        {
          "output_type": "stream",
          "name": "stdout",
          "text": [
            "Epoch 01 | train loss 0.3443 acc 0.9267 | val loss 0.0771 acc 0.9783 | in  11.83s\n",
            "Current loss (0.0771) lower than previous best loss (inf), Saving current model state\n",
            "\n",
            "Epoch 02/05 started at 20250819_174907 (UTC)\n"
          ]
        },
        {
          "output_type": "stream",
          "name": "stderr",
          "text": [
            "Training  : 100%|██████████| 150/150 [00:08<00:00, 17.09it/s]\n",
            "Validation: 100%|██████████| 38/38 [00:01<00:00, 36.78it/s]\n"
          ]
        },
        {
          "output_type": "stream",
          "name": "stdout",
          "text": [
            "Epoch 02 | train loss 0.1019 acc 0.9600 | val loss 0.0908 acc 0.9650 | in  9.83s\n",
            "\n",
            "Epoch 03/05 started at 20250819_174917 (UTC)\n"
          ]
        },
        {
          "output_type": "stream",
          "name": "stderr",
          "text": [
            "Training  : 100%|██████████| 150/150 [00:09<00:00, 15.95it/s]\n",
            "Validation: 100%|██████████| 38/38 [00:01<00:00, 36.82it/s]\n"
          ]
        },
        {
          "output_type": "stream",
          "name": "stdout",
          "text": [
            "Epoch 03 | train loss 0.0539 acc 0.9806 | val loss 0.0313 acc 0.9892 | in  10.45s\n",
            "Current loss (0.0313) lower than previous best loss (0.0771), Saving current model state\n",
            "\n",
            "Epoch 04/05 started at 20250819_174927 (UTC)\n"
          ]
        },
        {
          "output_type": "stream",
          "name": "stderr",
          "text": [
            "Training  : 100%|██████████| 150/150 [00:09<00:00, 15.20it/s]\n",
            "Validation: 100%|██████████| 38/38 [00:01<00:00, 37.35it/s]\n"
          ]
        },
        {
          "output_type": "stream",
          "name": "stdout",
          "text": [
            "Epoch 04 | train loss 0.0806 acc 0.9731 | val loss 0.0930 acc 0.9658 | in  10.90s\n",
            "\n",
            "Epoch 05/05 started at 20250819_174938 (UTC)\n"
          ]
        },
        {
          "output_type": "stream",
          "name": "stderr",
          "text": [
            "Training  : 100%|██████████| 150/150 [00:09<00:00, 16.24it/s]\n",
            "Validation: 100%|██████████| 38/38 [00:01<00:00, 37.21it/s]\n"
          ]
        },
        {
          "output_type": "stream",
          "name": "stdout",
          "text": [
            "Epoch 05 | train loss 0.0434 acc 0.9838 | val loss 0.0111 acc 0.9975 | in  10.27s\n",
            "Current loss (0.0111) lower than previous best loss (0.0313), Saving current model state\n",
            "epochs:5 | batch:32 | attn_heads:6 | depth:3 | embed_dim:768\n"
          ]
        }
      ],
      "source": [
        "device   = \"cuda\" if torch.cuda.is_available() else \"cpu\"\n",
        "print(f\"Training the model on {device}\")\n",
        "\n",
        "\n",
        "epochs     = 5\n",
        "attn_heads = 6\n",
        "depth      = 3\n",
        "embed_dim  = 768\n",
        "\n",
        "print(f\"epochs:{epochs} | batch:{batch_size} | attn_heads:{attn_heads} | depth:{depth} | embed_dim:{embed_dim}\")\n",
        "\n",
        "model_dict_name = f\"ai_capstone_pytorch_vit_model_state_dict.pth\"\n",
        "\n",
        "model     = CNN_ViT_Hybrid(num_classes=num_cls,\n",
        "                            heads=attn_heads,\n",
        "                            depth=depth,\n",
        "                            embed_dim=embed_dim\n",
        "                           ).to(device)\n",
        "\n",
        "\n",
        "# ------------------------------------------------------------------ #\n",
        "# loading pre-trained CNN weights\n",
        "model.cnn.load_state_dict(torch.load(pytorch_state_dict_path), strict=False)\n",
        "# ------------------------------------------------------------------ #\n",
        "\n",
        "\n",
        "criterion= nn.CrossEntropyLoss()\n",
        "optimizer= torch.optim.Adam(model.parameters(), lr=lr)\n",
        "\n",
        "\n",
        "best_loss = float('inf')\n",
        "tr_loss_all = []\n",
        "te_loss_all = []\n",
        "tr_acc_all = []\n",
        "te_acc_all = []\n",
        "\n",
        "training_time = []\n",
        "for epoch in range(1, epochs+1):\n",
        "    start_time = time.time()\n",
        "    print(f\"\\nEpoch {epoch:02d}/{epochs:02d} started at {present_time()} (UTC)\")\n",
        "    tr_loss,tr_acc = train(model, train_loader, optimizer, criterion, device)\n",
        "    te_loss,te_acc = evaluate(model, val_loader, criterion, device)\n",
        "    print(f\"Epoch {epoch:02d} | \"\n",
        "          f\"train loss {tr_loss:.4f} acc {tr_acc:.4f} | \"\n",
        "          f\"val loss {te_loss:.4f} acc {te_acc:.4f} |\"\n",
        "          f\" in  {time.time()-start_time:.02f}s\"\n",
        "        )\n",
        "    tr_loss_all.append(tr_loss)\n",
        "    te_loss_all.append(te_loss)\n",
        "    tr_acc_all.append(tr_acc)\n",
        "    te_acc_all.append(te_acc)\n",
        "    training_time.append(time.time() - start_time)\n",
        "\n",
        "    # Save the best model\n",
        "    avg_te_loss = te_loss\n",
        "    if avg_te_loss < best_loss:\n",
        "        print(f\"Current loss ({avg_te_loss:.04f}) lower than previous best loss ({ best_loss:.04f}), Saving current model state\")\n",
        "        best_loss = avg_te_loss\n",
        "        torch.save(model.state_dict(), model_dict_name)\n",
        "\n",
        "print(f\"epochs:{epochs} | batch:{batch_size} | attn_heads:{attn_heads} | depth:{depth} | embed_dim:{embed_dim}\")\n"
      ]
    },
    {
      "cell_type": "markdown",
      "id": "668583e1-9f69-4b2d-83dd-78d7ecbb5e27",
      "metadata": {
        "id": "668583e1-9f69-4b2d-83dd-78d7ecbb5e27"
      },
      "source": [
        "### Hyperparameter cheatsheet (depth based)\n",
        "\n",
        "The Depth of the transformer blocks signify the number of transformer blocks stacked in the model. This is one of the most important features which differentiates a ViT from CNN.\n",
        "\n",
        "This table proides a basic overview on **how depth affects** other hyperparameters and model performance.\n",
        "\n",
        "|  **Depth** | **Attention heads** | **Dataset Size** |  **Performance** | **learning rate** | **Feature Complexity** | **Learning Focus** |\n",
        "|:---:|:---:|---|:---:|---|:---|:---:|\n",
        "| **3** | 6 | size < 1000 | Underfitting - too shallow |0.001 (Shallow: can handle higher learning rates) | Low-level features | Edges, textures, basic patterns |\n",
        "| **6** | 6 | size <1000 | Good for simple tasks |0.001 (Shallow: can handle higher learning rates) | Mid-level features | Shapes, object parts, spatial relationships |\n",
        "| **12** | 12 | 1000 < size < 10000 | Standard choice - good balance | 0.0005 (Medium: moderate learning rate) | High-level features | Objects, semantic concepts, global context |\n",
        "| **18** | 12 | 10000 < size < 100000 | High performance on complex tasks | 0.0003 (Deep: lower learning rate for stability) | High-level features | Objects, semantic concepts, global context |\n",
        "| **24** | 16 | 100000 < size | Diminishing returns, overfitting risk | 0.0001 (Very deep: very small learning rate) | High-level features | Objects, semantic concepts, global context |\n",
        "| **36** | 16 | 100000 < size | Likely overkill for most tasks | 0.0001 (Very deep: very small learning rate) | High-level features | Objects, semantic concepts, global context |\n"
      ]
    },
    {
      "cell_type": "markdown",
      "id": "89dc7b27-134c-42f8-9034-decf80168e46",
      "metadata": {
        "id": "89dc7b27-134c-42f8-9034-decf80168e46"
      },
      "source": [
        "### Task: Design and train a CNN-ViT hybrid model `model_test` with the following hyperparameters:\n",
        "- `epochs=5`\n",
        "- `attn heads=12`\n",
        "- `transformer block depth = 12`\n",
        "- `embed_dim=768`\n",
        "\n",
        "Save the `accuracy` and `loss` metrics in\n",
        "- `tr_loss_all_test` for training loss\n",
        "- `te_loss_all_test` for validation/testing loss\n",
        "- `tr_acc_all_test` for training accuracy\n",
        "- `te_acc_all_test` for validation/testing accuracy\n",
        "\n",
        "Save the training times in `training_time_test`\n",
        "\n",
        "Save the best model as **`ai_capstone_pytorch_vit_model_test_state_dict.pth`**\n"
      ]
    },
    {
      "cell_type": "code",
      "execution_count": 26,
      "id": "c542f0ad-6d11-4afc-b21d-ffa6a7bf8330",
      "metadata": {
        "id": "c542f0ad-6d11-4afc-b21d-ffa6a7bf8330",
        "colab": {
          "base_uri": "https://localhost:8080/"
        },
        "outputId": "ebcdb93d-b585-404b-f787-35b56152e59f"
      },
      "outputs": [
        {
          "output_type": "stream",
          "name": "stdout",
          "text": [
            "Training the model on cuda\n",
            "epochs:5 | batch:32 | attn_heads:12 | depth:12 | embed_dim:768\n",
            "\n",
            "Epoch 01/05 started at 20250819_174950 (UTC)\n"
          ]
        },
        {
          "output_type": "stream",
          "name": "stderr",
          "text": [
            "Training  : 100%|██████████| 150/150 [00:15<00:00,  9.85it/s]\n",
            "Validation: 100%|██████████| 38/38 [00:01<00:00, 31.86it/s]\n"
          ]
        },
        {
          "output_type": "stream",
          "name": "stdout",
          "text": [
            "Epoch 01 | train loss 0.4631 acc 0.8190 | val loss 0.1025 acc 0.9658 | in  16.43s\n",
            "Current loss (0.1025) lower than previous best loss (inf), Saving current model state\n",
            "\n",
            "Epoch 02/05 started at 20250819_175008 (UTC)\n"
          ]
        },
        {
          "output_type": "stream",
          "name": "stderr",
          "text": [
            "Training  : 100%|██████████| 150/150 [00:16<00:00,  9.22it/s]\n",
            "Validation: 100%|██████████| 38/38 [00:01<00:00, 32.26it/s]\n"
          ]
        },
        {
          "output_type": "stream",
          "name": "stdout",
          "text": [
            "Epoch 02 | train loss 0.2860 acc 0.9081 | val loss 0.7778 acc 0.7408 | in  17.46s\n",
            "\n",
            "Epoch 03/05 started at 20250819_175025 (UTC)\n"
          ]
        },
        {
          "output_type": "stream",
          "name": "stderr",
          "text": [
            "Training  : 100%|██████████| 150/150 [00:15<00:00,  9.86it/s]\n",
            "Validation: 100%|██████████| 38/38 [00:01<00:00, 32.56it/s]\n"
          ]
        },
        {
          "output_type": "stream",
          "name": "stdout",
          "text": [
            "Epoch 03 | train loss 0.2576 acc 0.9275 | val loss 0.1043 acc 0.9750 | in  16.38s\n",
            "\n",
            "Epoch 04/05 started at 20250819_175042 (UTC)\n"
          ]
        },
        {
          "output_type": "stream",
          "name": "stderr",
          "text": [
            "Training  : 100%|██████████| 150/150 [00:15<00:00,  9.79it/s]\n",
            "Validation: 100%|██████████| 38/38 [00:01<00:00, 24.91it/s]\n"
          ]
        },
        {
          "output_type": "stream",
          "name": "stdout",
          "text": [
            "Epoch 04 | train loss 0.1844 acc 0.9510 | val loss 0.0568 acc 0.9883 | in  16.87s\n",
            "Current loss (0.0568) lower than previous best loss (0.1025), Saving current model state\n",
            "\n",
            "Epoch 05/05 started at 20250819_175100 (UTC)\n"
          ]
        },
        {
          "output_type": "stream",
          "name": "stderr",
          "text": [
            "Training  : 100%|██████████| 150/150 [00:15<00:00,  9.84it/s]\n",
            "Validation: 100%|██████████| 38/38 [00:01<00:00, 32.45it/s]\n"
          ]
        },
        {
          "output_type": "stream",
          "name": "stdout",
          "text": [
            "Epoch 05 | train loss 0.0984 acc 0.9729 | val loss 0.0163 acc 0.9950 | in  16.42s\n",
            "Current loss (0.0163) lower than previous best loss (0.0568), Saving current model state\n"
          ]
        }
      ],
      "source": [
        "## Please use the space below to write your answer\n",
        "device   = \"cuda\" if torch.cuda.is_available() else \"cpu\"\n",
        "print(f\"Training the model on {device}\")\n",
        "\n",
        "epochs     = 5\n",
        "attn_heads = 12\n",
        "depth      = 12\n",
        "embed_dim  = 768\n",
        "\n",
        "print(f\"epochs:{epochs} | batch:{batch_size} | attn_heads:{attn_heads} | depth:{depth} | embed_dim:{embed_dim}\")\n",
        "\n",
        "model_dict_name = f\"ai_capstone_pytorch_vit_model_test_state_dict.pth\"\n",
        "\n",
        "model_test = CNN_ViT_Hybrid(num_classes=num_cls,\n",
        "                            heads=attn_heads,\n",
        "                            depth=depth,\n",
        "                            embed_dim=embed_dim\n",
        "                           ).to(device)\n",
        "\n",
        "# ------------------------------------------------------------------ #\n",
        "# loading pre-trained CNN weights\n",
        "model_test.cnn.load_state_dict(torch.load(pytorch_state_dict_path), strict=False)\n",
        "# ------------------------------------------------------------------ #\n",
        "\n",
        "criterion= nn.CrossEntropyLoss()\n",
        "optimizer= torch.optim.Adam(model_test.parameters(), lr=lr)\n",
        "\n",
        "best_loss = float('inf')\n",
        "tr_loss_all_test = []\n",
        "te_loss_all_test = []\n",
        "tr_acc_all_test = []\n",
        "te_acc_all_test = []\n",
        "training_time_test = []\n",
        "for epoch in range(1, epochs+1):\n",
        "    start_time = time.time()\n",
        "    print(f\"\\nEpoch {epoch:02d}/{epochs:02d} started at {present_time()} (UTC)\")\n",
        "    tr_loss,tr_acc = train(model_test, train_loader, optimizer, criterion, device)\n",
        "    te_loss,te_acc = evaluate(model_test, val_loader, criterion, device)\n",
        "    print(f\"Epoch {epoch:02d} | \"\n",
        "          f\"train loss {tr_loss:.4f} acc {tr_acc:.4f} | \"\n",
        "          f\"val loss {te_loss:.4f} acc {te_acc:.4f} |\"\n",
        "          f\" in  {time.time()-start_time:.02f}s\"\n",
        "        )\n",
        "    tr_loss_all_test.append(tr_loss)\n",
        "    te_loss_all_test.append(te_loss)\n",
        "    tr_acc_all_test.append(tr_acc)\n",
        "    te_acc_all_test.append(te_acc)\n",
        "    training_time_test.append(time.time() - start_time)\n",
        "\n",
        "    # Save the best model\n",
        "    avg_te_loss = te_loss\n",
        "    if avg_te_loss < best_loss:\n",
        "        print(f\"Current loss ({avg_te_loss:.04f}) lower than previous best loss ({ best_loss:.04f}), Saving current model state\")\n",
        "        best_loss = avg_te_loss\n",
        "        torch.save(model_test.state_dict(), model_dict_name)"
      ]
    },
    {
      "cell_type": "markdown",
      "id": "251201c9-1224-4063-be10-0e8828654dcf",
      "metadata": {
        "id": "251201c9-1224-4063-be10-0e8828654dcf"
      },
      "source": [
        "Double-click **here** for the solution.\n",
        "<!--\n",
        "## Please use the space below to write your answer\n",
        "\n",
        "device   = \"cuda\" if torch.cuda.is_available() else \"cpu\"\n",
        "print(f\"Training the model on {device}\")\n",
        "\n",
        "epochs     = 5\n",
        "attn_heads = 12\n",
        "depth      = 12\n",
        "embed_dim  = 768\n",
        "\n",
        "print(f\"epochs:{epochs} | batch:{batch_size} | attn_heads:{attn_heads} | depth:{depth} | embed_dim:{embed_dim}\")\n",
        "\n",
        "model_dict_name = f\"ai_capstone_pytorch_vit_model_test_state_dict.pth\"\n",
        "\n",
        "model_test = CNN_ViT_Hybrid(num_classes=num_cls,\n",
        "                            heads=attn_heads,\n",
        "                            depth=depth,\n",
        "                            embed_dim=embed_dim\n",
        "                           ).to(device)\n",
        "\n",
        "# ------------------------------------------------------------------ #\n",
        "# loading pre-trained CNN weights\n",
        "model_test.cnn.load_state_dict(torch.load(pytorch_state_dict_path), strict=False)\n",
        "# ------------------------------------------------------------------ #\n",
        "\n",
        "criterion= nn.CrossEntropyLoss()\n",
        "optimizer= torch.optim.Adam(model_test.parameters(), lr=lr)\n",
        "\n",
        "best_loss = float('inf')\n",
        "tr_loss_all_test = []\n",
        "te_loss_all_test = []\n",
        "tr_acc_all_test = []\n",
        "te_acc_all_test = []\n",
        "training_time_test = []\n",
        "for epoch in range(1, epochs+1):\n",
        "    start_time = time.time()\n",
        "    print(f\"\\nEpoch {epoch:02d}/{epochs:02d} started at {present_time()} (UTC)\")\n",
        "    tr_loss,tr_acc = train(model_test, train_loader, optimizer, criterion, device)\n",
        "    te_loss,te_acc = evaluate(model_test, val_loader, criterion, device)\n",
        "    print(f\"Epoch {epoch:02d} | \"\n",
        "          f\"train loss {tr_loss:.4f} acc {tr_acc:.4f} | \"\n",
        "          f\"val loss {te_loss:.4f} acc {te_acc:.4f} |\"\n",
        "          f\" in  {time.time()-start_time:.02f}s\"\n",
        "        )\n",
        "    tr_loss_all_test.append(tr_loss)\n",
        "    te_loss_all_test.append(te_loss)\n",
        "    tr_acc_all_test.append(tr_acc)\n",
        "    te_acc_all_test.append(te_acc)\n",
        "    training_time_test.append(time.time() - start_time)\n",
        "\n",
        "    # Save the best model\n",
        "    avg_te_loss = te_loss\n",
        "    if avg_te_loss < best_loss:\n",
        "        print(f\"Current loss ({avg_te_loss:.04f}) lower than previous best loss ({ best_loss:.04f}), Saving current model state\")\n",
        "        best_loss = avg_te_loss\n",
        "        torch.save(model_test.state_dict(), model_dict_name)\n",
        "\n",
        "-->\n"
      ]
    },
    {
      "cell_type": "markdown",
      "id": "plot-doc",
      "metadata": {
        "id": "plot-doc"
      },
      "source": [
        "## Plotting training and validation accuracy and loss\n",
        "\n",
        "This visualization cell creates comprehensive learning curves that provide crucial insights into model training dynamics, performance trends, and potential issues such as overfitting or underfitting.\n",
        "\n",
        "The implementation creates two separate plots for different aspects of training analysis:\n",
        "- **Accuracy plot**: Shows classification performance trends over epochs\n",
        "- **Loss plot**: Reveals optimization dynamics and convergence behavior\n",
        "\n",
        "\n",
        "These plots enable several important diagnostic assessments:\n",
        "- **Overfitting detection**: Widening gap between training and validation metrics\n",
        "- **Underfitting identification**: Both metrics plateau at suboptimal levels\n",
        "- **Training completion**: Convergence indicates when to stop training\n",
        "- **Hyperparameter evaluation**: Curves help assess learning rate, regularization effectiveness\n",
        "\n",
        "These learning curves serve as essential tools for understanding model behavior, diagnosing training issues, and making informed decisions about hyperparameter adjustments, training duration, and model architecture modifications.\n"
      ]
    },
    {
      "cell_type": "code",
      "execution_count": 27,
      "id": "a0050164-56da-44b4-99f5-1851f142aa10",
      "metadata": {
        "id": "a0050164-56da-44b4-99f5-1851f142aa10",
        "colab": {
          "base_uri": "https://localhost:8080/",
          "height": 797
        },
        "outputId": "e161a1d9-167e-4bf3-8046-5e2f868ac61d"
      },
      "outputs": [
        {
          "output_type": "display_data",
          "data": {
            "text/plain": [
              "<Figure size 600x400 with 1 Axes>"
            ],
            "image/png": "[encoded data removed]"
          },
          "metadata": {}
        },
        {
          "output_type": "display_data",
          "data": {
            "text/plain": [
              "<Figure size 600x400 with 1 Axes>"
            ],
            "image/png": "[encoded data removed]"
          },
          "metadata": {}
        }
      ],
      "source": [
        "fig_w, fig_h = 6,4\n",
        "fig, axs = plt.subplots(figsize=(fig_w, fig_h ))\n",
        "\n",
        "# Plot Accuracy on the first subplot\n",
        "axs.plot(tr_acc_all, label='Training Accuracy')\n",
        "axs.plot(te_acc_all, label='Validation Accuracy')\n",
        "axs.set_title('Model Accuracy')\n",
        "axs.set_xlabel('Epochs')\n",
        "axs.set_ylabel('Accuracy')\n",
        "axs.legend()\n",
        "axs.grid(True)\n",
        "\n",
        "plt.tight_layout()\n",
        "plt.show()\n",
        "\n",
        "\n",
        "fig, axs = plt.subplots( figsize=(fig_w, fig_h ))\n",
        "\n",
        "# Plot Loss on the second subplot\n",
        "axs.plot(tr_loss_all, label='Training Loss')\n",
        "axs.plot(te_loss_all, label='Validation Loss')\n",
        "axs.set_title('Model Loss')\n",
        "axs.set_xlabel('Epochs')\n",
        "axs.set_ylabel('Loss')\n",
        "axs.legend()\n",
        "axs.grid(True)\n",
        "\n",
        "plt.tight_layout()\n",
        "plt.show()"
      ]
    },
    {
      "cell_type": "markdown",
      "id": "3158bb89-889d-430b-90c2-d54c4e313171",
      "metadata": {
        "id": "3158bb89-889d-430b-90c2-d54c4e313171"
      },
      "source": [
        "## Task: Compare the performance of `model` with `model_test` by plotting the validation loss for `model` and `model_test` ViTs\n"
      ]
    },
    {
      "cell_type": "code",
      "execution_count": 29,
      "id": "ea3cf54d-9029-4094-81ad-e89e6b16ee62",
      "metadata": {
        "id": "ea3cf54d-9029-4094-81ad-e89e6b16ee62",
        "colab": {
          "base_uri": "https://localhost:8080/",
          "height": 407
        },
        "outputId": "ff8f1cde-acb4-4d91-b77d-88c2e98df0ca"
      },
      "outputs": [
        {
          "output_type": "display_data",
          "data": {
            "text/plain": [
              "<Figure size 600x400 with 1 Axes>"
            ],
            "image/png": "[encoded data removed]"
          },
          "metadata": {}
        }
      ],
      "source": [
        "## Please use the space below to write your answer\n",
        "fig, axs = plt.subplots( figsize=(fig_w, fig_h ))\n",
        "\n",
        "# Plot Loss on the second subplot\n",
        "axs.plot(te_loss_all, label='Validation Loss (model)')\n",
        "axs.plot(te_loss_all_test, label='Validation Loss (model_test)')\n",
        "axs.set_title('Model Loss')\n",
        "axs.set_xlabel('Epochs')\n",
        "axs.set_ylabel('Loss')\n",
        "axs.legend()\n",
        "axs.grid(True)\n",
        "\n",
        "plt.tight_layout()\n",
        "plt.show()"
      ]
    },
    {
      "cell_type": "markdown",
      "id": "038c595d-12ed-4e30-8ec9-bb615ca3c591",
      "metadata": {
        "id": "038c595d-12ed-4e30-8ec9-bb615ca3c591"
      },
      "source": [
        "Double-click **here** for the solution.\n",
        "<!--\n",
        "\n",
        "fig, axs = plt.subplots( figsize=(fig_w, fig_h ))\n",
        "\n",
        "# Plot Loss on the second subplot\n",
        "axs.plot(te_loss_all, label='Validation Loss (model)')\n",
        "axs.plot(te_loss_all_all, label='Validation Loss (model_test)')\n",
        "axs.set_title('Model Loss')\n",
        "axs.set_xlabel('Epochs')\n",
        "axs.set_ylabel('Loss')\n",
        "axs.legend()\n",
        "axs.grid(True)\n",
        "\n",
        "plt.tight_layout()\n",
        "plt.show()\n",
        "\n",
        "-->\n"
      ]
    },
    {
      "cell_type": "markdown",
      "id": "c980db06-f25b-43f5-a20b-4f5e8363bf7c",
      "metadata": {
        "id": "c980db06-f25b-43f5-a20b-4f5e8363bf7c"
      },
      "source": [
        "## Task: Compare the training times of `model` with `model_test` by plotting the training time for each\n"
      ]
    },
    {
      "cell_type": "code",
      "execution_count": 30,
      "id": "f0ef17b1-d965-4706-93d3-0b824fce7313",
      "metadata": {
        "id": "f0ef17b1-d965-4706-93d3-0b824fce7313",
        "colab": {
          "base_uri": "https://localhost:8080/",
          "height": 407
        },
        "outputId": "37c7a61b-0d28-4f82-bffb-036658ed7ed8"
      },
      "outputs": [
        {
          "output_type": "display_data",
          "data": {
            "text/plain": [
              "<Figure size 600x400 with 1 Axes>"
            ],
            "image/png": "[encoded data removed]"
          },
          "metadata": {}
        }
      ],
      "source": [
        "## Please use the space below to write your answer\n",
        "fig, axs = plt.subplots( figsize=(fig_w, fig_h ))\n",
        "\n",
        "# Plot Loss on the second subplot\n",
        "axs.plot(training_time, label='Training time (model)')\n",
        "axs.plot(training_time_test, label='Training time (model_test)')\n",
        "axs.set_title('Training time')\n",
        "axs.set_xlabel('Epochs')\n",
        "axs.set_ylabel('Seconds')\n",
        "axs.legend()\n",
        "axs.grid(True)\n",
        "\n",
        "plt.tight_layout()\n",
        "plt.show()\n"
      ]
    },
    {
      "cell_type": "markdown",
      "id": "d2d3c82b-063f-4296-8686-10e33a6c633e",
      "metadata": {
        "id": "d2d3c82b-063f-4296-8686-10e33a6c633e"
      },
      "source": [
        "Double-click **here** for the solution.\n",
        "<!--\n",
        "\n",
        "fig, axs = plt.subplots( figsize=(fig_w, fig_h ))\n",
        "\n",
        "# Plot Loss on the second subplot\n",
        "axs.plot(training_time, label='Training time (model)')\n",
        "axs.plot(training_time_test, label='Training time (model_test)')\n",
        "axs.set_title('Training time')\n",
        "axs.set_xlabel('Epochs')\n",
        "axs.set_ylabel('Seconds')\n",
        "axs.legend()\n",
        "axs.grid(True)\n",
        "\n",
        "plt.tight_layout()\n",
        "plt.show()\n",
        "\n",
        "-->\n"
      ]
    },
    {
      "cell_type": "markdown",
      "id": "a0d9b69b-4e5e-45eb-9678-5fc2d7204189",
      "metadata": {
        "id": "a0d9b69b-4e5e-45eb-9678-5fc2d7204189"
      },
      "source": [
        "## Save and download the trained model weights\n",
        "\n",
        "You have successfully trained the ViT model for the classification of agricultural land from satellite imagery.\n",
        "In this lab, in the interest of time, you have trained the model for 3-5 epochs. However, usually you train the model for around 15-20 epochs, depending on the quality of training data and model metrics for the validation.\n",
        "\n",
        "For your convenience, I have saved a model state dict for the model trained over 20 epochs **[here](https://cf-courses-data.s3.us.cloud-object-storage.appdomain.cloud/rFBrDlu1NNcAzir5Uww8eg/pytorch-cnn-vit-ai-capstone-model-state-dict.pth)**. You can download that for evaluation and further labs on your local machine from **[this link](https://cf-courses-data.s3.us.cloud-object-storage.appdomain.cloud/rFBrDlu1NNcAzir5Uww8eg/pytorch-cnn-vit-ai-capstone-model-state-dict.pth)**.\n",
        "\n",
        "\n",
        "Otherwise, you have also saved the model state dictionary for the best model using the `torch.save` function during training in this lab.\n",
        "\n",
        "You can also download the model state dict for the model that you have just trained for use in the subsequent labs.\n",
        "\n",
        "This is the PyTorch AI model state that can now be used for inferring unclassified images.\n",
        "\n",
        "- You can download the trained model file: `ai_capstone_pytorch_vit_model_state_dict.pth` from the left pane and save it on your local computer.\n",
        "- You can download this model by \"right-clicking\" on the file and then clicking \"Download\".\n",
        "- This model could be used in other labs of this AI capstone course, instead of the model provided at the above link\n"
      ]
    },
    {
      "cell_type": "markdown",
      "id": "76bf51ac-815d-4762-9b53-350b7316fd00",
      "metadata": {
        "id": "76bf51ac-815d-4762-9b53-350b7316fd00"
      },
      "source": [
        "## Save and download the notebook for **final project** submission and evaluation\n",
        "\n",
        "You will need to save and download the completed notebook for final project submission and evaluation.\n",
        "<br>For saving and downloading the completed notebook, please follow the steps given below:</br>\n",
        "\n",
        "<font size = 4>  \n",
        "\n",
        "1) **Complete** all the tasks and questions given in the notebook.\n",
        "\n",
        "<img src=\"https://cf-courses-data.s3.us.cloud-object-storage.appdomain.cloud/nv4jHlPU5_R1q7ZJrZ69eg/DL0321EN-M1L1-Save-IPYNB-Screenshot-1.png\" style=\"width:600px; border:0px solid black;\">\n",
        "\n",
        "2) **Save** the notebook.</style>\n",
        "<img src=\"https://cf-courses-data.s3.us.cloud-object-storage.appdomain.cloud/9-WPWD4mW1d-RV5Il5otTg/DL0321EN-M1L1-Save-IPYNB-Screenshot-2.png\" style=\"width:600px; border:0px solid black;\">\n",
        "\n",
        "3) Identify and right click on the **correct notebook file** in the left pane.</style>\n",
        "<img src=\"https://cf-courses-data.s3.us.cloud-object-storage.appdomain.cloud/RUSRPw7NT6Sof94B7-9naQ/DL0321EN-M1L1-Save-IPYNB-Screenshot-3.png\" style=\"width:600px; border:0px solid black;\">\n",
        "\n",
        "4) Click on **Download**.</style>\n",
        "<img src=\"https://cf-courses-data.s3.us.cloud-object-storage.appdomain.cloud/HHry4GT-vhLEcRi1T_LHGg/DL0321EN-M1L1-Save-IPYNB-Screenshot-4.png\" style=\"width:600px; border:0px solid black;\">\n",
        "\n",
        "5) Download and **Save** the Jupyter notebook file on your computer **for final submission**.</style>\n",
        "<img src=\"https://cf-courses-data.s3.us.cloud-object-storage.appdomain.cloud/hhsJbxc6R-T8_pXQGjMjvg/DL0321EN-M1L1-Save-IPYNB-Screenshot-5.png\" style=\"width:600px; border:0px solid black;\">\n",
        "  </font>\n"
      ]
    },
    {
      "cell_type": "markdown",
      "id": "f7c4ff47-d95c-400f-ae87-56ca79b2ba98",
      "metadata": {
        "id": "f7c4ff47-d95c-400f-ae87-56ca79b2ba98"
      },
      "source": [
        "## Conclusion\n",
        "\n",
        "Congratulations! You've successfully built a PyTorch-based hybrid Convolutional Neural Network (CNN) and Vision Transformer (ViT) for image classification.\n"
      ]
    },
    {
      "cell_type": "markdown",
      "id": "aca5057e-a8f6-478d-8639-fd70fee4f8eb",
      "metadata": {
        "id": "aca5057e-a8f6-478d-8639-fd70fee4f8eb"
      },
      "source": [
        "<h2>Author</h2>\n",
        "\n",
        "[Aman Aggarwal](https://www.linkedin.com/in/aggarwal-aman)\n",
        "\n",
        "Aman Aggarwal is a PhD working at the intersection of neuroscience, AI, and drug discovery. He specializes in quantitative microscopy and image processing.\n",
        "\n"
      ]
    },
    {
      "cell_type": "markdown",
      "id": "e075dc2f-6ffa-45a6-b2d8-860217305244",
      "metadata": {
        "id": "e075dc2f-6ffa-45a6-b2d8-860217305244"
      },
      "source": [
        "<!--\n",
        "## Change Log\n",
        "\n",
        "|  Date (YYYY-MM-DD) |  Version | Changed By  |  Change Description |\n",
        "|---|---|---|---|\n",
        "| 2025-07-24  | 1.0  | Aman  |  Created the lab |\n",
        "| 2025-07-24  | 1.1  | Leah Hanson  | QA reviewed for IBM style guide adherence |\n",
        "\n",
        "-->\n"
      ]
    },
    {
      "cell_type": "markdown",
      "id": "917371aa-f1b6-469e-b57f-cbb963d3eef7",
      "metadata": {
        "id": "917371aa-f1b6-469e-b57f-cbb963d3eef7"
      },
      "source": [
        "© Copyright IBM Corporation. All rights reserved.\n"
      ]
    }
  ],
  "metadata": {
    "kernelspec": {
      "display_name": "Python 3",
      "name": "python3"
    },
    "language_info": {
      "codemirror_mode": {
        "name": "ipython",
        "version": 3
      },
      "file_extension": ".py",
      "mimetype": "text/x-python",
      "name": "python",
      "nbconvert_exporter": "python",
      "pygments_lexer": "ipython3",
      "version": "3.12.8"
    },
    "prev_pub_hash": "f0dea1a5e35c6b59072e2b8a2c9dc307c5a070ec71f9e3ad164ad00fb468a867",
    "colab": {
      "provenance": [],
      "gpuType": "T4"
    },
    "accelerator": "GPU",
    "widgets": {
      "application/vnd.jupyter.widget-state+json": {
        "201a168a4d9b4fce92a09886e5650c70": {
          "model_module": "@jupyter-widgets/controls",
          "model_name": "HBoxModel",
          "model_module_version": "1.5.0",
          "state": {
            "_dom_classes": [],
            "_model_module": "@jupyter-widgets/controls",
            "_model_module_version": "1.5.0",
            "_model_name": "HBoxModel",
            "_view_count": null,
            "_view_module": "@jupyter-widgets/controls",
            "_view_module_version": "1.5.0",
            "_view_name": "HBoxView",
            "box_style": "",
            "children": [
              "IPY_MODEL_1a9972379146472a9e1a4e6dabd85a8c",
              "IPY_MODEL_a0ed9bfa43c94d6fbfde5505ff53b55a",
              "IPY_MODEL_141005eb4a874ff9a68a11a84b3d8d6c"
            ],
            "layout": "IPY_MODEL_15096fa76a4949ec9e28c8c54768f3d4"
          }
        },
        "1a9972379146472a9e1a4e6dabd85a8c": {
          "model_module": "@jupyter-widgets/controls",
          "model_name": "HTMLModel",
          "model_module_version": "1.5.0",
          "state": {
            "_dom_classes": [],
            "_model_module": "@jupyter-widgets/controls",
            "_model_module_version": "1.5.0",
            "_model_name": "HTMLModel",
            "_view_count": null,
            "_view_module": "@jupyter-widgets/controls",
            "_view_module_version": "1.5.0",
            "_view_name": "HTMLView",
            "description": "",
            "description_tooltip": null,
            "layout": "IPY_MODEL_63ebbeda5bdd4d79a337411fee8dc8b5",
            "placeholder": "​",
            "style": "IPY_MODEL_6dca6ecb76884bc8bc23068376404942",
            "value": "Downloading images-dataSAT.tar: 100%"
          }
        },
        "a0ed9bfa43c94d6fbfde5505ff53b55a": {
          "model_module": "@jupyter-widgets/controls",
          "model_name": "FloatProgressModel",
          "model_module_version": "1.5.0",
          "state": {
            "_dom_classes": [],
            "_model_module": "@jupyter-widgets/controls",
            "_model_module_version": "1.5.0",
            "_model_name": "FloatProgressModel",
            "_view_count": null,
            "_view_module": "@jupyter-widgets/controls",
            "_view_module_version": "1.5.0",
            "_view_name": "ProgressView",
            "bar_style": "success",
            "description": "",
            "description_tooltip": null,
            "layout": "IPY_MODEL_f6be5d8d1c4546daaf4d48b24a0a829f",
            "max": 20243456,
            "min": 0,
            "orientation": "horizontal",
            "style": "IPY_MODEL_3060c804f2fb48989795bbf696a37ddd",
            "value": 20243456
          }
        },
        "141005eb4a874ff9a68a11a84b3d8d6c": {
          "model_module": "@jupyter-widgets/controls",
          "model_name": "HTMLModel",
          "model_module_version": "1.5.0",
          "state": {
            "_dom_classes": [],
            "_model_module": "@jupyter-widgets/controls",
            "_model_module_version": "1.5.0",
            "_model_name": "HTMLModel",
            "_view_count": null,
            "_view_module": "@jupyter-widgets/controls",
            "_view_module_version": "1.5.0",
            "_view_name": "HTMLView",
            "description": "",
            "description_tooltip": null,
            "layout": "IPY_MODEL_efb2dca193c740969d3829c052cb816b",
            "placeholder": "​",
            "style": "IPY_MODEL_3904738261c343448f5a3cd2f30afb5c",
            "value": " 20243456/20243456 [00:00&lt;00:00, 43454657.27it/s]"
          }
        },
        "15096fa76a4949ec9e28c8c54768f3d4": {
          "model_module": "@jupyter-widgets/base",
          "model_name": "LayoutModel",
          "model_module_version": "1.2.0",
          "state": {
            "_model_module": "@jupyter-widgets/base",
            "_model_module_version": "1.2.0",
            "_model_name": "LayoutModel",
            "_view_count": null,
            "_view_module": "@jupyter-widgets/base",
            "_view_module_version": "1.2.0",
            "_view_name": "LayoutView",
            "align_content": null,
            "align_items": null,
            "align_self": null,
            "border": null,
            "bottom": null,
            "display": null,
            "flex": null,
            "flex_flow": null,
            "grid_area": null,
            "grid_auto_columns": null,
            "grid_auto_flow": null,
            "grid_auto_rows": null,
            "grid_column": null,
            "grid_gap": null,
            "grid_row": null,
            "grid_template_areas": null,
            "grid_template_columns": null,
            "grid_template_rows": null,
            "height": null,
            "justify_content": null,
            "justify_items": null,
            "left": null,
            "margin": null,
            "max_height": null,
            "max_width": null,
            "min_height": null,
            "min_width": null,
            "object_fit": null,
            "object_position": null,
            "order": null,
            "overflow": null,
            "overflow_x": null,
            "overflow_y": null,
            "padding": null,
            "right": null,
            "top": null,
            "visibility": null,
            "width": null
          }
        },
        "63ebbeda5bdd4d79a337411fee8dc8b5": {
          "model_module": "@jupyter-widgets/base",
          "model_name": "LayoutModel",
          "model_module_version": "1.2.0",
          "state": {
            "_model_module": "@jupyter-widgets/base",
            "_model_module_version": "1.2.0",
            "_model_name": "LayoutModel",
            "_view_count": null,
            "_view_module": "@jupyter-widgets/base",
            "_view_module_version": "1.2.0",
            "_view_name": "LayoutView",
            "align_content": null,
            "align_items": null,
            "align_self": null,
            "border": null,
            "bottom": null,
            "display": null,
            "flex": null,
            "flex_flow": null,
            "grid_area": null,
            "grid_auto_columns": null,
            "grid_auto_flow": null,
            "grid_auto_rows": null,
            "grid_column": null,
            "grid_gap": null,
            "grid_row": null,
            "grid_template_areas": null,
            "grid_template_columns": null,
            "grid_template_rows": null,
            "height": null,
            "justify_content": null,
            "justify_items": null,
            "left": null,
            "margin": null,
            "max_height": null,
            "max_width": null,
            "min_height": null,
            "min_width": null,
            "object_fit": null,
            "object_position": null,
            "order": null,
            "overflow": null,
            "overflow_x": null,
            "overflow_y": null,
            "padding": null,
            "right": null,
            "top": null,
            "visibility": null,
            "width": null
          }
        },
        "6dca6ecb76884bc8bc23068376404942": {
          "model_module": "@jupyter-widgets/controls",
          "model_name": "DescriptionStyleModel",
          "model_module_version": "1.5.0",
          "state": {
            "_model_module": "@jupyter-widgets/controls",
            "_model_module_version": "1.5.0",
            "_model_name": "DescriptionStyleModel",
            "_view_count": null,
            "_view_module": "@jupyter-widgets/base",
            "_view_module_version": "1.2.0",
            "_view_name": "StyleView",
            "description_width": ""
          }
        },
        "f6be5d8d1c4546daaf4d48b24a0a829f": {
          "model_module": "@jupyter-widgets/base",
          "model_name": "LayoutModel",
          "model_module_version": "1.2.0",
          "state": {
            "_model_module": "@jupyter-widgets/base",
            "_model_module_version": "1.2.0",
            "_model_name": "LayoutModel",
            "_view_count": null,
            "_view_module": "@jupyter-widgets/base",
            "_view_module_version": "1.2.0",
            "_view_name": "LayoutView",
            "align_content": null,
            "align_items": null,
            "align_self": null,
            "border": null,
            "bottom": null,
            "display": null,
            "flex": null,
            "flex_flow": null,
            "grid_area": null,
            "grid_auto_columns": null,
            "grid_auto_flow": null,
            "grid_auto_rows": null,
            "grid_column": null,
            "grid_gap": null,
            "grid_row": null,
            "grid_template_areas": null,
            "grid_template_columns": null,
            "grid_template_rows": null,
            "height": null,
            "justify_content": null,
            "justify_items": null,
            "left": null,
            "margin": null,
            "max_height": null,
            "max_width": null,
            "min_height": null,
            "min_width": null,
            "object_fit": null,
            "object_position": null,
            "order": null,
            "overflow": null,
            "overflow_x": null,
            "overflow_y": null,
            "padding": null,
            "right": null,
            "top": null,
            "visibility": null,
            "width": null
          }
        },
        "3060c804f2fb48989795bbf696a37ddd": {
          "model_module": "@jupyter-widgets/controls",
          "model_name": "ProgressStyleModel",
          "model_module_version": "1.5.0",
          "state": {
            "_model_module": "@jupyter-widgets/controls",
            "_model_module_version": "1.5.0",
            "_model_name": "ProgressStyleModel",
            "_view_count": null,
            "_view_module": "@jupyter-widgets/base",
            "_view_module_version": "1.2.0",
            "_view_name": "StyleView",
            "bar_color": null,
            "description_width": ""
          }
        },
        "efb2dca193c740969d3829c052cb816b": {
          "model_module": "@jupyter-widgets/base",
          "model_name": "LayoutModel",
          "model_module_version": "1.2.0",
          "state": {
            "_model_module": "@jupyter-widgets/base",
            "_model_module_version": "1.2.0",
            "_model_name": "LayoutModel",
            "_view_count": null,
            "_view_module": "@jupyter-widgets/base",
            "_view_module_version": "1.2.0",
            "_view_name": "LayoutView",
            "align_content": null,
            "align_items": null,
            "align_self": null,
            "border": null,
            "bottom": null,
            "display": null,
            "flex": null,
            "flex_flow": null,
            "grid_area": null,
            "grid_auto_columns": null,
            "grid_auto_flow": null,
            "grid_auto_rows": null,
            "grid_column": null,
            "grid_gap": null,
            "grid_row": null,
            "grid_template_areas": null,
            "grid_template_columns": null,
            "grid_template_rows": null,
            "height": null,
            "justify_content": null,
            "justify_items": null,
            "left": null,
            "margin": null,
            "max_height": null,
            "max_width": null,
            "min_height": null,
            "min_width": null,
            "object_fit": null,
            "object_position": null,
            "order": null,
            "overflow": null,
            "overflow_x": null,
            "overflow_y": null,
            "padding": null,
            "right": null,
            "top": null,
            "visibility": null,
            "width": null
          }
        },
        "3904738261c343448f5a3cd2f30afb5c": {
          "model_module": "@jupyter-widgets/controls",
          "model_name": "DescriptionStyleModel",
          "model_module_version": "1.5.0",
          "state": {
            "_model_module": "@jupyter-widgets/controls",
            "_model_module_version": "1.5.0",
            "_model_name": "DescriptionStyleModel",
            "_view_count": null,
            "_view_module": "@jupyter-widgets/base",
            "_view_module_version": "1.2.0",
            "_view_name": "StyleView",
            "description_width": ""
          }
        },
        "59a41160884342678f298d96d308acfe": {
          "model_module": "@jupyter-widgets/controls",
          "model_name": "HBoxModel",
          "model_module_version": "1.5.0",
          "state": {
            "_dom_classes": [],
            "_model_module": "@jupyter-widgets/controls",
            "_model_module_version": "1.5.0",
            "_model_name": "HBoxModel",
            "_view_count": null,
            "_view_module": "@jupyter-widgets/controls",
            "_view_module_version": "1.5.0",
            "_view_name": "HBoxView",
            "box_style": "",
            "children": [
              "IPY_MODEL_16e0652d6601431bbeab3c5c6ef39a9c",
              "IPY_MODEL_56594519193547be9cf431df12968548",
              "IPY_MODEL_2e0b10fac2d14951bf4e8287189ced40"
            ],
            "layout": "IPY_MODEL_60138bdfa87d47a681e896f45f3313b3"
          }
        },
        "16e0652d6601431bbeab3c5c6ef39a9c": {
          "model_module": "@jupyter-widgets/controls",
          "model_name": "HTMLModel",
          "model_module_version": "1.5.0",
          "state": {
            "_dom_classes": [],
            "_model_module": "@jupyter-widgets/controls",
            "_model_module_version": "1.5.0",
            "_model_name": "HTMLModel",
            "_view_count": null,
            "_view_module": "@jupyter-widgets/controls",
            "_view_module_version": "1.5.0",
            "_view_name": "HTMLView",
            "description": "",
            "description_tooltip": null,
            "layout": "IPY_MODEL_754110b315274fcbab5df41cb4ce5820",
            "placeholder": "​",
            "style": "IPY_MODEL_b48b16611f2d4525b81eee4ff44753fc",
            "value": "Extracting images-dataSAT.tar: 100%"
          }
        },
        "56594519193547be9cf431df12968548": {
          "model_module": "@jupyter-widgets/controls",
          "model_name": "FloatProgressModel",
          "model_module_version": "1.5.0",
          "state": {
            "_dom_classes": [],
            "_model_module": "@jupyter-widgets/controls",
            "_model_module_version": "1.5.0",
            "_model_name": "FloatProgressModel",
            "_view_count": null,
            "_view_module": "@jupyter-widgets/controls",
            "_view_module_version": "1.5.0",
            "_view_name": "ProgressView",
            "bar_style": "success",
            "description": "",
            "description_tooltip": null,
            "layout": "IPY_MODEL_a312af3cb9d74009a70a54ba0fe89835",
            "max": 6003,
            "min": 0,
            "orientation": "horizontal",
            "style": "IPY_MODEL_abc76b06b02e47af88e8f140522c1eb4",
            "value": 6003
          }
        },
        "2e0b10fac2d14951bf4e8287189ced40": {
          "model_module": "@jupyter-widgets/controls",
          "model_name": "HTMLModel",
          "model_module_version": "1.5.0",
          "state": {
            "_dom_classes": [],
            "_model_module": "@jupyter-widgets/controls",
            "_model_module_version": "1.5.0",
            "_model_name": "HTMLModel",
            "_view_count": null,
            "_view_module": "@jupyter-widgets/controls",
            "_view_module_version": "1.5.0",
            "_view_name": "HTMLView",
            "description": "",
            "description_tooltip": null,
            "layout": "IPY_MODEL_50180f6315dc42fba785dac31eb9ef6d",
            "placeholder": "​",
            "style": "IPY_MODEL_c424aead85434cd2ac47bccede260e07",
            "value": " 6003/6003 [00:00&lt;00:00, 10706.68it/s]"
          }
        },
        "60138bdfa87d47a681e896f45f3313b3": {
          "model_module": "@jupyter-widgets/base",
          "model_name": "LayoutModel",
          "model_module_version": "1.2.0",
          "state": {
            "_model_module": "@jupyter-widgets/base",
            "_model_module_version": "1.2.0",
            "_model_name": "LayoutModel",
            "_view_count": null,
            "_view_module": "@jupyter-widgets/base",
            "_view_module_version": "1.2.0",
            "_view_name": "LayoutView",
            "align_content": null,
            "align_items": null,
            "align_self": null,
            "border": null,
            "bottom": null,
            "display": null,
            "flex": null,
            "flex_flow": null,
            "grid_area": null,
            "grid_auto_columns": null,
            "grid_auto_flow": null,
            "grid_auto_rows": null,
            "grid_column": null,
            "grid_gap": null,
            "grid_row": null,
            "grid_template_areas": null,
            "grid_template_columns": null,
            "grid_template_rows": null,
            "height": null,
            "justify_content": null,
            "justify_items": null,
            "left": null,
            "margin": null,
            "max_height": null,
            "max_width": null,
            "min_height": null,
            "min_width": null,
            "object_fit": null,
            "object_position": null,
            "order": null,
            "overflow": null,
            "overflow_x": null,
            "overflow_y": null,
            "padding": null,
            "right": null,
            "top": null,
            "visibility": null,
            "width": null
          }
        },
        "754110b315274fcbab5df41cb4ce5820": {
          "model_module": "@jupyter-widgets/base",
          "model_name": "LayoutModel",
          "model_module_version": "1.2.0",
          "state": {
            "_model_module": "@jupyter-widgets/base",
            "_model_module_version": "1.2.0",
            "_model_name": "LayoutModel",
            "_view_count": null,
            "_view_module": "@jupyter-widgets/base",
            "_view_module_version": "1.2.0",
            "_view_name": "LayoutView",
            "align_content": null,
            "align_items": null,
            "align_self": null,
            "border": null,
            "bottom": null,
            "display": null,
            "flex": null,
            "flex_flow": null,
            "grid_area": null,
            "grid_auto_columns": null,
            "grid_auto_flow": null,
            "grid_auto_rows": null,
            "grid_column": null,
            "grid_gap": null,
            "grid_row": null,
            "grid_template_areas": null,
            "grid_template_columns": null,
            "grid_template_rows": null,
            "height": null,
            "justify_content": null,
            "justify_items": null,
            "left": null,
            "margin": null,
            "max_height": null,
            "max_width": null,
            "min_height": null,
            "min_width": null,
            "object_fit": null,
            "object_position": null,
            "order": null,
            "overflow": null,
            "overflow_x": null,
            "overflow_y": null,
            "padding": null,
            "right": null,
            "top": null,
            "visibility": null,
            "width": null
          }
        },
        "b48b16611f2d4525b81eee4ff44753fc": {
          "model_module": "@jupyter-widgets/controls",
          "model_name": "DescriptionStyleModel",
          "model_module_version": "1.5.0",
          "state": {
            "_model_module": "@jupyter-widgets/controls",
            "_model_module_version": "1.5.0",
            "_model_name": "DescriptionStyleModel",
            "_view_count": null,
            "_view_module": "@jupyter-widgets/base",
            "_view_module_version": "1.2.0",
            "_view_name": "StyleView",
            "description_width": ""
          }
        },
        "a312af3cb9d74009a70a54ba0fe89835": {
          "model_module": "@jupyter-widgets/base",
          "model_name": "LayoutModel",
          "model_module_version": "1.2.0",
          "state": {
            "_model_module": "@jupyter-widgets/base",
            "_model_module_version": "1.2.0",
            "_model_name": "LayoutModel",
            "_view_count": null,
            "_view_module": "@jupyter-widgets/base",
            "_view_module_version": "1.2.0",
            "_view_name": "LayoutView",
            "align_content": null,
            "align_items": null,
            "align_self": null,
            "border": null,
            "bottom": null,
            "display": null,
            "flex": null,
            "flex_flow": null,
            "grid_area": null,
            "grid_auto_columns": null,
            "grid_auto_flow": null,
            "grid_auto_rows": null,
            "grid_column": null,
            "grid_gap": null,
            "grid_row": null,
            "grid_template_areas": null,
            "grid_template_columns": null,
            "grid_template_rows": null,
            "height": null,
            "justify_content": null,
            "justify_items": null,
            "left": null,
            "margin": null,
            "max_height": null,
            "max_width": null,
            "min_height": null,
            "min_width": null,
            "object_fit": null,
            "object_position": null,
            "order": null,
            "overflow": null,
            "overflow_x": null,
            "overflow_y": null,
            "padding": null,
            "right": null,
            "top": null,
            "visibility": null,
            "width": null
          }
        },
        "abc76b06b02e47af88e8f140522c1eb4": {
          "model_module": "@jupyter-widgets/controls",
          "model_name": "ProgressStyleModel",
          "model_module_version": "1.5.0",
          "state": {
            "_model_module": "@jupyter-widgets/controls",
            "_model_module_version": "1.5.0",
            "_model_name": "ProgressStyleModel",
            "_view_count": null,
            "_view_module": "@jupyter-widgets/base",
            "_view_module_version": "1.2.0",
            "_view_name": "StyleView",
            "bar_color": null,
            "description_width": ""
          }
        },
        "50180f6315dc42fba785dac31eb9ef6d": {
          "model_module": "@jupyter-widgets/base",
          "model_name": "LayoutModel",
          "model_module_version": "1.2.0",
          "state": {
            "_model_module": "@jupyter-widgets/base",
            "_model_module_version": "1.2.0",
            "_model_name": "LayoutModel",
            "_view_count": null,
            "_view_module": "@jupyter-widgets/base",
            "_view_module_version": "1.2.0",
            "_view_name": "LayoutView",
            "align_content": null,
            "align_items": null,
            "align_self": null,
            "border": null,
            "bottom": null,
            "display": null,
            "flex": null,
            "flex_flow": null,
            "grid_area": null,
            "grid_auto_columns": null,
            "grid_auto_flow": null,
            "grid_auto_rows": null,
            "grid_column": null,
            "grid_gap": null,
            "grid_row": null,
            "grid_template_areas": null,
            "grid_template_columns": null,
            "grid_template_rows": null,
            "height": null,
            "justify_content": null,
            "justify_items": null,
            "left": null,
            "margin": null,
            "max_height": null,
            "max_width": null,
            "min_height": null,
            "min_width": null,
            "object_fit": null,
            "object_position": null,
            "order": null,
            "overflow": null,
            "overflow_x": null,
            "overflow_y": null,
            "padding": null,
            "right": null,
            "top": null,
            "visibility": null,
            "width": null
          }
        },
        "c424aead85434cd2ac47bccede260e07": {
          "model_module": "@jupyter-widgets/controls",
          "model_name": "DescriptionStyleModel",
          "model_module_version": "1.5.0",
          "state": {
            "_model_module": "@jupyter-widgets/controls",
            "_model_module_version": "1.5.0",
            "_model_name": "DescriptionStyleModel",
            "_view_count": null,
            "_view_module": "@jupyter-widgets/base",
            "_view_module_version": "1.2.0",
            "_view_name": "StyleView",
            "description_width": ""
          }
        }
      }
    }
  },
  "nbformat": 4,
  "nbformat_minor": 5
}